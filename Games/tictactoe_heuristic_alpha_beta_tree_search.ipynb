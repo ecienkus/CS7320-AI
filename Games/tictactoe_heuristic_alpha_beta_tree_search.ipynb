{
 "cells": [
  {
   "cell_type": "markdown",
   "metadata": {},
   "source": [
    "# Adversarial Search: Solving Tic-Tac-Toe with Heuristic Alpha-Beta Tree Search"
   ]
  },
  {
   "cell_type": "markdown",
   "metadata": {},
   "source": [
    "## Introduction \n",
    "\n",
    "Multiplayer games can be implemented as:\n",
    "1. Nondeterministic actions: The opponent is seen as part of an environment with nondeterministic actions. Non-determinism is the result of the unknown opponent's moves. \n",
    "2. Optimal Decisions: Minimax search (search complete game tree) and alpha-beta pruning.\n",
    "3. __Heuristic Alpha-Beta Tree Search:__ Cut off tree search and use heuristic to estimate state value. \n",
    "4. Monte Carlo Tree search: Simulate playouts to estimate state value. \n",
    "\n",
    "Here we will implement search for Tic-Tac-Toe (see [rules](https://en.wikipedia.org/wiki/Tic-tac-toe)). The game is a __zero-sum game__: Win by x results in +1, win by o in -1 and a tie has a value of 0. Max plays x and tries to maximize the outcome while Min plays o and tries to minimize the outcome.   \n",
    "\n",
    "We will implement\n",
    "* Heuristic Alpha-Beta Tree Search\n",
    "\n",
    "The algorithms search the game tree and we could return a conditional plan (or partial plan if cut offs are used), but the implementation here only identifies and returns the optimal next move."
   ]
  },
  {
   "cell_type": "markdown",
   "metadata": {},
   "source": [
    "## The board and helper functions\n",
    "\n",
    "I represent the board as a vector of length 9. The values are `' ', 'x', 'o'`.  "
   ]
  },
  {
   "cell_type": "code",
   "execution_count": 3,
   "metadata": {},
   "outputs": [],
   "source": [
    "import numpy as np\n",
    "import math"
   ]
  },
  {
   "cell_type": "code",
   "execution_count": 4,
   "metadata": {},
   "outputs": [],
   "source": [
    "def empty_board():\n",
    "    return [' '] * 9"
   ]
  },
  {
   "cell_type": "markdown",
   "metadata": {},
   "source": [
    "Some helper functions."
   ]
  },
  {
   "cell_type": "code",
   "execution_count": 5,
   "metadata": {},
   "outputs": [],
   "source": [
    "%matplotlib inline\n",
    "%config InlineBackend.figure_format = 'retina'\n",
    "# use higher resolution images in notebook\n",
    "\n",
    "import numpy as np\n",
    "import matplotlib.pyplot as plt\n",
    "from matplotlib.colors import ListedColormap\n",
    "\n",
    "\n",
    "def show_board(board, help = True, dpi = 40, colors = {' ': 'white', 'x': 'red', 'o': 'black'}):\n",
    "    \"\"\"Show the tic-tac-toe-board. help adds the array index, dpi changes the sice and \n",
    "    colors sets the colors\"\"\"\n",
    "    \n",
    "    b = np.array(board).reshape((3,3))\n",
    "\n",
    "    with plt.rc_context({'figure.dpi': dpi}):\n",
    "        fig = plt.matshow(np.zeros((3, 3)), cmap = ListedColormap(['w']))\n",
    "    fig.axes.axis('off')\n",
    "    \n",
    "    plt.hlines([.5, 1.5], -.5, 2.5)\n",
    "    plt.vlines([.5, 1.5], -.5, 2.5)\n",
    "\n",
    "    for row in range(3):\n",
    "        for col in range(3):\n",
    "            plt.text(row, col, b[col, row], \n",
    "                 fontsize = 64, \n",
    "                 color = colors[b[col, row]],\n",
    "                 horizontalalignment = 'center',\n",
    "                 verticalalignment = 'center')\n",
    "        \n",
    "    if help:\n",
    "        for row in range(3):\n",
    "            for col in range(3):\n",
    "                plt.text(col, row - .35, col + 3 * row, \n",
    "                     fontsize = 12, \n",
    "                     color = 'gray',\n",
    "                     horizontalalignment = 'center',\n",
    "                     verticalalignment = 'center')\n",
    "        \n",
    "        \n",
    "    plt.show()"
   ]
  },
  {
   "cell_type": "code",
   "execution_count": 6,
   "metadata": {},
   "outputs": [],
   "source": [
    "def check_win(board):\n",
    "    \"\"\"check the board and return one of x, o, d (draw), or n (for next move)\"\"\"\n",
    "    \n",
    "    board = np.array(board).reshape((3,3))\n",
    "    \n",
    "    diagonals = np.array([[board[i][i] for i in range(len(board))], \n",
    "                          [board[i][len(board)-i-1] for i in range(len(board))]])\n",
    "    \n",
    "    for a_board in [board, np.transpose(board), diagonals]:\n",
    "        for row in a_board:\n",
    "            if len(set(row)) == 1 and row[0] != ' ':\n",
    "                return row[0]\n",
    "    \n",
    "    # check for draw\n",
    "    if(np.sum(board == ' ') < 1):\n",
    "        return 'd'\n",
    "    \n",
    "    return 'n'"
   ]
  },
  {
   "cell_type": "code",
   "execution_count": 7,
   "metadata": {},
   "outputs": [],
   "source": [
    "def actions(board):\n",
    "    \"\"\"return possible actions as a vector ot indices\"\"\"\n",
    "    return np.where(np.array(board) == ' ')[0].tolist()\n",
    "\n",
    "    # randomize the action order\n",
    "    #actions = np.where(np.array(board) == ' ')[0]\n",
    "    #np.random.shuffle(actions)\n",
    "    #return actions.tolist()"
   ]
  },
  {
   "cell_type": "code",
   "execution_count": 8,
   "metadata": {},
   "outputs": [],
   "source": [
    "def other(player): \n",
    "    if player == 'x': return 'o'\n",
    "    else: return 'x'"
   ]
  },
  {
   "cell_type": "code",
   "execution_count": 9,
   "metadata": {},
   "outputs": [],
   "source": [
    "def result(state, player, action):\n",
    "    \"\"\"Add move to the board.\"\"\"\n",
    "    \n",
    "    state = state.copy()\n",
    "    state[action] = player\n",
    "  \n",
    "    return state"
   ]
  },
  {
   "cell_type": "markdown",
   "metadata": {},
   "source": [
    "Return utility for a state. Terminal states return the utility for Max as `+1`, -`1` or `0`. Non-terminal state have no utility and return `None`. Note that I use `utility is not None` to identify terminal states. That is, I use for `is_terminal(s)`."
   ]
  },
  {
   "cell_type": "code",
   "execution_count": 10,
   "metadata": {},
   "outputs": [],
   "source": [
    "def utility(state, player = 'x'):\n",
    "    \"\"\"check is a state is terminal and return the utility if it is. None means not a terminal mode.\"\"\"\n",
    "    goal = check_win(state)        \n",
    "    if goal == player: return +1 \n",
    "    if goal == 'd': return 0  \n",
    "    if goal == other(player): return -1  # loss is failure\n",
    "    return None # continue"
   ]
  },
  {
   "cell_type": "markdown",
   "metadata": {},
   "source": [
    "# Heuristic Alpha-Beta Tree Search\n",
    "\n",
    "See AIMA page 156ff. \n"
   ]
  },
  {
   "cell_type": "markdown",
   "metadata": {},
   "source": [
    "## Heuristic Evaluation Function"
   ]
  },
  {
   "cell_type": "code",
   "execution_count": 11,
   "metadata": {},
   "outputs": [],
   "source": [
    "def eval_fun(state, player = 'x'):\n",
    "    \"\"\"heuristic for utility of state. Returns score for a node:\n",
    "    1. For terminal states it returns the utility. \n",
    "    2. For non-terminal states, it calculates a weighted linear function using features of the state. \n",
    "    The features we look at are 2 in a row/col/diagonal where the 3rd square is empty. We assume that\n",
    "    the more of these positions we have, the higher the chance of winning.\n",
    "    We need to be careful that the utility of the heuristic stays between [-1,1]. \n",
    "    Note that the largest possible number of these positions is 2. I weigh the count by 0.4, \n",
    "    guaranteeing that is in the needed range.\n",
    "    \n",
    "    Function Returns: heuistic value, terminal?\"\"\"\n",
    "    \n",
    "    # terminal state?\n",
    "    u = utility(state, player)\n",
    "    if u is not None: return u, True\n",
    "      \n",
    "    score = 0\n",
    "    board = np.array(state).reshape((3,3))\n",
    "    diagonals = np.array([[board[i][i] for i in range(len(board))], \n",
    "                          [board[i][len(board)-i-1] for i in range(len(board))]])\n",
    "    \n",
    "    for a_board in [board, np.transpose(board), diagonals]:\n",
    "        for row in a_board:\n",
    "            if sum(row == player) == 2 and any(row ==' '): score += .4\n",
    "            if sum(row == other(player)) == 2 and any(row ==' '): score -= .4\n",
    "    \n",
    "    return score, False"
   ]
  },
  {
   "cell_type": "code",
   "execution_count": 12,
   "metadata": {},
   "outputs": [
    {
     "data": {
      "text/plain": "<Figure size 160x160 with 1 Axes>",
      "image/png": "[encoded data removed]"
     },
     "metadata": {
      "image/png": {
       "width": 132,
       "height": 132
      },
      "needs_background": "light"
     },
     "output_type": "display_data"
    },
    {
     "name": "stdout",
     "output_type": "stream",
     "text": [
      "eval for x: (0, False)\n",
      "eval for o: (0, False)\n"
     ]
    },
    {
     "data": {
      "text/plain": "<Figure size 160x160 with 1 Axes>",
      "image/png": "[encoded data removed]"
     },
     "metadata": {
      "image/png": {
       "width": 132,
       "height": 132
      },
      "needs_background": "light"
     },
     "output_type": "display_data"
    },
    {
     "name": "stdout",
     "output_type": "stream",
     "text": [
      "eval for x: (1, True)\n",
      "eval for o: (-1, True)\n"
     ]
    },
    {
     "data": {
      "text/plain": "<Figure size 160x160 with 1 Axes>",
      "image/png": "[encoded data removed]"
     },
     "metadata": {
      "image/png": {
       "width": 132,
       "height": 132
      },
      "needs_background": "light"
     },
     "output_type": "display_data"
    },
    {
     "name": "stdout",
     "output_type": "stream",
     "text": [
      "eval for x: (0.8, False)\n",
      "eval for o: (-0.8, False)\n"
     ]
    },
    {
     "data": {
      "text/plain": "<Figure size 160x160 with 1 Axes>",
      "image/png": "[encoded data removed]"
     },
     "metadata": {
      "image/png": {
       "width": 132,
       "height": 132
      },
      "needs_background": "light"
     },
     "output_type": "display_data"
    },
    {
     "name": "stdout",
     "output_type": "stream",
     "text": [
      "eval for x: (0.0, False)\n",
      "eval for o: (0.0, False)\n"
     ]
    }
   ],
   "source": [
    "board = empty_board() \n",
    "show_board(board)\n",
    "print(f\"eval for x: {eval_fun(board)}\")\n",
    "print(f\"eval for o: {eval_fun(board, 'o')}\")\n",
    "\n",
    "board = empty_board() \n",
    "board[0] = 'x'\n",
    "board[1] = 'x'\n",
    "board[2] = 'x' \n",
    "show_board(board)\n",
    "print(f\"eval for x: {eval_fun(board)}\")\n",
    "print(f\"eval for o: {eval_fun(board, 'o')}\")\n",
    "\n",
    "board = empty_board() \n",
    "board[0] = 'x'\n",
    "board[1] = 'x'\n",
    "board[3] = 'x' \n",
    "board[4] = 'o'\n",
    "board[8] = 'o'\n",
    "show_board(board)\n",
    "print(f\"eval for x: {eval_fun(board)}\")\n",
    "print(f\"eval for o: {eval_fun(board, 'o')}\")\n",
    "\n",
    "board = empty_board() \n",
    "board[0] = 'x'\n",
    "board[1] = 'o'\n",
    "board[3] = 'x' \n",
    "board[4] = 'o'\n",
    "show_board(board)\n",
    "print(f\"eval for x: {eval_fun(board)}\")\n",
    "print(f\"eval for o: {eval_fun(board, 'o')}\")"
   ]
  },
  {
   "cell_type": "markdown",
   "metadata": {},
   "source": [
    "## Search with Cutoff\n",
    "\n",
    "We add a cutoff to the Recursive DFS algorithm for Minimax Search with Alpha-Beta Pruning (see AIMA page 156ff). We use the heuristic evaluation function and the back-up the value using minimax search with alpha-beta pruning to determine the next move."
   ]
  },
  {
   "cell_type": "code",
   "execution_count": 13,
   "metadata": {},
   "outputs": [],
   "source": [
    "# global variables\n",
    "DEBUG = 1 # 1 ... count nodes, 2 ... debug each node\n",
    "COUNT = 0\n",
    "\n",
    "def alpha_beta_search(board, cutoff = None, player = 'x'):\n",
    "    \"\"\"start the search. cutoff = None is minimax search with alpha-beta pruning.\"\"\"\n",
    "    global DEBUG, COUNT\n",
    "    COUNT = 0\n",
    "\n",
    "    value, move = max_value_ab(board, player, -math.inf, +math.inf, 0, cutoff)\n",
    "    \n",
    "    if DEBUG >= 1: print(f\"Number of nodes searched (cutoff = {cutoff}): {COUNT}\") \n",
    "    \n",
    "    return {\"move\": move, \"value\": value}\n",
    "\n",
    "def max_value_ab(state, player, alpha, beta, depth, cutoff):\n",
    "    \"\"\"player's best move.\"\"\"\n",
    "    global DEBUG, COUNT\n",
    "    COUNT += 1\n",
    "    \n",
    "    # cut off and terminal test\n",
    "    v, terminal = eval_fun(state, player)\n",
    "    if((cutoff is not None and depth >= cutoff) or terminal): \n",
    "        if(terminal):\n",
    "            alpha, beta = v, v\n",
    "        if DEBUG >= 2: print(f\"stopped at {depth}: {state} term: {terminal} eval: {v} [{alpha}, {beta}]\" )\n",
    "        return v, None\n",
    "    \n",
    "    v, move = -math.inf, None\n",
    "\n",
    "    # check all possible actions in the state, update alpha and return move with the largest value\n",
    "    for a in actions(state):\n",
    "        v2, a2 = min_value_ab(result(state, player, a), player, alpha, beta, depth + 1, cutoff)\n",
    "        if v2 > v:\n",
    "            v, move = v2, a\n",
    "            alpha = max(alpha, v)\n",
    "        if v >= beta: return v, move\n",
    "    \n",
    "    return v, move\n",
    "\n",
    "def min_value_ab(state, player, alpha, beta, depth, cutoff):\n",
    "    \"\"\"opponent's best response.\"\"\"\n",
    "    global DEBUG, COUNT\n",
    "    COUNT += 1\n",
    "    \n",
    "    # cut off and terminal test\n",
    "    v, terminal = eval_fun(state, player)\n",
    "    if((cutoff is not None and depth >= cutoff) or terminal): \n",
    "        if(terminal): \n",
    "            alpha, beta = v, v\n",
    "        if DEBUG >= 2: print(f\"stopped at {depth}: {state} term: {terminal} eval: {v} [{alpha}, {beta}]\" ) \n",
    "        return v, None\n",
    "    \n",
    "    v, move = +math.inf, None\n",
    "\n",
    "    # check all possible actions in the state, update beta and return move with the smallest value\n",
    "    for a in actions(state):\n",
    "        v2, a2 = max_value_ab(result(state, other(player), a), player, alpha, beta, depth + 1, cutoff)\n",
    "        if v2 < v:\n",
    "            v, move = v2, a\n",
    "            beta = min(beta, v)\n",
    "        if v <= alpha: return v, move\n",
    "    \n",
    "    return v, move"
   ]
  },
  {
   "cell_type": "markdown",
   "metadata": {},
   "source": [
    "## Some Tests\n",
    "\n",
    "### x is about to win (play 8)"
   ]
  },
  {
   "cell_type": "code",
   "execution_count": 14,
   "metadata": {},
   "outputs": [
    {
     "name": "stdout",
     "output_type": "stream",
     "text": [
      "Board:\n"
     ]
    },
    {
     "data": {
      "text/plain": "<Figure size 160x160 with 1 Axes>",
      "image/png": "[encoded data removed]"
     },
     "metadata": {
      "image/png": {
       "width": 132,
       "height": 132
      },
      "needs_background": "light"
     },
     "output_type": "display_data"
    },
    {
     "name": "stdout",
     "output_type": "stream",
     "text": [
      "\n",
      "Number of nodes searched (cutoff = 2): 13\n"
     ]
    },
    {
     "data": {
      "text/plain": "{'move': 8, 'value': 1}"
     },
     "metadata": {},
     "output_type": "display_data"
    },
    {
     "name": "stdout",
     "output_type": "stream",
     "text": [
      "Wall time: 4 ms\n",
      "\n",
      "Number of nodes searched (cutoff = 4): 47\n"
     ]
    },
    {
     "data": {
      "text/plain": "{'move': 2, 'value': 1}"
     },
     "metadata": {},
     "output_type": "display_data"
    },
    {
     "name": "stdout",
     "output_type": "stream",
     "text": [
      "Wall time: 7.62 ms\n",
      "\n",
      "Number of nodes searched (cutoff = None): 61\n"
     ]
    },
    {
     "data": {
      "text/plain": "{'move': 2, 'value': 1}"
     },
     "metadata": {},
     "output_type": "display_data"
    },
    {
     "name": "stdout",
     "output_type": "stream",
     "text": [
      "Wall time: 7.95 ms\n"
     ]
    }
   ],
   "source": [
    "board = empty_board() \n",
    "board[0] = 'x'\n",
    "board[1] = 'o'\n",
    "board[3] = 'o'\n",
    "board[4] = 'x'\n",
    "\n",
    "print(\"Board:\")\n",
    "show_board(board)\n",
    "\n",
    "print()\n",
    "%time display(alpha_beta_search(board, 2))\n",
    "\n",
    "print()\n",
    "%time display(alpha_beta_search(board, 4))\n",
    "\n",
    "print()\n",
    "%time display(alpha_beta_search(board))"
   ]
  },
  {
   "cell_type": "markdown",
   "metadata": {},
   "source": [
    "### o is about to win"
   ]
  },
  {
   "cell_type": "code",
   "execution_count": 15,
   "metadata": {},
   "outputs": [
    {
     "name": "stdout",
     "output_type": "stream",
     "text": [
      "Board:\n"
     ]
    },
    {
     "data": {
      "text/plain": "<Figure size 160x160 with 1 Axes>",
      "image/png": "[encoded data removed]"
     },
     "metadata": {
      "image/png": {
       "width": 132,
       "height": 132
      },
      "needs_background": "light"
     },
     "output_type": "display_data"
    },
    {
     "name": "stdout",
     "output_type": "stream",
     "text": [
      "\n",
      "Number of nodes searched (cutoff = 2): 11\n"
     ]
    },
    {
     "data": {
      "text/plain": "{'move': 2, 'value': -1}"
     },
     "metadata": {},
     "output_type": "display_data"
    },
    {
     "name": "stdout",
     "output_type": "stream",
     "text": [
      "Wall time: 3 ms\n",
      "\n",
      "Number of nodes searched (cutoff = None): 15\n"
     ]
    },
    {
     "data": {
      "text/plain": "{'move': 2, 'value': -1}"
     },
     "metadata": {},
     "output_type": "display_data"
    },
    {
     "name": "stdout",
     "output_type": "stream",
     "text": [
      "Wall time: 3 ms\n"
     ]
    }
   ],
   "source": [
    "board = empty_board() \n",
    "board[0] = 'o'\n",
    "board[1] = 'o'\n",
    "board[3] = 'o'\n",
    "board[4] = 'x'\n",
    "board[8] = 'x'\n",
    "\n",
    "print(\"Board:\")\n",
    "show_board(board)\n",
    "\n",
    "print()\n",
    "%time display(alpha_beta_search(board, 2))\n",
    "print()\n",
    "%time display(alpha_beta_search(board))"
   ]
  },
  {
   "cell_type": "markdown",
   "metadata": {},
   "source": [
    "### x can draw if it chooses 7"
   ]
  },
  {
   "cell_type": "code",
   "execution_count": 16,
   "metadata": {},
   "outputs": [
    {
     "name": "stdout",
     "output_type": "stream",
     "text": [
      "Board:\n"
     ]
    },
    {
     "data": {
      "text/plain": "<Figure size 160x160 with 1 Axes>",
      "image/png": "[encoded data removed]"
     },
     "metadata": {
      "image/png": {
       "width": 132,
       "height": 132
      },
      "needs_background": "light"
     },
     "output_type": "display_data"
    },
    {
     "name": "stdout",
     "output_type": "stream",
     "text": [
      "\n",
      "Number of nodes searched (cutoff = 2): 21\n"
     ]
    },
    {
     "data": {
      "text/plain": "{'move': 7, 'value': -0.4}"
     },
     "metadata": {},
     "output_type": "display_data"
    },
    {
     "name": "stdout",
     "output_type": "stream",
     "text": [
      "Wall time: 5.68 ms\n",
      "\n",
      "Number of nodes searched (cutoff = 4): 81\n"
     ]
    },
    {
     "data": {
      "text/plain": "{'move': 7, 'value': 0}"
     },
     "metadata": {},
     "output_type": "display_data"
    },
    {
     "name": "stdout",
     "output_type": "stream",
     "text": [
      "Wall time: 17 ms\n",
      "\n",
      "Number of nodes searched (cutoff = None): 101\n"
     ]
    },
    {
     "data": {
      "text/plain": "{'move': 7, 'value': 0}"
     },
     "metadata": {},
     "output_type": "display_data"
    },
    {
     "name": "stdout",
     "output_type": "stream",
     "text": [
      "Wall time: 13.3 ms\n"
     ]
    }
   ],
   "source": [
    "board = empty_board() \n",
    "board[0] = 'x'\n",
    "board[1] = 'o'\n",
    "board[2] = 'x'\n",
    "board[4] = 'o'\n",
    "\n",
    "print(\"Board:\")\n",
    "show_board(board)\n",
    "\n",
    "print()\n",
    "%time display(alpha_beta_search(board, 2))\n",
    "print()\n",
    "%time display(alpha_beta_search(board, 4))\n",
    "print()\n",
    "%time display(alpha_beta_search(board))"
   ]
  },
  {
   "cell_type": "markdown",
   "metadata": {},
   "source": [
    "### Empty board: Only a draw an be guaranteed"
   ]
  },
  {
   "cell_type": "code",
   "execution_count": 17,
   "metadata": {
    "tags": []
   },
   "outputs": [
    {
     "name": "stdout",
     "output_type": "stream",
     "text": [
      "Board:\n"
     ]
    },
    {
     "data": {
      "text/plain": "<Figure size 160x160 with 1 Axes>",
      "image/png": "[encoded data removed]"
     },
     "metadata": {
      "image/png": {
       "width": 132,
       "height": 132
      },
      "needs_background": "light"
     },
     "output_type": "display_data"
    },
    {
     "name": "stdout",
     "output_type": "stream",
     "text": [
      "\n",
      "Number of nodes searched (cutoff = 2): 26\n"
     ]
    },
    {
     "data": {
      "text/plain": "{'move': 0, 'value': 0}"
     },
     "metadata": {},
     "output_type": "display_data"
    },
    {
     "name": "stdout",
     "output_type": "stream",
     "text": [
      "Wall time: 5.17 ms\n",
      "\n",
      "Number of nodes searched (cutoff = 4): 541\n"
     ]
    },
    {
     "data": {
      "text/plain": "{'move': 4, 'value': 0.0}"
     },
     "metadata": {},
     "output_type": "display_data"
    },
    {
     "name": "stdout",
     "output_type": "stream",
     "text": [
      "Wall time: 90.8 ms\n",
      "\n",
      "Number of nodes searched (cutoff = None): 18297\n"
     ]
    },
    {
     "data": {
      "text/plain": "{'move': 0, 'value': 0}"
     },
     "metadata": {},
     "output_type": "display_data"
    },
    {
     "name": "stdout",
     "output_type": "stream",
     "text": [
      "Wall time: 2.21 s\n"
     ]
    }
   ],
   "source": [
    "board = empty_board() \n",
    "\n",
    "print(\"Board:\")\n",
    "show_board(board)\n",
    "\n",
    "\n",
    "print()\n",
    "%time display(alpha_beta_search(board, 2))\n",
    "print()\n",
    "%time display(alpha_beta_search(board, 4))\n",
    "print()\n",
    "%time display(alpha_beta_search(board))"
   ]
  },
  {
   "cell_type": "markdown",
   "metadata": {},
   "source": [
    "### A bad situation"
   ]
  },
  {
   "cell_type": "code",
   "execution_count": 18,
   "metadata": {
    "tags": []
   },
   "outputs": [
    {
     "name": "stdout",
     "output_type": "stream",
     "text": [
      "Board:\n"
     ]
    },
    {
     "data": {
      "text/plain": "<Figure size 160x160 with 1 Axes>",
      "image/png": "[encoded data removed]"
     },
     "metadata": {
      "image/png": {
       "width": 132,
       "height": 132
      },
      "needs_background": "light"
     },
     "output_type": "display_data"
    },
    {
     "name": "stdout",
     "output_type": "stream",
     "text": [
      "\n",
      "Number of nodes searched (cutoff = 2): 29\n"
     ]
    },
    {
     "data": {
      "text/plain": "{'move': 4, 'value': -0.8}"
     },
     "metadata": {},
     "output_type": "display_data"
    },
    {
     "name": "stdout",
     "output_type": "stream",
     "text": [
      "Wall time: 8.41 ms\n",
      "\n",
      "Number of nodes searched (cutoff = 4): 148\n"
     ]
    },
    {
     "data": {
      "text/plain": "{'move': 1, 'value': -1}"
     },
     "metadata": {},
     "output_type": "display_data"
    },
    {
     "name": "stdout",
     "output_type": "stream",
     "text": [
      "Wall time: 29.4 ms\n",
      "\n",
      "Number of nodes searched (cutoff = None): 238\n"
     ]
    },
    {
     "data": {
      "text/plain": "{'move': 1, 'value': -1}"
     },
     "metadata": {},
     "output_type": "display_data"
    },
    {
     "name": "stdout",
     "output_type": "stream",
     "text": [
      "Wall time: 36.2 ms\n"
     ]
    }
   ],
   "source": [
    "board = empty_board() \n",
    "board[0] = 'o'\n",
    "board[2] = 'x'\n",
    "board[8] = 'o'\n",
    "\n",
    "print(\"Board:\")\n",
    "show_board(board)\n",
    "\n",
    "print()\n",
    "%time display(alpha_beta_search(board, 2))\n",
    "print()\n",
    "%time display(alpha_beta_search(board, 4))\n",
    "print()\n",
    "%time display(alpha_beta_search(board))"
   ]
  },
  {
   "cell_type": "markdown",
   "metadata": {},
   "source": [
    "## Experiments\n",
    "\n",
    "\n",
    "### Baseline: Randomized Player\n",
    "\n",
    "A completely randomized player agent should be a weak baseline."
   ]
  },
  {
   "cell_type": "code",
   "execution_count": 19,
   "metadata": {},
   "outputs": [],
   "source": [
    "def random_player(board, player = None):\n",
    "    \"\"\"Simple player that chooses a random empy square. player is unused\"\"\"\n",
    "    return np.random.choice(actions(board))"
   ]
  },
  {
   "cell_type": "markdown",
   "metadata": {},
   "source": [
    "### The Environment\n",
    "\n",
    "Implement the environment that calls the agent. The percept is the board and the action is move."
   ]
  },
  {
   "cell_type": "code",
   "execution_count": 20,
   "metadata": {},
   "outputs": [],
   "source": [
    "DEBUG = 0\n",
    "\n",
    "def switch_player(player, x, o):\n",
    "    if player == 'x':\n",
    "        return 'o', o\n",
    "    else:\n",
    "        return 'x', x\n",
    "\n",
    "def play(x, o, N = 100):\n",
    "    results = {'x': 0, 'o': 0, 'd': 0}\n",
    "    for i in range(N):\n",
    "        board = empty_board()\n",
    "        player, fun = 'x', x\n",
    "        \n",
    "        while True:\n",
    "            a = fun(board, player)\n",
    "            board = result(board, player, a)\n",
    "            \n",
    "            win = check_win(board)\n",
    "            if win != 'n':\n",
    "                if DEBUG >= 1: print(f\"{board} winner: {win}\")\n",
    "                results[win] += 1\n",
    "                break\n",
    "            \n",
    "            player, fun = switch_player(player, x, o)   \n",
    " \n",
    "    return results"
   ]
  },
  {
   "cell_type": "markdown",
   "metadata": {},
   "source": [
    "### Random vs. Random"
   ]
  },
  {
   "cell_type": "code",
   "execution_count": 21,
   "metadata": {
    "tags": []
   },
   "outputs": [
    {
     "data": {
      "text/plain": "{'x': 54, 'o': 32, 'd': 14}"
     },
     "metadata": {},
     "output_type": "display_data"
    },
    {
     "name": "stdout",
     "output_type": "stream",
     "text": [
      "Wall time: 42.2 ms\n"
     ]
    }
   ],
   "source": [
    "%time display(play(random_player, random_player))"
   ]
  },
  {
   "cell_type": "markdown",
   "metadata": {},
   "source": [
    "### Minimax with Alpha-Beta Pruning vs. Random"
   ]
  },
  {
   "cell_type": "code",
   "execution_count": 22,
   "metadata": {
    "tags": []
   },
   "outputs": [
    {
     "name": "stdout",
     "output_type": "stream",
     "text": [
      "heuristic2 vs. random:\n",
      "Number of nodes searched (cutoff = 2): 26\n",
      "Number of nodes searched (cutoff = 2): 37\n",
      "Number of nodes searched (cutoff = 2): 10\n",
      "['x', 'o', 'o', 'x', ' ', ' ', 'x', ' ', ' '] winner: x\n",
      "Number of nodes searched (cutoff = 2): 26\n",
      "Number of nodes searched (cutoff = 2): 26\n",
      "Number of nodes searched (cutoff = 2): 10\n",
      "['x', 'x', 'x', ' ', 'o', ' ', ' ', 'o', ' '] winner: x\n",
      "Number of nodes searched (cutoff = 2): 26\n",
      "Number of nodes searched (cutoff = 2): 27\n",
      "Number of nodes searched (cutoff = 2): 10\n",
      "['x', 'x', 'x', ' ', 'o', ' ', ' ', ' ', 'o'] winner: x\n"
     ]
    },
    {
     "data": {
      "text/plain": "{'x': 3, 'o': 0, 'd': 0}"
     },
     "metadata": {},
     "output_type": "display_data"
    }
   ],
   "source": [
    "def heuristic2_player(board, player = 'x'):\n",
    "    return alpha_beta_search(board, cutoff = 2, player = player)[\"move\"]\n",
    "\n",
    "def heuristic4_player(board, player = 'x'):\n",
    "    return alpha_beta_search(board, cutoff = 4, player = player)[\"move\"]\n",
    "\n",
    "def alpha_beta_player(board, player = 'x'):\n",
    "    return alpha_beta_search(board, cutoff = None, player = player)[\"move\"]\n",
    "\n",
    "DEBUG = 1\n",
    "print(\"heuristic2 vs. random:\")\n",
    "display(play(heuristic2_player, random_player, N = 3))"
   ]
  },
  {
   "cell_type": "code",
   "execution_count": 23,
   "metadata": {},
   "outputs": [
    {
     "name": "stdout",
     "output_type": "stream",
     "text": [
      "heuristic2 vs. random:\n"
     ]
    },
    {
     "data": {
      "text/plain": "{'x': 94, 'o': 0, 'd': 6}"
     },
     "metadata": {},
     "output_type": "display_data"
    },
    {
     "name": "stdout",
     "output_type": "stream",
     "text": [
      "Wall time: 1.25 s\n",
      "heuristic4 vs. random:\n"
     ]
    },
    {
     "ename": "KeyboardInterrupt",
     "evalue": "",
     "output_type": "error",
     "traceback": [
      "\u001B[1;31m---------------------------------------------------------------------------\u001B[0m",
      "\u001B[1;31mKeyboardInterrupt\u001B[0m                         Traceback (most recent call last)",
      "\u001B[1;32m<timed eval>\u001B[0m in \u001B[0;36m<module>\u001B[1;34m\u001B[0m\n",
      "\u001B[1;32m<ipython-input-20-fade98040a30>\u001B[0m in \u001B[0;36mplay\u001B[1;34m(x, o, N)\u001B[0m\n\u001B[0;32m     14\u001B[0m \u001B[1;33m\u001B[0m\u001B[0m\n\u001B[0;32m     15\u001B[0m         \u001B[1;32mwhile\u001B[0m \u001B[1;32mTrue\u001B[0m\u001B[1;33m:\u001B[0m\u001B[1;33m\u001B[0m\u001B[1;33m\u001B[0m\u001B[0m\n\u001B[1;32m---> 16\u001B[1;33m             \u001B[0ma\u001B[0m \u001B[1;33m=\u001B[0m \u001B[0mfun\u001B[0m\u001B[1;33m(\u001B[0m\u001B[0mboard\u001B[0m\u001B[1;33m,\u001B[0m \u001B[0mplayer\u001B[0m\u001B[1;33m)\u001B[0m\u001B[1;33m\u001B[0m\u001B[1;33m\u001B[0m\u001B[0m\n\u001B[0m\u001B[0;32m     17\u001B[0m             \u001B[0mboard\u001B[0m \u001B[1;33m=\u001B[0m \u001B[0mresult\u001B[0m\u001B[1;33m(\u001B[0m\u001B[0mboard\u001B[0m\u001B[1;33m,\u001B[0m \u001B[0mplayer\u001B[0m\u001B[1;33m,\u001B[0m \u001B[0ma\u001B[0m\u001B[1;33m)\u001B[0m\u001B[1;33m\u001B[0m\u001B[1;33m\u001B[0m\u001B[0m\n\u001B[0;32m     18\u001B[0m \u001B[1;33m\u001B[0m\u001B[0m\n",
      "\u001B[1;32m<ipython-input-22-4276a8fedfbf>\u001B[0m in \u001B[0;36mheuristic4_player\u001B[1;34m(board, player)\u001B[0m\n\u001B[0;32m      3\u001B[0m \u001B[1;33m\u001B[0m\u001B[0m\n\u001B[0;32m      4\u001B[0m \u001B[1;32mdef\u001B[0m \u001B[0mheuristic4_player\u001B[0m\u001B[1;33m(\u001B[0m\u001B[0mboard\u001B[0m\u001B[1;33m,\u001B[0m \u001B[0mplayer\u001B[0m \u001B[1;33m=\u001B[0m \u001B[1;34m'x'\u001B[0m\u001B[1;33m)\u001B[0m\u001B[1;33m:\u001B[0m\u001B[1;33m\u001B[0m\u001B[1;33m\u001B[0m\u001B[0m\n\u001B[1;32m----> 5\u001B[1;33m     \u001B[1;32mreturn\u001B[0m \u001B[0malpha_beta_search\u001B[0m\u001B[1;33m(\u001B[0m\u001B[0mboard\u001B[0m\u001B[1;33m,\u001B[0m \u001B[0mcutoff\u001B[0m \u001B[1;33m=\u001B[0m \u001B[1;36m4\u001B[0m\u001B[1;33m,\u001B[0m \u001B[0mplayer\u001B[0m \u001B[1;33m=\u001B[0m \u001B[0mplayer\u001B[0m\u001B[1;33m)\u001B[0m\u001B[1;33m[\u001B[0m\u001B[1;34m\"move\"\u001B[0m\u001B[1;33m]\u001B[0m\u001B[1;33m\u001B[0m\u001B[1;33m\u001B[0m\u001B[0m\n\u001B[0m\u001B[0;32m      6\u001B[0m \u001B[1;33m\u001B[0m\u001B[0m\n\u001B[0;32m      7\u001B[0m \u001B[1;32mdef\u001B[0m \u001B[0malpha_beta_player\u001B[0m\u001B[1;33m(\u001B[0m\u001B[0mboard\u001B[0m\u001B[1;33m,\u001B[0m \u001B[0mplayer\u001B[0m \u001B[1;33m=\u001B[0m \u001B[1;34m'x'\u001B[0m\u001B[1;33m)\u001B[0m\u001B[1;33m:\u001B[0m\u001B[1;33m\u001B[0m\u001B[1;33m\u001B[0m\u001B[0m\n",
      "\u001B[1;32m<ipython-input-13-02ac0da13805>\u001B[0m in \u001B[0;36malpha_beta_search\u001B[1;34m(board, cutoff, player)\u001B[0m\n\u001B[0;32m      8\u001B[0m     \u001B[0mCOUNT\u001B[0m \u001B[1;33m=\u001B[0m \u001B[1;36m0\u001B[0m\u001B[1;33m\u001B[0m\u001B[1;33m\u001B[0m\u001B[0m\n\u001B[0;32m      9\u001B[0m \u001B[1;33m\u001B[0m\u001B[0m\n\u001B[1;32m---> 10\u001B[1;33m     \u001B[0mvalue\u001B[0m\u001B[1;33m,\u001B[0m \u001B[0mmove\u001B[0m \u001B[1;33m=\u001B[0m \u001B[0mmax_value_ab\u001B[0m\u001B[1;33m(\u001B[0m\u001B[0mboard\u001B[0m\u001B[1;33m,\u001B[0m \u001B[0mplayer\u001B[0m\u001B[1;33m,\u001B[0m \u001B[1;33m-\u001B[0m\u001B[0mmath\u001B[0m\u001B[1;33m.\u001B[0m\u001B[0minf\u001B[0m\u001B[1;33m,\u001B[0m \u001B[1;33m+\u001B[0m\u001B[0mmath\u001B[0m\u001B[1;33m.\u001B[0m\u001B[0minf\u001B[0m\u001B[1;33m,\u001B[0m \u001B[1;36m0\u001B[0m\u001B[1;33m,\u001B[0m \u001B[0mcutoff\u001B[0m\u001B[1;33m)\u001B[0m\u001B[1;33m\u001B[0m\u001B[1;33m\u001B[0m\u001B[0m\n\u001B[0m\u001B[0;32m     11\u001B[0m \u001B[1;33m\u001B[0m\u001B[0m\n\u001B[0;32m     12\u001B[0m     \u001B[1;32mif\u001B[0m \u001B[0mDEBUG\u001B[0m \u001B[1;33m>=\u001B[0m \u001B[1;36m1\u001B[0m\u001B[1;33m:\u001B[0m \u001B[0mprint\u001B[0m\u001B[1;33m(\u001B[0m\u001B[1;34mf\"Number of nodes searched (cutoff = {cutoff}): {COUNT}\"\u001B[0m\u001B[1;33m)\u001B[0m\u001B[1;33m\u001B[0m\u001B[1;33m\u001B[0m\u001B[0m\n",
      "\u001B[1;32m<ipython-input-13-02ac0da13805>\u001B[0m in \u001B[0;36mmax_value_ab\u001B[1;34m(state, player, alpha, beta, depth, cutoff)\u001B[0m\n\u001B[0;32m     31\u001B[0m     \u001B[1;31m# check all possible actions in the state, update alpha and return move with the largest value\u001B[0m\u001B[1;33m\u001B[0m\u001B[1;33m\u001B[0m\u001B[1;33m\u001B[0m\u001B[0m\n\u001B[0;32m     32\u001B[0m     \u001B[1;32mfor\u001B[0m \u001B[0ma\u001B[0m \u001B[1;32min\u001B[0m \u001B[0mactions\u001B[0m\u001B[1;33m(\u001B[0m\u001B[0mstate\u001B[0m\u001B[1;33m)\u001B[0m\u001B[1;33m:\u001B[0m\u001B[1;33m\u001B[0m\u001B[1;33m\u001B[0m\u001B[0m\n\u001B[1;32m---> 33\u001B[1;33m         \u001B[0mv2\u001B[0m\u001B[1;33m,\u001B[0m \u001B[0ma2\u001B[0m \u001B[1;33m=\u001B[0m \u001B[0mmin_value_ab\u001B[0m\u001B[1;33m(\u001B[0m\u001B[0mresult\u001B[0m\u001B[1;33m(\u001B[0m\u001B[0mstate\u001B[0m\u001B[1;33m,\u001B[0m \u001B[0mplayer\u001B[0m\u001B[1;33m,\u001B[0m \u001B[0ma\u001B[0m\u001B[1;33m)\u001B[0m\u001B[1;33m,\u001B[0m \u001B[0mplayer\u001B[0m\u001B[1;33m,\u001B[0m \u001B[0malpha\u001B[0m\u001B[1;33m,\u001B[0m \u001B[0mbeta\u001B[0m\u001B[1;33m,\u001B[0m \u001B[0mdepth\u001B[0m \u001B[1;33m+\u001B[0m \u001B[1;36m1\u001B[0m\u001B[1;33m,\u001B[0m \u001B[0mcutoff\u001B[0m\u001B[1;33m)\u001B[0m\u001B[1;33m\u001B[0m\u001B[1;33m\u001B[0m\u001B[0m\n\u001B[0m\u001B[0;32m     34\u001B[0m         \u001B[1;32mif\u001B[0m \u001B[0mv2\u001B[0m \u001B[1;33m>\u001B[0m \u001B[0mv\u001B[0m\u001B[1;33m:\u001B[0m\u001B[1;33m\u001B[0m\u001B[1;33m\u001B[0m\u001B[0m\n\u001B[0;32m     35\u001B[0m             \u001B[0mv\u001B[0m\u001B[1;33m,\u001B[0m \u001B[0mmove\u001B[0m \u001B[1;33m=\u001B[0m \u001B[0mv2\u001B[0m\u001B[1;33m,\u001B[0m \u001B[0ma\u001B[0m\u001B[1;33m\u001B[0m\u001B[1;33m\u001B[0m\u001B[0m\n",
      "\u001B[1;32m<ipython-input-13-02ac0da13805>\u001B[0m in \u001B[0;36mmin_value_ab\u001B[1;34m(state, player, alpha, beta, depth, cutoff)\u001B[0m\n\u001B[0;32m     56\u001B[0m     \u001B[1;31m# check all possible actions in the state, update beta and return move with the smallest value\u001B[0m\u001B[1;33m\u001B[0m\u001B[1;33m\u001B[0m\u001B[1;33m\u001B[0m\u001B[0m\n\u001B[0;32m     57\u001B[0m     \u001B[1;32mfor\u001B[0m \u001B[0ma\u001B[0m \u001B[1;32min\u001B[0m \u001B[0mactions\u001B[0m\u001B[1;33m(\u001B[0m\u001B[0mstate\u001B[0m\u001B[1;33m)\u001B[0m\u001B[1;33m:\u001B[0m\u001B[1;33m\u001B[0m\u001B[1;33m\u001B[0m\u001B[0m\n\u001B[1;32m---> 58\u001B[1;33m         \u001B[0mv2\u001B[0m\u001B[1;33m,\u001B[0m \u001B[0ma2\u001B[0m \u001B[1;33m=\u001B[0m \u001B[0mmax_value_ab\u001B[0m\u001B[1;33m(\u001B[0m\u001B[0mresult\u001B[0m\u001B[1;33m(\u001B[0m\u001B[0mstate\u001B[0m\u001B[1;33m,\u001B[0m \u001B[0mother\u001B[0m\u001B[1;33m(\u001B[0m\u001B[0mplayer\u001B[0m\u001B[1;33m)\u001B[0m\u001B[1;33m,\u001B[0m \u001B[0ma\u001B[0m\u001B[1;33m)\u001B[0m\u001B[1;33m,\u001B[0m \u001B[0mplayer\u001B[0m\u001B[1;33m,\u001B[0m \u001B[0malpha\u001B[0m\u001B[1;33m,\u001B[0m \u001B[0mbeta\u001B[0m\u001B[1;33m,\u001B[0m \u001B[0mdepth\u001B[0m \u001B[1;33m+\u001B[0m \u001B[1;36m1\u001B[0m\u001B[1;33m,\u001B[0m \u001B[0mcutoff\u001B[0m\u001B[1;33m)\u001B[0m\u001B[1;33m\u001B[0m\u001B[1;33m\u001B[0m\u001B[0m\n\u001B[0m\u001B[0;32m     59\u001B[0m         \u001B[1;32mif\u001B[0m \u001B[0mv2\u001B[0m \u001B[1;33m<\u001B[0m \u001B[0mv\u001B[0m\u001B[1;33m:\u001B[0m\u001B[1;33m\u001B[0m\u001B[1;33m\u001B[0m\u001B[0m\n\u001B[0;32m     60\u001B[0m             \u001B[0mv\u001B[0m\u001B[1;33m,\u001B[0m \u001B[0mmove\u001B[0m \u001B[1;33m=\u001B[0m \u001B[0mv2\u001B[0m\u001B[1;33m,\u001B[0m \u001B[0ma\u001B[0m\u001B[1;33m\u001B[0m\u001B[1;33m\u001B[0m\u001B[0m\n",
      "\u001B[1;32m<ipython-input-13-02ac0da13805>\u001B[0m in \u001B[0;36mmax_value_ab\u001B[1;34m(state, player, alpha, beta, depth, cutoff)\u001B[0m\n\u001B[0;32m     31\u001B[0m     \u001B[1;31m# check all possible actions in the state, update alpha and return move with the largest value\u001B[0m\u001B[1;33m\u001B[0m\u001B[1;33m\u001B[0m\u001B[1;33m\u001B[0m\u001B[0m\n\u001B[0;32m     32\u001B[0m     \u001B[1;32mfor\u001B[0m \u001B[0ma\u001B[0m \u001B[1;32min\u001B[0m \u001B[0mactions\u001B[0m\u001B[1;33m(\u001B[0m\u001B[0mstate\u001B[0m\u001B[1;33m)\u001B[0m\u001B[1;33m:\u001B[0m\u001B[1;33m\u001B[0m\u001B[1;33m\u001B[0m\u001B[0m\n\u001B[1;32m---> 33\u001B[1;33m         \u001B[0mv2\u001B[0m\u001B[1;33m,\u001B[0m \u001B[0ma2\u001B[0m \u001B[1;33m=\u001B[0m \u001B[0mmin_value_ab\u001B[0m\u001B[1;33m(\u001B[0m\u001B[0mresult\u001B[0m\u001B[1;33m(\u001B[0m\u001B[0mstate\u001B[0m\u001B[1;33m,\u001B[0m \u001B[0mplayer\u001B[0m\u001B[1;33m,\u001B[0m \u001B[0ma\u001B[0m\u001B[1;33m)\u001B[0m\u001B[1;33m,\u001B[0m \u001B[0mplayer\u001B[0m\u001B[1;33m,\u001B[0m \u001B[0malpha\u001B[0m\u001B[1;33m,\u001B[0m \u001B[0mbeta\u001B[0m\u001B[1;33m,\u001B[0m \u001B[0mdepth\u001B[0m \u001B[1;33m+\u001B[0m \u001B[1;36m1\u001B[0m\u001B[1;33m,\u001B[0m \u001B[0mcutoff\u001B[0m\u001B[1;33m)\u001B[0m\u001B[1;33m\u001B[0m\u001B[1;33m\u001B[0m\u001B[0m\n\u001B[0m\u001B[0;32m     34\u001B[0m         \u001B[1;32mif\u001B[0m \u001B[0mv2\u001B[0m \u001B[1;33m>\u001B[0m \u001B[0mv\u001B[0m\u001B[1;33m:\u001B[0m\u001B[1;33m\u001B[0m\u001B[1;33m\u001B[0m\u001B[0m\n\u001B[0;32m     35\u001B[0m             \u001B[0mv\u001B[0m\u001B[1;33m,\u001B[0m \u001B[0mmove\u001B[0m \u001B[1;33m=\u001B[0m \u001B[0mv2\u001B[0m\u001B[1;33m,\u001B[0m \u001B[0ma\u001B[0m\u001B[1;33m\u001B[0m\u001B[1;33m\u001B[0m\u001B[0m\n",
      "\u001B[1;32m<ipython-input-13-02ac0da13805>\u001B[0m in \u001B[0;36mmin_value_ab\u001B[1;34m(state, player, alpha, beta, depth, cutoff)\u001B[0m\n\u001B[0;32m     56\u001B[0m     \u001B[1;31m# check all possible actions in the state, update beta and return move with the smallest value\u001B[0m\u001B[1;33m\u001B[0m\u001B[1;33m\u001B[0m\u001B[1;33m\u001B[0m\u001B[0m\n\u001B[0;32m     57\u001B[0m     \u001B[1;32mfor\u001B[0m \u001B[0ma\u001B[0m \u001B[1;32min\u001B[0m \u001B[0mactions\u001B[0m\u001B[1;33m(\u001B[0m\u001B[0mstate\u001B[0m\u001B[1;33m)\u001B[0m\u001B[1;33m:\u001B[0m\u001B[1;33m\u001B[0m\u001B[1;33m\u001B[0m\u001B[0m\n\u001B[1;32m---> 58\u001B[1;33m         \u001B[0mv2\u001B[0m\u001B[1;33m,\u001B[0m \u001B[0ma2\u001B[0m \u001B[1;33m=\u001B[0m \u001B[0mmax_value_ab\u001B[0m\u001B[1;33m(\u001B[0m\u001B[0mresult\u001B[0m\u001B[1;33m(\u001B[0m\u001B[0mstate\u001B[0m\u001B[1;33m,\u001B[0m \u001B[0mother\u001B[0m\u001B[1;33m(\u001B[0m\u001B[0mplayer\u001B[0m\u001B[1;33m)\u001B[0m\u001B[1;33m,\u001B[0m \u001B[0ma\u001B[0m\u001B[1;33m)\u001B[0m\u001B[1;33m,\u001B[0m \u001B[0mplayer\u001B[0m\u001B[1;33m,\u001B[0m \u001B[0malpha\u001B[0m\u001B[1;33m,\u001B[0m \u001B[0mbeta\u001B[0m\u001B[1;33m,\u001B[0m \u001B[0mdepth\u001B[0m \u001B[1;33m+\u001B[0m \u001B[1;36m1\u001B[0m\u001B[1;33m,\u001B[0m \u001B[0mcutoff\u001B[0m\u001B[1;33m)\u001B[0m\u001B[1;33m\u001B[0m\u001B[1;33m\u001B[0m\u001B[0m\n\u001B[0m\u001B[0;32m     59\u001B[0m         \u001B[1;32mif\u001B[0m \u001B[0mv2\u001B[0m \u001B[1;33m<\u001B[0m \u001B[0mv\u001B[0m\u001B[1;33m:\u001B[0m\u001B[1;33m\u001B[0m\u001B[1;33m\u001B[0m\u001B[0m\n\u001B[0;32m     60\u001B[0m             \u001B[0mv\u001B[0m\u001B[1;33m,\u001B[0m \u001B[0mmove\u001B[0m \u001B[1;33m=\u001B[0m \u001B[0mv2\u001B[0m\u001B[1;33m,\u001B[0m \u001B[0ma\u001B[0m\u001B[1;33m\u001B[0m\u001B[1;33m\u001B[0m\u001B[0m\n",
      "\u001B[1;32m<ipython-input-13-02ac0da13805>\u001B[0m in \u001B[0;36mmax_value_ab\u001B[1;34m(state, player, alpha, beta, depth, cutoff)\u001B[0m\n\u001B[0;32m     20\u001B[0m \u001B[1;33m\u001B[0m\u001B[0m\n\u001B[0;32m     21\u001B[0m     \u001B[1;31m# cut off and terminal test\u001B[0m\u001B[1;33m\u001B[0m\u001B[1;33m\u001B[0m\u001B[1;33m\u001B[0m\u001B[0m\n\u001B[1;32m---> 22\u001B[1;33m     \u001B[0mv\u001B[0m\u001B[1;33m,\u001B[0m \u001B[0mterminal\u001B[0m \u001B[1;33m=\u001B[0m \u001B[0meval_fun\u001B[0m\u001B[1;33m(\u001B[0m\u001B[0mstate\u001B[0m\u001B[1;33m,\u001B[0m \u001B[0mplayer\u001B[0m\u001B[1;33m)\u001B[0m\u001B[1;33m\u001B[0m\u001B[1;33m\u001B[0m\u001B[0m\n\u001B[0m\u001B[0;32m     23\u001B[0m     \u001B[1;32mif\u001B[0m\u001B[1;33m(\u001B[0m\u001B[1;33m(\u001B[0m\u001B[0mcutoff\u001B[0m \u001B[1;32mis\u001B[0m \u001B[1;32mnot\u001B[0m \u001B[1;32mNone\u001B[0m \u001B[1;32mand\u001B[0m \u001B[0mdepth\u001B[0m \u001B[1;33m>=\u001B[0m \u001B[0mcutoff\u001B[0m\u001B[1;33m)\u001B[0m \u001B[1;32mor\u001B[0m \u001B[0mterminal\u001B[0m\u001B[1;33m)\u001B[0m\u001B[1;33m:\u001B[0m\u001B[1;33m\u001B[0m\u001B[1;33m\u001B[0m\u001B[0m\n\u001B[0;32m     24\u001B[0m         \u001B[1;32mif\u001B[0m\u001B[1;33m(\u001B[0m\u001B[0mterminal\u001B[0m\u001B[1;33m)\u001B[0m\u001B[1;33m:\u001B[0m\u001B[1;33m\u001B[0m\u001B[1;33m\u001B[0m\u001B[0m\n",
      "\u001B[1;32m<ipython-input-11-a50039c60e85>\u001B[0m in \u001B[0;36meval_fun\u001B[1;34m(state, player)\u001B[0m\n\u001B[0;32m     22\u001B[0m     \u001B[1;32mfor\u001B[0m \u001B[0ma_board\u001B[0m \u001B[1;32min\u001B[0m \u001B[1;33m[\u001B[0m\u001B[0mboard\u001B[0m\u001B[1;33m,\u001B[0m \u001B[0mnp\u001B[0m\u001B[1;33m.\u001B[0m\u001B[0mtranspose\u001B[0m\u001B[1;33m(\u001B[0m\u001B[0mboard\u001B[0m\u001B[1;33m)\u001B[0m\u001B[1;33m,\u001B[0m \u001B[0mdiagonals\u001B[0m\u001B[1;33m]\u001B[0m\u001B[1;33m:\u001B[0m\u001B[1;33m\u001B[0m\u001B[1;33m\u001B[0m\u001B[0m\n\u001B[0;32m     23\u001B[0m         \u001B[1;32mfor\u001B[0m \u001B[0mrow\u001B[0m \u001B[1;32min\u001B[0m \u001B[0ma_board\u001B[0m\u001B[1;33m:\u001B[0m\u001B[1;33m\u001B[0m\u001B[1;33m\u001B[0m\u001B[0m\n\u001B[1;32m---> 24\u001B[1;33m             \u001B[1;32mif\u001B[0m \u001B[0msum\u001B[0m\u001B[1;33m(\u001B[0m\u001B[0mrow\u001B[0m \u001B[1;33m==\u001B[0m \u001B[0mplayer\u001B[0m\u001B[1;33m)\u001B[0m \u001B[1;33m==\u001B[0m \u001B[1;36m2\u001B[0m \u001B[1;32mand\u001B[0m \u001B[0many\u001B[0m\u001B[1;33m(\u001B[0m\u001B[0mrow\u001B[0m \u001B[1;33m==\u001B[0m\u001B[1;34m' '\u001B[0m\u001B[1;33m)\u001B[0m\u001B[1;33m:\u001B[0m \u001B[0mscore\u001B[0m \u001B[1;33m+=\u001B[0m \u001B[1;36m.4\u001B[0m\u001B[1;33m\u001B[0m\u001B[1;33m\u001B[0m\u001B[0m\n\u001B[0m\u001B[0;32m     25\u001B[0m             \u001B[1;32mif\u001B[0m \u001B[0msum\u001B[0m\u001B[1;33m(\u001B[0m\u001B[0mrow\u001B[0m \u001B[1;33m==\u001B[0m \u001B[0mother\u001B[0m\u001B[1;33m(\u001B[0m\u001B[0mplayer\u001B[0m\u001B[1;33m)\u001B[0m\u001B[1;33m)\u001B[0m \u001B[1;33m==\u001B[0m \u001B[1;36m2\u001B[0m \u001B[1;32mand\u001B[0m \u001B[0many\u001B[0m\u001B[1;33m(\u001B[0m\u001B[0mrow\u001B[0m \u001B[1;33m==\u001B[0m\u001B[1;34m' '\u001B[0m\u001B[1;33m)\u001B[0m\u001B[1;33m:\u001B[0m \u001B[0mscore\u001B[0m \u001B[1;33m-=\u001B[0m \u001B[1;36m.4\u001B[0m\u001B[1;33m\u001B[0m\u001B[1;33m\u001B[0m\u001B[0m\n\u001B[0;32m     26\u001B[0m \u001B[1;33m\u001B[0m\u001B[0m\n",
      "\u001B[1;31mKeyboardInterrupt\u001B[0m: "
     ]
    },
    {
     "name": "stdout",
     "output_type": "stream",
     "text": [
      "\n",
      "random vs. heuristic2\n"
     ]
    },
    {
     "data": {
      "text/plain": "{'x': 5, 'o': 82, 'd': 13}"
     },
     "metadata": {},
     "output_type": "display_data"
    },
    {
     "name": "stdout",
     "output_type": "stream",
     "text": [
      "Wall time: 1.08 s\n",
      "random vs. heuristic4\n"
     ]
    },
    {
     "data": {
      "text/plain": "{'x': 0, 'o': 80, 'd': 20}"
     },
     "metadata": {},
     "output_type": "display_data"
    },
    {
     "name": "stdout",
     "output_type": "stream",
     "text": [
      "Wall time: 8.01 s\n"
     ]
    }
   ],
   "source": [
    "DEBUG = 0\n",
    "print(\"heuristic2 vs. random:\")\n",
    "%time display(play(heuristic2_player, random_player))\n",
    "\n",
    "print(\"heuristic4 vs. random:\")\n",
    "%time display(play(heuristic4_player, random_player))\n",
    "\n",
    "print()\n",
    "print(\"random vs. heuristic2\")\n",
    "%time display(play(random_player, heuristic2_player))\n",
    "\n",
    "print(\"random vs. heuristic4\")\n",
    "%time display(play(random_player, heuristic4_player))"
   ]
  },
  {
   "cell_type": "markdown",
   "metadata": {},
   "source": [
    "### Heuristic vs. Minimax with Alpha-Beta Pruning"
   ]
  },
  {
   "cell_type": "code",
   "execution_count": 24,
   "metadata": {},
   "outputs": [
    {
     "name": "stdout",
     "output_type": "stream",
     "text": [
      "heuristic2 vs. alpha_beta\n"
     ]
    },
    {
     "data": {
      "text/plain": "{'x': 0, 'o': 0, 'd': 1}"
     },
     "metadata": {},
     "output_type": "display_data"
    },
    {
     "name": "stdout",
     "output_type": "stream",
     "text": [
      "Wall time: 295 ms\n",
      "\n",
      "alpha_beta vs. heuristic2\n"
     ]
    },
    {
     "data": {
      "text/plain": "{'x': 1, 'o': 0, 'd': 0}"
     },
     "metadata": {},
     "output_type": "display_data"
    },
    {
     "name": "stdout",
     "output_type": "stream",
     "text": [
      "Wall time: 2.18 s\n",
      "\n",
      "heuristic4 vs alpha_beta\n"
     ]
    },
    {
     "data": {
      "text/plain": "{'x': 0, 'o': 0, 'd': 1}"
     },
     "metadata": {},
     "output_type": "display_data"
    },
    {
     "name": "stdout",
     "output_type": "stream",
     "text": [
      "Wall time: 447 ms\n",
      "\n",
      "alpha_beta vs. heuristic4\n"
     ]
    },
    {
     "data": {
      "text/plain": "{'x': 0, 'o': 0, 'd': 1}"
     },
     "metadata": {},
     "output_type": "display_data"
    },
    {
     "name": "stdout",
     "output_type": "stream",
     "text": [
      "Wall time: 2.25 s\n"
     ]
    }
   ],
   "source": [
    "DEBUG = 0\n",
    "\n",
    "# Note: No randomness -> play only once\n",
    "\n",
    "print(\"heuristic2 vs. alpha_beta\")\n",
    "%time display(play(heuristic2_player, alpha_beta_player, N = 1))\n",
    "\n",
    "print()\n",
    "print(\"alpha_beta vs. heuristic2\")\n",
    "%time display(play(alpha_beta_player, heuristic2_player, N = 1))\n",
    "\n",
    "print()\n",
    "print(\"heuristic4 vs alpha_beta\")\n",
    "%time display(play(heuristic4_player, alpha_beta_player, N = 1))\n",
    "\n",
    "print()\n",
    "print(\"alpha_beta vs. heuristic4\")\n",
    "%time display(play(alpha_beta_player, heuristic4_player, N = 1))"
   ]
  },
  {
   "cell_type": "markdown",
   "metadata": {},
   "source": [
    "### Heuristic vs. Heuristic"
   ]
  },
  {
   "cell_type": "code",
   "execution_count": 25,
   "metadata": {
    "tags": []
   },
   "outputs": [
    {
     "name": "stdout",
     "output_type": "stream",
     "text": [
      "heuristic2 vs. heuristic4\n"
     ]
    },
    {
     "data": {
      "text/plain": "{'x': 0, 'o': 0, 'd': 1}"
     },
     "metadata": {},
     "output_type": "display_data"
    },
    {
     "name": "stdout",
     "output_type": "stream",
     "text": [
      "Wall time: 81.7 ms\n",
      "\n",
      "heuristic4 vs. heuristic2\n"
     ]
    },
    {
     "data": {
      "text/plain": "{'x': 0, 'o': 0, 'd': 1}"
     },
     "metadata": {},
     "output_type": "display_data"
    },
    {
     "name": "stdout",
     "output_type": "stream",
     "text": [
      "Wall time: 139 ms\n"
     ]
    }
   ],
   "source": [
    "DEBUG = 0\n",
    "\n",
    "# Note: No randomness -> play only once\n",
    "\n",
    "print(\"heuristic2 vs. heuristic4\")\n",
    "%time display(play(heuristic2_player, heuristic4_player, N = 1))\n",
    "\n",
    "print()\n",
    "print(\"heuristic4 vs. heuristic2\")\n",
    "%time display(play(heuristic4_player, heuristic2_player, N = 1))"
   ]
  },
  {
   "cell_type": "markdown",
   "metadata": {},
   "source": [
    "__Idea:__ Start experiments with different boards that already have a few x's and o's randomly placed on them."
   ]
  }
 ],
 "metadata": {
  "kernelspec": {
   "display_name": "Python 3 (ipykernel)",
   "language": "python",
   "name": "python3"
  },
  "language_info": {
   "codemirror_mode": {
    "name": "ipython",
    "version": 3
   },
   "file_extension": ".py",
   "mimetype": "text/x-python",
   "name": "python",
   "nbconvert_exporter": "python",
   "pygments_lexer": "ipython3",
   "version": "3.9.5"
  }
 },
 "nbformat": 4,
 "nbformat_minor": 4
}