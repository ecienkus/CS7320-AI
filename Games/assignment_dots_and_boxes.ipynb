{
 "cells": [
  {
   "cell_type": "markdown",
   "metadata": {},
   "source": [
    "# Adversarial Search: Playing Dots and Boxes\n",
    "\n",
    "\n",
    "## Instructions\n",
    "\n",
    "Total Points: Undegraduates 100, graduate students 110\n",
    "\n",
    "Complete this notebook and submit it. The notebook needs to be a complete project report with your implementation, documentation including a short discussion of how your implementation works and your design choices, and experimental results (e.g., tables and charts with simulation results) with a short discussion of what they mean. Use the provided notebook cells and insert additional code and markdown cells as needed.\n",
    "\n",
    "## Introduction\n",
    "\n",
    "You will implement different versions of agents that play the game Dots and Boxes:\n",
    "\n",
    "> \"Dots and Boxes is a pencil-and-paper game for two players. The game starts with an empty grid of dots. Usually two players take turns adding a single horizontal or vertical line between two unjoined adjacent dots. A player who completes the fourth side of a 1x1 box earns one point and takes another turn. A point is typically recorded by placing a mark that identifies the player in the box, such as an initial. The game ends when no more lines can be placed. The winner is the player with the most points. The board may be of any size grid.\" (see [Dots and Boxes on Wikipedia](https://en.wikipedia.org/wiki/Dots_and_Boxes))\n",
    "\n",
    "You can play Dots and Boxes [here](https://www.math.ucla.edu/~tom/Games/dots&boxes.html)."
   ]
  },
  {
   "cell_type": "markdown",
   "metadata": {},
   "source": [
    "## Task 1: Defining the Search Problem [10 point]\n",
    "\n",
    "Define the components of the search problem associated with this game:\n",
    "\n",
    "* Initial state\n",
    "* Actions\n",
    "* Transition model\n",
    "* Test for the terminal state\n",
    "* Utility for terminal states"
   ]
  },
  {
   "cell_type": "markdown",
   "metadata": {
    "pycharm": {
     "name": "#%% md\n"
    }
   },
   "source": [
    "### Initial State\n",
    "The initial state is an n x n grid of dots with no lines connecting any of the boxes.\n",
    "### Actions\n",
    "Search North/South/East/West, Draw line North/South/East/West (Complete box and write initials MAYBE)\n",
    "### Transition model\n",
    "Action draw changes unconnected space to connected. Actions: NSEW shifts the agent's search in the direction of the action\n",
    "### Test for the terminal state\n",
    "All the dots are connected to all adjacent boxes to themselves. This results in every possible box being formed and each box is owned by one of the players.\n",
    "### Utility for terminal states\n",
    "The highest utility is to have all the boxes owned. However, boxes can be sacrificed to the opponent, throughout the game, in order to have more boxes than the opponent at the terminal state.\n"
   ]
  },
  {
   "cell_type": "markdown",
   "metadata": {},
   "source": [
    "How big is the state space? Give an estimate and explain it."
   ]
  },
  {
   "cell_type": "markdown",
   "source": [
    "### Size of state space\n",
    "#### Assume that the dimensions of the dots on board are n x n\n",
    "\n",
    "* There are n dots on each side of the board meaning there are $n^2$ dots on the board.\n",
    "* There are n(n-1) vertical lines and n(n-1) horizontal lines meaning there are 2n(n-1) or $2n^{2}-2n$ possible lines that can be created\n",
    "* Each line can be drawn or undrawn meaning there are $2^{2n^{2}-2n}$ possible boards that can be created from just the lines\n",
    "* There can be n-1 boxes formed on each edge, meaning there are $(n-1)^2$ possible boxes to be formed on the board\n",
    "* Each box that can be formed can have either opponent's initials inside it or it can be empty, meaning there are $3^{(n-1)^2}$ possible combinations created from the boxes\n",
    "* Taking both calculations into consideration there are $2^{2n^{2}-2n}*3^{(n-1)^2}$ possible combinations in the board.\n",
    "* However, there are boards included in this estimation that are not possible within the logic of the dots and boxes game. For example, this estimation assumes that every line can be drawn and each box is empty which in not possible in this game. This means that the size of the state space is smaller than the equation given.\n",
    "\n"
   ],
   "metadata": {
    "collapsed": false
   }
  },
  {
   "cell_type": "markdown",
   "source": [
    "How big is the game tree that minimax search will go through? Give an estimate and explain it."
   ],
   "metadata": {
    "collapsed": false
   }
  },
  {
   "cell_type": "markdown",
   "source": [
    "${2n^{2}-2n}*3^{(n-1)^2}^{{2n^{2}-2n}*3^{(n-1)^2}}$"
   ],
   "metadata": {
    "collapsed": false,
    "pycharm": {
     "name": "#%% md\n"
    }
   }
  },
  {
   "cell_type": "markdown",
   "metadata": {},
   "source": [
    "## Task 2: Game Environment and Random Agent [30 point]\n",
    "\n",
    "You need to think about a data structure to represent the board meaning he placed lines and who finished what box. There are many options. Let's represent the board using a simple dictionary where `n` and `m` represents the number of dots horizontaly and vertically, respectively. Everybody needs to use the same representation so we can let agents play against each other later. "
   ]
  },
  {
   "cell_type": "code",
   "execution_count": 262,
   "metadata": {},
   "outputs": [
    {
     "name": "stdout",
     "output_type": "stream",
     "text": [
      "(True, False)\n",
      "(True, False)\n",
      "False\n"
     ]
    },
    {
     "data": {
      "text/plain": "{'n': 4, 'm': 4, 1: 0, -1: 0, ('h', 1, 1): True, ('v', 1, 1): True}"
     },
     "execution_count": 262,
     "metadata": {},
     "output_type": "execute_result"
    }
   ],
   "source": [
    "#board[2] = x-coordinate\n",
    "#board[1] = y-coordinate\n",
    "#board[0] = direction\n",
    "\n",
    "\n",
    "board = {\n",
    "    'n': 4,  ### hoizontal dots\n",
    "    'm': 4,   ### vertical dots\n",
    "    1: 0,   ### Player 1 Starting Score\n",
    "    -1: 0   ### Player 2 Starting Score\n",
    "}\n",
    "\n",
    "\n",
    "def draw_line(board, orientation, row, col, turn, verbose = False):\n",
    "    \"\"\"\n",
    "    Place a line on an exiting board.\n",
    "       \n",
    "    Parameters\n",
    "    ----------\n",
    "    board: dict\n",
    "        the board\n",
    "    orientation: str\n",
    "        either 'h' or 'v' for horizontal or vertical\n",
    "    row, col: int\n",
    "        index of the starting dot for the line (starting with 0)\n",
    "    turn: int\n",
    "        either 1 or -1 to determine the current player\n",
    "\n",
    "    \"\"\"\n",
    "    another_turn = False\n",
    "    # print(f\"m: {board['m']}, n: {board['n']}, Row: {row}, Col: {col}, Orientation: {orientation}\")\n",
    "\n",
    "    if orientation not in ['h', 'v']:\n",
    "        return False\n",
    "        \n",
    "    if row < 0 or col < 0:\n",
    "        return False\n",
    "\n",
    "    if row > board['m'] + (orientation == 'v') or col > board['n'] + (orientation == 'h'):\n",
    "        return False\n",
    "        \n",
    "    if (orientation, row, col) in board:\n",
    "        return False\n",
    "            \n",
    "    board[(orientation, row, col)] = True\n",
    "    if verbose: print(f\"{orientation}, {row}, {col}\")\n",
    "\n",
    "    # Check for new Boxes\n",
    "    if orientation == 'v':\n",
    "        # Check if box to the Left\n",
    "        if ('v', row, col-1) in board and ('h', row, col-1) in board and ('h', row+1, col-1) in board:\n",
    "            another_turn = True\n",
    "            board[row+1,col-1] = turn\n",
    "            if turn == 1:\n",
    "                # print(f\"-----1-----\")\n",
    "                board[1] += 1\n",
    "            else:\n",
    "                # print(f\"-----2-----\")\n",
    "                board[-1] += 1\n",
    "\n",
    "        # Check if box to the Right\n",
    "        if ('h', row, col) in board and ('h', row+1, col) in board and ('v', row, col+1) in board:\n",
    "            another_turn = True\n",
    "            board[row+1,col] = turn\n",
    "            if turn == 1:\n",
    "                # print(f\"-----3-----\")\n",
    "                board[1] += 1\n",
    "            else:\n",
    "                # print(f\"-----4-----\")\n",
    "                board[-1] += 1\n",
    "\n",
    "    if orientation == 'h':\n",
    "        # Check if box Above\n",
    "        if ('v', row, col) in board and ('h', row+1, col) in board and ('v', row, col+1) in board:\n",
    "            another_turn = True\n",
    "            board[row+1,col] = turn\n",
    "            if turn == 1:\n",
    "                # print(f\"-----5-----\")\n",
    "                board[1] += 1\n",
    "            else:\n",
    "                # print(f\"-----6-----\")\n",
    "                board[-1] += 1\n",
    "\n",
    "        # Check if box Below\n",
    "        if ('v', row-1, col) in board and ('h', row-1, col) in board and ('v', row-1, col+1) in board:\n",
    "            another_turn = True\n",
    "            board[row,col] = turn\n",
    "            if turn == 1:\n",
    "                # print(f\"-----7-----\")\n",
    "                board[1] += 1\n",
    "            else:\n",
    "                # print(f\"-----8-----\")\n",
    "                board[-1] += 1\n",
    "\n",
    "    return True, another_turn\n",
    "    \n",
    "\n",
    "print(draw_line(board, \"h\", 1, 1,1))\n",
    "print(draw_line(board, \"v\", 1, 1,-1))\n",
    "\n",
    "# this should not work\n",
    "print(draw_line(board, \"h\", 1, 1,1))\n",
    "\n",
    "board"
   ]
  },
  {
   "cell_type": "markdown",
   "metadata": {},
   "source": [
    "Write code to display the board. **Bonus point: Post your visualization code with an example output to the discussion board. The best visualization will earn you bonus participation points in this class.**"
   ]
  },
  {
   "cell_type": "code",
   "execution_count": 263,
   "metadata": {
    "scrolled": true
   },
   "outputs": [
    {
     "name": "stdout",
     "output_type": "stream",
     "text": [
      "(True, False)\n",
      "(True, False)\n",
      "(True, False)\n",
      "(True, False)\n",
      "(True, False)\n",
      "(True, False)\n",
      "(True, False)\n",
      "(True, False)\n",
      "(True, True)\n",
      "(True, True)\n",
      "(True, True)\n",
      "(True, True)\n",
      "n\n",
      "Length: 1\n",
      "m\n",
      "Length: 1\n",
      "('v', 1, 1)\n",
      "Length: 3\n",
      "('v', 2, 1)\n",
      "Length: 3\n",
      "('v', 1, 2)\n",
      "Length: 3\n",
      "('v', 2, 3)\n",
      "Length: 3\n",
      "('h', 1, 2)\n",
      "Length: 3\n",
      "('h', 2, 1)\n",
      "Length: 3\n",
      "('h', 2, 2)\n",
      "Length: 3\n",
      "('h', 3, 2)\n",
      "Length: 3\n",
      "('v', 2, 2)\n",
      "Length: 3\n",
      "(3, 2)\n",
      "Length: 2\n",
      "('v', 1, 3)\n",
      "Length: 3\n",
      "(2, 2)\n",
      "Length: 2\n",
      "('h', 1, 1)\n",
      "Length: 3\n",
      "(2, 1)\n",
      "Length: 2\n",
      "('h', 3, 1)\n",
      "Length: 3\n",
      "(3, 1)\n",
      "Length: 2\n",
      "n\n",
      "n\n",
      "m\n",
      "m\n",
      "1\n",
      "-1\n",
      "('v', 1, 1)\n",
      "('v', 1, 1)\n",
      "('v', 2, 1)\n",
      "('v', 2, 1)\n",
      "('v', 1, 2)\n",
      "('v', 1, 2)\n",
      "('v', 2, 3)\n",
      "('v', 2, 3)\n",
      "('h', 1, 2)\n",
      "('h', 1, 2)\n",
      "('h', 2, 1)\n",
      "('h', 2, 1)\n",
      "('h', 2, 2)\n",
      "('h', 2, 2)\n",
      "('h', 3, 2)\n",
      "('h', 3, 2)\n",
      "('v', 2, 2)\n",
      "('v', 2, 2)\n",
      "(3, 2)\n",
      "(3, 2)\n",
      "(3, 2)\n",
      "('v', 1, 3)\n",
      "('v', 1, 3)\n",
      "(2, 2)\n",
      "(2, 2)\n",
      "(2, 2)\n",
      "('h', 1, 1)\n",
      "('h', 1, 1)\n",
      "(2, 1)\n",
      "(2, 1)\n",
      "(2, 1)\n",
      "('h', 3, 1)\n",
      "('h', 3, 1)\n",
      "(3, 1)\n",
      "(3, 1)\n",
      "(3, 1)\n",
      "Results:\n",
      "         -1: 2\n",
      "          1: 2\n"
     ]
    },
    {
     "data": {
      "text/plain": "<Figure size 432x288 with 1 Axes>",
      "image/png": "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\n"
     },
     "metadata": {
      "needs_background": "light"
     },
     "output_type": "display_data"
    }
   ],
   "source": [
    "# This code was taken from the discussion board with slight modification\n",
    "# Credit goes to Diogo Benetti Fae Rodrigues\n",
    "\n",
    "import matplotlib.pyplot as plt\n",
    "import matplotlib.lines as mlines\n",
    "\n",
    "def print_board(board, verbose = False):\n",
    "    n = board['n']  # Rows\n",
    "    m = board['m']  # Columns\n",
    "\n",
    "    fig, ax = plt.subplots()\n",
    "    ax.set_xlim(-0.5, m-0.5)\n",
    "    ax.set_ylim(-0.5, n-0.5)\n",
    "\n",
    "    # Draw dots\n",
    "    for row in range(n):\n",
    "        for col in range(m):\n",
    "            if (row, col) in board:\n",
    "                ax.scatter(row, col, s=100, marker='o', color='black')\n",
    "            else:\n",
    "                ax.scatter(row, col, s=100, marker='o', color='black')\n",
    "\n",
    "    # Draw lines\n",
    "    for line in board:\n",
    "        # print(line)\n",
    "        if line != -1 and line != 1:\n",
    "            if verbose: print(line)\n",
    "            if verbose: print(f\"Length: {len(line)}\")\n",
    "            if len(line) > 2:\n",
    "                # Draw Horizontal line\n",
    "                if line[0] == 'h':\n",
    "                    l = mlines.Line2D([line[2]-1,line[2]], [line[1]-1,line[1]-1], color='black')\n",
    "                    # l = mlines.Line2D([line[1],line[1]], [line[2],line[2]+1], color='black')\n",
    "                    ax.add_line(l)\n",
    "                # Draw Vertical line\n",
    "                else:\n",
    "                    l = mlines.Line2D([line[2]-1,line[2]-1], [line[1]-1,line[1]], color='black')\n",
    "                    # l = mlines.Line2D([line[1],line[1]-1], [line[2],line[2]], color='black')\n",
    "                    ax.add_line(l)\n",
    "\n",
    "    # Check for boxes\n",
    "    # Boxes are stored in board with (row, col) as key and player (1 or -1) as value\n",
    "    # eg: board[(3, 1)] = 1 -> player 1 has a box with top left vertex at (3, 1)\n",
    "    for box in board:\n",
    "        if verbose: print(box)\n",
    "        if box != -1 and box != 1:\n",
    "            if verbose: print(box)\n",
    "            if len(box) == 2:\n",
    "                if verbose: print(box)\n",
    "                if board[(box[0], box[1])] == 1:\n",
    "                    ax.add_patch(plt.Rectangle((box[1]-1, box[0]-2), 1, 1, color='r'))\n",
    "                else:\n",
    "                    ax.add_patch(plt.Rectangle((box[1]-1, box[0]-2), 1, 1, color='y'))\n",
    "\n",
    "    # Print results\n",
    "    print('Results:')\n",
    "    print('         -1:', board[-1])\n",
    "    print('          1:', board[1])\n",
    "\n",
    "    # Set up plot to start at (1, 1)\n",
    "    x = []\n",
    "    y = []\n",
    "    for row in range(board['n']):\n",
    "        # x.append(row)\n",
    "        x.append(row+1)\n",
    "    for col in range(board['m']):\n",
    "        # y.append(col)\n",
    "        y.append(col+1)\n",
    "    default_x_ticks = range(len(x))\n",
    "    plt.xticks(default_x_ticks, x)\n",
    "    default_y_ticks = range(len(y))\n",
    "    plt.yticks(default_y_ticks, y)\n",
    "\n",
    "    plt.show()\n",
    "\n",
    "myboard = {\n",
    "    'n': 4,  ### hoizontal dots\n",
    "    'm': 4,   ### vertical dots\n",
    "    1: 0,   ### Player 1 Starting Score\n",
    "    -1: 0   ### Player 2 Starting Score\n",
    "}\n",
    "\n",
    "\n",
    "print(draw_line(myboard, \"v\", 1, 1,1))\n",
    "print(draw_line(myboard, \"v\", 2, 1,-1))\n",
    "print(draw_line(myboard, \"v\", 1, 2,1))\n",
    "print(draw_line(myboard, \"v\", 2, 3,-1))\n",
    "\n",
    "print(draw_line(myboard, \"h\", 1, 2,1))\n",
    "print(draw_line(myboard, \"h\", 2, 1,-1))\n",
    "print(draw_line(myboard, \"h\", 2, 2,1))\n",
    "print(draw_line(myboard, \"h\", 3, 2,-1))\n",
    "\n",
    "print(draw_line(myboard, \"v\", 2, 2,1))\n",
    "print(draw_line(myboard, \"v\", 1, 3,-1))\n",
    "print(draw_line(myboard, \"h\", 1, 1,1))\n",
    "print(draw_line(myboard, \"h\", 3, 1,-1))\n",
    "\n",
    "# myboard[3,2] = 1\n",
    "\n",
    "# print(myboard)\n",
    "\n",
    "print_board(myboard, True)"
   ]
  },
  {
   "cell_type": "markdown",
   "metadata": {},
   "source": [
    "Implement helper functions for:\n",
    "\n",
    "* The transition model $result(s, a)$.\n",
    "* The utility function $utility(s)$.\n",
    "* Check for terminal states $terminal(s)$.\n",
    "* A check for available actions in each state $actions(s)$.\n",
    "\n",
    "__Notes:__\n",
    "* Make sure that all these functions work with boards of different sizes (number of columns and rows as stored in the board).\n",
    "* The result function evaluates if the player closed a box and needs to store that information on the board. Add elements of the form `(row,col): player` to the board dictionary. `row` and `col` are the coordinates for the box and `player` is +1 or -1 representing the player. For example `(0,0): -1` means that the top-left box belongs to the other player. "
   ]
  },
  {
   "cell_type": "code",
   "execution_count": 264,
   "metadata": {},
   "outputs": [
    {
     "name": "stdout",
     "output_type": "stream",
     "text": [
      "--------------------ACTIONS--------------------\n",
      "Results:\n",
      "         -1: 2\n",
      "          1: 2\n"
     ]
    },
    {
     "data": {
      "text/plain": "<Figure size 432x288 with 1 Axes>",
      "image/png": "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\n"
     },
     "metadata": {
      "needs_background": "light"
     },
     "output_type": "display_data"
    },
    {
     "name": "stdout",
     "output_type": "stream",
     "text": [
      "[('h', 1, 3), ('v', 1, 4), ('h', 2, 3), ('v', 2, 4), ('v', 3, 1), ('v', 3, 2), ('v', 3, 3), ('h', 3, 3), ('v', 3, 4), ('h', 4, 1), ('h', 4, 2), ('h', 4, 3)]\n",
      "--------------------terminal--------------------\n",
      "False\n",
      "--------------------result--------------------\n",
      "This is not a valid move!\n",
      "None\n",
      "--------------------utility--------------------\n",
      "Game is not over!\n",
      "0\n"
     ]
    }
   ],
   "source": [
    "# A check for available actions in each state actions(s)\n",
    "def actions(s, verbose = False):\n",
    "    n = s['n']  # Rows\n",
    "    m = s['m']  # Columns\n",
    "    actions_remaining = []\n",
    "    if verbose: print_board(s)\n",
    "    for row in range(n):\n",
    "        for col in range(m):\n",
    "            if ('v', row+1, col+1) not in s and row != n-1:\n",
    "                actions_remaining.append(('v', row+1, col+1))\n",
    "            if ('h', row+1, col+1) not in s and col != m-1:\n",
    "                actions_remaining.append(('h', row+1, col+1))\n",
    "                # print(actions_remaining)\n",
    "    return actions_remaining\n",
    "\n",
    "def terminal(s):\n",
    "    if len(actions(s)) == 0: return True\n",
    "    else: return False\n",
    "\n",
    "def result(s, a):\n",
    "    temp_s = s.copy()\n",
    "    if draw_line(temp_s, a[0], a[1], a[2], 0) is True:\n",
    "        return actions(temp_s)\n",
    "    else:\n",
    "        print(\"This is not a valid move!\")\n",
    "\n",
    "def utility(s):\n",
    "    if terminal(s) is True:\n",
    "        if s[1] > s[-1]:\n",
    "            return 1\n",
    "        elif s[-1] > s[1]:\n",
    "            return -1\n",
    "        else:\n",
    "            return 0\n",
    "    else:\n",
    "        print(\"Game is not over!\")\n",
    "        return 0\n",
    "\n",
    "print(\"--------------------ACTIONS--------------------\")\n",
    "print(actions(myboard, True))\n",
    "print(\"--------------------terminal--------------------\")\n",
    "print(terminal(myboard))\n",
    "print(\"--------------------result--------------------\")\n",
    "print(result(myboard, ['h', 1, 3]))\n",
    "print(\"--------------------utility--------------------\")\n",
    "print(utility(myboard))"
   ]
  },
  {
   "cell_type": "markdown",
   "source": [],
   "metadata": {
    "collapsed": false
   }
  },
  {
   "cell_type": "markdown",
   "metadata": {},
   "source": [
    "Implement an agent that plays randomly. Make sure the agent function receives as the percept the board and returns a valid action. Use an agent function definition with the following signature (arguments):\n",
    "\n",
    "`def random_player(board, player = None): ...`\n",
    "\n",
<<<<<<< Updated upstream
    "The argument `player` is used for agents that do not store what side they are playing. The value passed on by the environment should be 1 ot -1 for playerred and yellow, respectively.  See [Experiments section for tic-tac-toe](https://nbviewer.org/github/mhahsler/CS7320-AI/blob/master/Games/tictactoe_and_or_tree_search.ipynb#Experiments) for an example."
=======
    "The argument `player` is used for agents that do not store what side they are playing. The value passed on by the environment should be 1 or -1 for player red and yellow, respectively.  See [Experiments section for tic-tac-toe](https://nbviewer.org/github/mhahsler/CS7320-AI/blob/master/Games/tictactoe_and_or_tree_search.ipynb#Experiments) for an example."
>>>>>>> Stashed changes
   ]
  },
  {
   "cell_type": "code",
   "execution_count": 265,
   "metadata": {},
   "outputs": [
    {
     "data": {
      "text/plain": "False"
     },
     "execution_count": 265,
     "metadata": {},
     "output_type": "execute_result"
    }
   ],
   "source": [
    "import random\n",
    "def random_player(board, player = None):\n",
    "     action_options = actions(board).copy() #might not be needed\n",
    "     a = random.choice(action_options)\n",
    "     drawn, another_turn = draw_line(board, a[0], a[1], a[2], player)\n",
    "     return another_turn\n",
    "\n",
    "random_player(myboard, 1)"
   ]
  },
  {
   "cell_type": "markdown",
   "metadata": {},
   "source": [
    "Let two random agents play against each other 1000 times. Look at the [Experiments section for tic-tac-toe](https://nbviewer.org/github/mhahsler/CS7320-AI/blob/master/Games/tictactoe_and_or_tree_search.ipynb#Experiments) to see how the environment uses the agent functions to play against each other.\n",
    "\n",
    "How often does each player win? Is the result expected?\n",
    "\n",
    "Each player should win 50% of the time.\n",
    "\n",
    "The result that I got was expected because it is only 513 vs 487 meaning only 13 out of the 1000 games should have gone to player 2 to make it a %50 vs. %50 win ratio.\n"
   ]
  },
  {
   "cell_type": "code",
   "execution_count": 266,
   "metadata": {
    "tags": []
   },
   "outputs": [
    {
     "name": "stdout",
     "output_type": "stream",
     "text": [
      "Player 1 Wins!\n",
      "Player 1: 513 Player 2: 487\n"
     ]
    }
   ],
   "source": [
    "random_board = {\n",
    "    'n': 4,  ### hoizontal dots\n",
    "    'm': 4,   ### vertical dots\n",
    "    1: 0,   ### Player 1 Starting Score\n",
    "    -1: 0   ### Player 2 Starting Score\n",
    "}\n",
    "\n",
    "def random_environment(board, verbose = False):\n",
    "    player1_total = 0\n",
    "    player2_total = 0\n",
    "\n",
    "    for x in range(1000):\n",
    "        temp_board = board.copy()\n",
    "        player = 1\n",
    "        while terminal(temp_board) is False:\n",
    "            if not random_player(temp_board, player):\n",
    "                if player == 1:\n",
    "                    player = -1\n",
    "                else:\n",
    "                    player = 1\n",
    "            if verbose: print_board(temp_board)\n",
    "\n",
    "        if utility(temp_board) == 1:\n",
    "            player1_total += 1\n",
    "        elif utility(temp_board) == -1:\n",
    "            player2_total += 1\n",
    "\n",
    "    if player1_total > player2_total:\n",
    "        print(f\"Player 1 Wins!\")\n",
    "    elif player2_total > player1_total:\n",
    "        print(f\"Player 2 Wins!\")\n",
    "    else:\n",
    "        print(f\"Player 1 and Player 2 Tide!\")\n",
    "    print(f\"Player 1: {player1_total} Player 2: {player2_total}\")\n",
    "\n",
    "\n",
    "random_environment(random_board)\n"
   ]
  },
  {
   "cell_type": "markdown",
   "metadata": {},
   "source": [
    "## Task 3: Minimax Search with Alpha-Beta Pruning [30 points]\n",
    "\n",
    "\n",
    "Implement the search starting from a given board and specifying the player and put it into an agent function.\n",
    "You can use code from the [tic-tac-toe example](https://nbviewer.org/github/mhahsler/CS7320-AI/blob/master/Games/tictactoe_alpha_beta_tree_search.ipynb).\n",
    "\n",
    "__Notes:__ \n",
    "* Make sure that all your agent functions have a signature consistent with the random agent above.\n",
    "* The search space for larger board may be too large. You can experiment with smaller boards.\n",
    "\n",
    "\n"
   ]
  },
  {
   "cell_type": "code",
   "execution_count": 267,
   "metadata": {},
   "outputs": [],
   "source": [
    "# Your code/ answer goes here."
   ]
  },
  {
   "cell_type": "markdown",
   "metadata": {},
   "source": [
    "Experiment with some manually created boards (at least 5) to check if the agent spots winning opportunities."
   ]
  },
  {
   "cell_type": "code",
   "execution_count": 268,
   "metadata": {},
   "outputs": [],
   "source": [
    "# Your code/ answer goes here."
   ]
  },
  {
   "cell_type": "markdown",
   "metadata": {},
   "source": [
    "How long does it take to make a move? Start with a smaller board make the board larger. What is the largest board you can solve?"
   ]
  },
  {
   "cell_type": "code",
   "execution_count": 269,
   "metadata": {},
   "outputs": [],
   "source": [
    "# Your code/ answer goes here."
   ]
  },
  {
   "cell_type": "markdown",
   "metadata": {},
   "source": [
    "### Move ordering\n",
    "\n",
    "Starting the search with better moves will increase the efficiency of alpha-beta pruning. Describe and implement a simple move ordering strategy. Make a table that shows how the ordering strategies influence the time it takes to make a move?"
   ]
  },
  {
   "cell_type": "code",
   "execution_count": 270,
   "metadata": {},
   "outputs": [],
   "source": [
    "# Your code/ answer goes here."
   ]
  },
  {
   "cell_type": "markdown",
   "metadata": {},
   "source": [
    "### The first few moves\n",
    "\n",
    "Start with an empty board. This is the worst case scenario for minimax search with alpha-beta pruning since it needs solve all possible games that can be played (minus some pruning) before making the decision. What can you do? "
   ]
  },
  {
   "cell_type": "code",
   "execution_count": 271,
   "metadata": {},
   "outputs": [],
   "source": [
    "# Your code/ answer goes here."
   ]
  },
  {
   "cell_type": "markdown",
   "metadata": {},
   "source": [
    "### Playtime\n",
    "\n",
    "Let the Minimax Search agent play a random agent on a small board. Analyze wins, losses and draws."
   ]
  },
  {
   "cell_type": "code",
   "execution_count": 272,
   "metadata": {},
   "outputs": [],
   "source": [
    "# Your code/ answer goes here."
   ]
  },
  {
   "cell_type": "markdown",
   "metadata": {},
   "source": [
    "## Task 4: Heuristic Alpha-Beta Tree Search [30 points] \n",
    "\n",
    "### Heuristic evaluation function\n",
    "\n",
    "Define and implement a heuristic evaluation function."
   ]
  },
  {
   "cell_type": "code",
   "execution_count": 273,
   "metadata": {},
   "outputs": [],
   "source": [
    "# Your code/ answer goes here."
   ]
  },
  {
   "cell_type": "markdown",
   "metadata": {},
   "source": [
    "### Cutting off search \n",
    "\n",
    "Modify your Minimax Search with Alpha-Beta Pruning to cut off search at a specified depth and use the heuristic evaluation function. Experiment with different cutoff values."
   ]
  },
  {
   "cell_type": "code",
   "execution_count": 274,
   "metadata": {},
   "outputs": [],
   "source": [
    "# Your code/ answer goes here."
   ]
  },
  {
   "cell_type": "markdown",
   "metadata": {},
   "source": [
    "Experiment with the same manually created boards as above to check if the agent spots winning opportunities."
   ]
  },
  {
   "cell_type": "code",
   "execution_count": 275,
   "metadata": {},
   "outputs": [],
   "source": [
    "# Your code/ answer goes here."
   ]
  },
  {
   "cell_type": "markdown",
   "metadata": {},
   "source": [
    "How long does it take to make a move? Start with a smaller board with 4 columns and make the board larger by adding columns."
   ]
  },
  {
   "cell_type": "code",
   "execution_count": 276,
   "metadata": {},
   "outputs": [],
   "source": [
    "# Your code/ answer goes here."
   ]
  },
  {
   "cell_type": "markdown",
   "metadata": {},
   "source": [
    "### Playtime\n",
    "\n",
    "Let two heuristic search agents (different cutoff depth, different heuristic evaluation function) compete against each other on a reasonably sized board. Since there is no randomness, you only need to let them play once."
   ]
  },
  {
   "cell_type": "code",
   "execution_count": 277,
   "metadata": {},
   "outputs": [],
   "source": [
    "# Your code/ answer goes here."
   ]
  },
  {
   "cell_type": "markdown",
   "metadata": {},
   "source": [
    "## Tournament task [+1 to 5% bonus on your course grade; will be assigned separately]\n",
    "\n",
    "Find another student and let your best agent play against the other student's best player. You are allowed to use any improvements you like as long as you code it yourself. We will set up a class tournament on Canvas. This tournament will continue after the submission deadline."
   ]
  },
  {
   "cell_type": "markdown",
   "metadata": {},
   "source": [
    "## Graduate student advanced task: Pure Monte Carlo Search and Best First Move [10 point]\n",
    "\n",
    "__Undergraduate students:__ This is a bonus task you can attempt if you like [+5 Bonus point].\n",
    "\n",
    "### Pure Monte Carlo Search\n",
    "\n",
    "Implement Pure Monte Carlo Search (see [tic-tac-toe-example](https://nbviewer.org/github/mhahsler/CS7320-AI/blob/master/Games/tictactoe_pure_monte_carlo_search.ipynb)) and investigate how this search performs on the test boards that you have used above. "
   ]
  },
  {
   "cell_type": "code",
   "execution_count": 278,
   "metadata": {},
   "outputs": [],
   "source": [
    "# Your code/ answer goes here."
   ]
  },
  {
   "cell_type": "markdown",
   "metadata": {},
   "source": [
    "### Best First Move\n",
    "\n",
    "How would you determine what the best first move for a standard board ($5 \\times 5$) is? You can use Pure Monte Carlo Search or any algorithms that you have implemented above."
   ]
  },
  {
   "cell_type": "code",
   "execution_count": 279,
   "metadata": {},
   "outputs": [],
   "source": [
    "# Your code/ answer goes here."
   ]
  }
 ],
 "metadata": {
  "kernelspec": {
   "display_name": "Python 3 (ipykernel)",
   "language": "python",
   "name": "python3"
  },
  "language_info": {
   "codemirror_mode": {
    "name": "ipython",
    "version": 3
   },
   "file_extension": ".py",
   "mimetype": "text/x-python",
   "name": "python",
   "nbconvert_exporter": "python",
   "pygments_lexer": "ipython3",
   "version": "3.9.5"
  }
 },
 "nbformat": 4,
 "nbformat_minor": 4
}