{
 "cells": [
  {
   "cell_type": "markdown",
   "metadata": {},
   "source": [
    "# Adversarial Search: Playing Dots and Boxes\n",
    "\n",
    "\n",
    "## Instructions\n",
    "\n",
    "Total Points: Undegraduates 100, graduate students 110\n",
    "\n",
    "Complete this notebook and submit it. The notebook needs to be a complete project report with your implementation, documentation including a short discussion of how your implementation works and your design choices, and experimental results (e.g., tables and charts with simulation results) with a short discussion of what they mean. Use the provided notebook cells and insert additional code and markdown cells as needed.\n",
    "\n",
    "## Introduction\n",
    "\n",
    "You will implement different versions of agents that play the game Dots and Boxes:\n",
    "\n",
    "> \"Dots and Boxes is a pencil-and-paper game for two players. The game starts with an empty grid of dots. Usually two players take turns adding a single horizontal or vertical line between two unjoined adjacent dots. A player who completes the fourth side of a 1x1 box earns one point and takes another turn. A point is typically recorded by placing a mark that identifies the player in the box, such as an initial. The game ends when no more lines can be placed. The winner is the player with the most points. The board may be of any size grid.\" (see [Dots and Boxes on Wikipedia](https://en.wikipedia.org/wiki/Dots_and_Boxes))\n",
    "\n",
    "You can play Dots and Boxes [here](https://www.math.ucla.edu/~tom/Games/dots&boxes.html)."
   ]
  },
  {
   "cell_type": "markdown",
   "metadata": {},
   "source": [
    "## Task 1: Defining the Search Problem [10 point]\n",
    "\n",
    "Define the components of the search problem associated with this game:\n",
    "\n",
    "* Initial state\n",
    "* Actions\n",
    "* Transition model\n",
    "* Test for the terminal state\n",
    "* Utility for terminal states"
   ]
  },
  {
   "cell_type": "markdown",
   "metadata": {
    "pycharm": {
     "name": "#%% md\n"
    }
   },
   "source": [
    "### Initial State\n",
    "The initial state is an n x n grid of dots with no lines connecting any of the boxes.\n",
    "### Actions\n",
    "Search North/South/East/West, Draw line North/South/East/West (Complete box and write initials MAYBE)\n",
    "### Transition model\n",
    "Action draw changes unconnected space to connected. Actions: NSEW shifts the agent's search in the direction of the action\n",
    "### Test for the terminal state\n",
    "All the dots are connected to all adjacent boxes to themselves. This results in every possible box being formed and each box is owned by one of the players.\n",
    "### Utility for terminal states\n",
    "The highest utility is to have all the boxes owned. However, boxes can be sacrificed to the opponent, throughout the game, in order to have more boxes than the opponent at the terminal state.\n"
   ]
  },
  {
   "cell_type": "markdown",
   "metadata": {},
   "source": [
    "How big is the state space? Give an estimate and explain it."
   ]
  },
  {
   "cell_type": "markdown",
   "source": [
    "### Size of state space\n",
    "#### Assume that the dimensions of the dots on board are n x n\n",
    "\n",
    "* There are n dots on each side of the board meaning there are $n^2$ dots on the board.\n",
    "* There are n(n-1) vertical lines and n(n-1) horizontal lines meaning there are 2n(n-1) or $2n^{2}-2n$ possible lines that can be created\n",
    "* Each line can be drawn or undrawn meaning there are $2^{2n^{2}-2n}$ possible boards that can be created from just the lines\n",
    "* There can be n-1 boxes formed on each edge, meaning there are $(n-1)^2$ possible boxes to be formed on the board\n",
    "* Each box that can be formed can have either opponent's initials inside it or it can be empty, meaning there are $3^{(n-1)^2}$ possible combinations created from the boxes\n",
    "* Taking both calculations into consideration there are $2^{2n^{2}-2n}*3^{(n-1)^2}$ possible combinations in the board.\n",
    "* However, there are boards included in this estimation that are not possible within the logic of the dots and boxes game. For example, this estimation assumes that every line can be drawn and each box is empty which in not possible in this game. This means that the size of the state space is smaller than the equation given.\n",
    "\n"
   ],
   "metadata": {
    "collapsed": false
   }
  },
  {
   "cell_type": "markdown",
   "source": [
    "How big is the game tree that minimax search will go through? Give an estimate and explain it."
   ],
   "metadata": {
    "collapsed": false
   }
  },
  {
   "cell_type": "markdown",
   "source": [
    "${2n^{2}-2n}*3^{(n-1)^2}^{{2n^{2}-2n}*3^{(n-1)^2}}$"
   ],
   "metadata": {
    "collapsed": false,
    "pycharm": {
     "name": "#%% md\n"
    }
   }
  },
  {
   "cell_type": "markdown",
   "metadata": {},
   "source": [
    "## Task 2: Game Environment and Random Agent [30 point]\n",
    "\n",
    "You need to think about a data structure to represent the board meaning he placed lines and who finished what box. There are many options. Let's represent the board using a simple dictionary where `n` and `m` represents the number of dots horizontaly and vertically, respectively. Everybody needs to use the same representation so we can let agents play against each other later. "
   ]
  },
  {
   "cell_type": "code",
   "execution_count": 497,
   "metadata": {},
   "outputs": [
    {
     "name": "stdout",
     "output_type": "stream",
     "text": [
      "(True, False)\n",
      "(True, False)\n",
      "False\n"
     ]
    },
    {
     "data": {
      "text/plain": "{'n': 4, 'm': 4, 1: 0, -1: 0, ('h', 1, 1): True, ('v', 1, 1): True}"
     },
     "execution_count": 497,
     "metadata": {},
     "output_type": "execute_result"
    }
   ],
   "source": [
    "#board[2] = x-coordinate\n",
    "#board[1] = y-coordinate\n",
    "#board[0] = direction\n",
    "\n",
    "\n",
    "board = {\n",
    "    'n': 4,  ### hoizontal dots\n",
    "    'm': 4,   ### vertical dots\n",
    "    1: 0,   ### Player 1 Starting Score\n",
    "    -1: 0   ### Player 2 Starting Score\n",
    "}\n",
    "\n",
    "\n",
    "def draw_line(board, orientation, row, col, turn, verbose = False):\n",
    "    \"\"\"\n",
    "    Place a line on an exiting board.\n",
    "       \n",
    "    Parameters\n",
    "    ----------\n",
    "    board: dict\n",
    "        the board\n",
    "    orientation: str\n",
    "        either 'h' or 'v' for horizontal or vertical\n",
    "    row, col: int\n",
    "        index of the starting dot for the line (starting with 0)\n",
    "    turn: int\n",
    "        either 1 or -1 to determine the current player\n",
    "\n",
    "    \"\"\"\n",
    "    another_turn = False\n",
    "    # print(f\"m: {board['m']}, n: {board['n']}, Row: {row}, Col: {col}, Orientation: {orientation}\")\n",
    "\n",
    "    if orientation not in ['h', 'v']:\n",
    "        return False\n",
    "        \n",
    "    if row < 0 or col < 0:\n",
    "        return False\n",
    "\n",
    "    if row > board['m'] + (orientation == 'v') or col > board['n'] + (orientation == 'h'):\n",
    "        return False\n",
    "        \n",
    "    if (orientation, row, col) in board:\n",
    "        return False\n",
    "            \n",
    "    board[(orientation, row, col)] = True\n",
    "    if verbose: print(f\"{orientation}, {row}, {col}\")\n",
    "\n",
    "    # Check for new Boxes\n",
    "    if orientation == 'v':\n",
    "        # Check if box to the Left\n",
    "        if ('v', row, col-1) in board and ('h', row, col-1) in board and ('h', row+1, col-1) in board:\n",
    "            another_turn = True\n",
    "            board[row+1,col-1] = turn\n",
    "            if turn == 1:\n",
    "                # print(f\"-----1-----\")\n",
    "                board[1] += 1\n",
    "            else:\n",
    "                # print(f\"-----2-----\")\n",
    "                board[-1] += 1\n",
    "\n",
    "        # Check if box to the Right\n",
    "        if ('h', row, col) in board and ('h', row+1, col) in board and ('v', row, col+1) in board:\n",
    "            another_turn = True\n",
    "            board[row+1,col] = turn\n",
    "            if turn == 1:\n",
    "                # print(f\"-----3-----\")\n",
    "                board[1] += 1\n",
    "            else:\n",
    "                # print(f\"-----4-----\")\n",
    "                board[-1] += 1\n",
    "\n",
    "    if orientation == 'h':\n",
    "        # Check if box Above\n",
    "        if ('v', row, col) in board and ('h', row+1, col) in board and ('v', row, col+1) in board:\n",
    "            another_turn = True\n",
    "            board[row+1,col] = turn\n",
    "            if turn == 1:\n",
    "                # print(f\"-----5-----\")\n",
    "                board[1] += 1\n",
    "            else:\n",
    "                # print(f\"-----6-----\")\n",
    "                board[-1] += 1\n",
    "\n",
    "        # Check if box Below\n",
    "        if ('v', row-1, col) in board and ('h', row-1, col) in board and ('v', row-1, col+1) in board:\n",
    "            another_turn = True\n",
    "            board[row,col] = turn\n",
    "            if turn == 1:\n",
    "                # print(f\"-----7-----\")\n",
    "                board[1] += 1\n",
    "            else:\n",
    "                # print(f\"-----8-----\")\n",
    "                board[-1] += 1\n",
    "\n",
    "    return (True, another_turn)\n",
    "    \n",
    "\n",
    "print(draw_line(board, \"h\", 1, 1,1))\n",
    "print(draw_line(board, \"v\", 1, 1,-1))\n",
    "\n",
    "# this should not work\n",
    "print(draw_line(board, \"h\", 1, 1,1))\n",
    "\n",
    "board"
   ]
  },
  {
   "cell_type": "markdown",
   "metadata": {},
   "source": [
    "Write code to display the board. **Bonus point: Post your visualization code with an example output to the discussion board. The best visualization will earn you bonus participation points in this class.**"
   ]
  },
  {
   "cell_type": "code",
   "execution_count": 620,
   "metadata": {
    "scrolled": true
   },
   "outputs": [
    {
     "name": "stdout",
     "output_type": "stream",
     "text": [
      "Results:\n",
      "         -1: 2\n",
      "          1: 2\n"
     ]
    },
    {
     "data": {
      "text/plain": "<Figure size 432x288 with 1 Axes>",
      "image/png": "[encoded data removed]"
     },
     "metadata": {
      "needs_background": "light"
     },
     "output_type": "display_data"
    }
   ],
   "source": [
    "# This code was taken from the discussion board with slight modification\n",
    "# Credit goes to Diogo Benetti Fae Rodrigues\n",
    "\n",
    "import matplotlib.pyplot as plt\n",
    "import matplotlib.lines as mlines\n",
    "\n",
    "def print_board(board, verbose = False):\n",
    "    n = board['n']  # Rows\n",
    "    m = board['m']  # Columns\n",
    "\n",
    "    fig, ax = plt.subplots()\n",
    "    ax.set_xlim(-0.5, m-0.5)\n",
    "    ax.set_ylim(-0.5, n-0.5)\n",
    "\n",
    "    # Draw dots\n",
    "    for row in range(n):\n",
    "        for col in range(m):\n",
    "            if (row, col) in board:\n",
    "                ax.scatter(row, col, s=100, marker='o', color='black')\n",
    "            else:\n",
    "                ax.scatter(row, col, s=100, marker='o', color='black')\n",
    "\n",
    "    # Draw lines\n",
    "    for line in board:\n",
    "        # print(line)\n",
    "        if line != -1 and line != 1:\n",
    "            # if verbose: print(line)\n",
    "            # if verbose: print(f\"Length: {len(line)}\")\n",
    "            if len(line) > 2:\n",
    "                # Draw Horizontal line\n",
    "                if line[0] == 'h':\n",
    "                    l = mlines.Line2D([line[2]-1,line[2]], [line[1]-1,line[1]-1], color='black')\n",
    "                    # l = mlines.Line2D([line[1],line[1]], [line[2],line[2]+1], color='black')\n",
    "                    ax.add_line(l)\n",
    "                # Draw Vertical line\n",
    "                else:\n",
    "                    l = mlines.Line2D([line[2]-1,line[2]-1], [line[1]-1,line[1]], color='black')\n",
    "                    # l = mlines.Line2D([line[1],line[1]-1], [line[2],line[2]], color='black')\n",
    "                    ax.add_line(l)\n",
    "\n",
    "    # Check for boxes\n",
    "    # Boxes are stored in board with (row, col) as key and player (1 or -1) as value\n",
    "    # eg: board[(3, 1)] = 1 -> player 1 has a box with top left vertex at (3, 1)\n",
    "    for box in board:\n",
    "        # if verbose: print(box)\n",
    "        if box != -1 and box != 1:\n",
    "            # if verbose: print(box)\n",
    "            if len(box) == 2:\n",
    "                # if verbose: print(box)\n",
    "                if board[(box[0], box[1])] == 1:\n",
    "                    ax.add_patch(plt.Rectangle((box[1]-1, box[0]-2), 1, 1, color='r'))\n",
    "                else:\n",
    "                    ax.add_patch(plt.Rectangle((box[1]-1, box[0]-2), 1, 1, color='y'))\n",
    "\n",
    "    # Print results\n",
    "    print('Results:')\n",
    "    print('         -1:', board[-1])\n",
    "    print('          1:', board[1])\n",
    "\n",
    "    # Set up plot to start at (1, 1)\n",
    "    x = []\n",
    "    y = []\n",
    "    for row in range(board['n']):\n",
    "        # x.append(row)\n",
    "        x.append(row+1)\n",
    "    for col in range(board['m']):\n",
    "        # y.append(col)\n",
    "        y.append(col+1)\n",
    "    default_x_ticks = range(len(x))\n",
    "    plt.xticks(default_x_ticks, x)\n",
    "    default_y_ticks = range(len(y))\n",
    "    plt.yticks(default_y_ticks, y)\n",
    "\n",
    "    plt.show()\n",
    "\n",
    "myboard = {\n",
    "    'n': 4,  ### hoizontal dots\n",
    "    'm': 4,   ### vertical dots\n",
    "    1: 0,   ### Player 1 Starting Score\n",
    "    -1: 0   ### Player 2 Starting Score\n",
    "}\n",
    "\n",
    "\n",
    "draw_line(myboard, \"v\", 1, 1,1)\n",
    "draw_line(myboard, \"v\", 2, 1,-1)\n",
    "draw_line(myboard, \"v\", 1, 2,1)\n",
    "draw_line(myboard, \"v\", 2, 3,-1)\n",
    "\n",
    "draw_line(myboard, \"h\", 1, 2,1)\n",
    "draw_line(myboard, \"h\", 2, 1,-1)\n",
    "draw_line(myboard, \"h\", 2, 2,1)\n",
    "draw_line(myboard, \"h\", 3, 2,-1)\n",
    "\n",
    "draw_line(myboard, \"v\", 2, 2,1)\n",
    "draw_line(myboard, \"v\", 1, 3,-1)\n",
    "draw_line(myboard, \"h\", 1, 1,1)\n",
    "draw_line(myboard, \"h\", 3, 1,-1)\n",
    "\n",
    "print_board(myboard, True)"
   ]
  },
  {
   "cell_type": "markdown",
   "metadata": {},
   "source": [
    "Implement helper functions for:\n",
    "\n",
    "* The transition model $result(s, a)$.\n",
    "* The utility function $utility(s)$.\n",
    "* Check for terminal states $terminal(s)$.\n",
    "* A check for available actions in each state $actions(s)$.\n",
    "\n",
    "Make sure that all these functions work with boards of different sizes (number of columns and rows as stored in the board)."
   ]
  },
  {
   "cell_type": "code",
   "execution_count": 499,
   "metadata": {},
   "outputs": [
    {
     "name": "stdout",
     "output_type": "stream",
     "text": [
      "--------------------ACTIONS--------------------\n",
      "[('h', 1, 3), ('v', 1, 4), ('h', 2, 3), ('v', 2, 4), ('v', 3, 1), ('v', 3, 2), ('v', 3, 3), ('h', 3, 3), ('v', 3, 4), ('h', 4, 1), ('h', 4, 2), ('h', 4, 3)]\n",
      "--------------------terminal--------------------\n",
      "False\n",
      "--------------------result--------------------\n",
      "{'n': 4, 'm': 4, 1: 2, -1: 2, ('v', 1, 1): True, ('v', 2, 1): True, ('v', 1, 2): True, ('v', 2, 3): True, ('h', 1, 2): True, ('h', 2, 1): True, ('h', 2, 2): True, ('h', 3, 2): True, ('v', 2, 2): True, (3, 2): 1, ('v', 1, 3): True, (2, 2): -1, ('h', 1, 1): True, (2, 1): 1, ('h', 3, 1): True, (3, 1): -1, ('h', 1, 3): True} False\n",
      "--------------------utility--------------------\n",
      "None\n"
     ]
    }
   ],
   "source": [
    "# A check for available actions in each state actions(s)\n",
    "def actions(s, verbose = False):\n",
    "    n = s['n']  # Rows\n",
    "    m = s['m']  # Columns\n",
    "    actions_remaining = []\n",
    "    if verbose: print_board(s)\n",
    "    for row in range(n):\n",
    "        for col in range(m):\n",
    "            if ('v', row+1, col+1) not in s and row != n-1:\n",
    "                actions_remaining.append(('v', row+1, col+1))\n",
    "            if ('h', row+1, col+1) not in s and col != m-1:\n",
    "                actions_remaining.append(('h', row+1, col+1))\n",
    "                # print(actions_remaining)\n",
    "    return actions_remaining\n",
    "\n",
    "def terminal(s):\n",
    "    if len(actions(s)) == 0: return True\n",
    "    else: return False\n",
    "\n",
    "def result(s, a, player):\n",
    "    temp_s = s.copy()\n",
    "    draw_res = draw_line(temp_s, a[0], a[1], a[2], player)\n",
    "    if draw_res[0] is True:\n",
    "        return temp_s, draw_res[1]\n",
    "    else:\n",
    "        print(\"This is not a valid move!\")\n",
    "\n",
    "def winner(s):\n",
    "    if s[1] > s[-1]:\n",
    "        return 1\n",
    "    elif s[-1] > s[1]:\n",
    "        return -1\n",
    "    else:\n",
    "        return 0\n",
    "\n",
    "def utility(s, player, verbose = False):\n",
    "    if terminal(s) is True:\n",
    "        if player == winner(s):\n",
    "            return 1\n",
    "        elif winner(s) == 0:\n",
    "            return 0\n",
    "        else:\n",
    "            return -1\n",
    "    else:\n",
    "        if verbose: print(\"Game is not over!\")\n",
    "        return None\n",
    "\n",
    "print(\"--------------------ACTIONS--------------------\")\n",
    "print(actions(myboard))\n",
    "print(\"--------------------terminal--------------------\")\n",
    "print(terminal(myboard))\n",
    "print(\"--------------------result--------------------\")\n",
    "result_state, another_turn = result(myboard, ['h', 1, 3], 1)\n",
    "print(result_state, another_turn)\n",
    "print(\"--------------------utility--------------------\")\n",
    "print(utility(myboard, 1))"
   ]
  },
  {
   "cell_type": "markdown",
   "source": [],
   "metadata": {
    "collapsed": false
   }
  },
  {
   "cell_type": "markdown",
   "metadata": {},
   "source": [
    "Implement an agent that plays randomly. Make sure the agent function receives as the percept the board and returns a valid action. Use an agent function definition with the following signature (arguments):\n",
    "\n",
    "`def random_player(board, player = None): ...`\n",
    "\n",
    "The argument `player` is used for agents that do not store what side they are playing. The value passed on by the environment should be 1 or -1 for player red and yellow, respectively.  See [Experiments section for tic-tac-toe](https://nbviewer.org/github/mhahsler/CS7320-AI/blob/master/Games/tictactoe_and_or_tree_search.ipynb#Experiments) for an example."
   ]
  },
  {
   "cell_type": "code",
   "execution_count": 500,
   "metadata": {},
   "outputs": [
    {
     "data": {
      "text/plain": "False"
     },
     "execution_count": 500,
     "metadata": {},
     "output_type": "execute_result"
    }
   ],
   "source": [
    "import random\n",
    "def random_player(board, player = None):\n",
    "     action_options = actions(board).copy() #might not be needed\n",
    "     a = random.choice(action_options)\n",
    "     drawn, another_turn = draw_line(board, a[0], a[1], a[2], player)\n",
    "     return another_turn\n",
    "\n",
    "random_player(myboard, 1)"
   ]
  },
  {
   "cell_type": "markdown",
   "metadata": {},
   "source": [
    "Let two random agents play against each other 1000 times. Look at the [Experiments section for tic-tac-toe](https://nbviewer.org/github/mhahsler/CS7320-AI/blob/master/Games/tictactoe_and_or_tree_search.ipynb#Experiments) to see how the environment uses the agent functions to play against each other.\n",
    "\n",
    "How often does each player win? Is the result expected?\n",
    "\n",
    "Each player should win 50% of the time.\n",
    "\n",
    "The result that I got was expected because it is only 513 vs 487 meaning only 13 out of the 1000 games should have gone to player 2 to make it a %50 vs. %50 win ratio.\n"
   ]
  },
  {
   "cell_type": "code",
   "execution_count": 501,
   "metadata": {
    "tags": []
   },
   "outputs": [
    {
     "name": "stdout",
     "output_type": "stream",
     "text": [
      "Player 2 Wins!\n",
      "Player 1: 495 Player 2: 505\n"
     ]
    }
   ],
   "source": [
    "random_board = {\n",
    "    'n': 4,  ### hoizontal dots\n",
    "    'm': 4,   ### vertical dots\n",
    "    1: 0,   ### Player 1 Starting Score\n",
    "    -1: 0   ### Player 2 Starting Score\n",
    "}\n",
    "\n",
    "def random_environment(board, verbose = False):\n",
    "    player1_total = 0\n",
    "    player2_total = 0\n",
    "\n",
    "    for x in range(1000):\n",
    "        temp_board = board.copy()\n",
    "        player = 1\n",
    "        while terminal(temp_board) is False:\n",
    "            if not random_player(temp_board, player):\n",
    "                if player == 1:\n",
    "                    player = -1\n",
    "                else:\n",
    "                    player = 1\n",
    "            if verbose: print_board(temp_board)\n",
    "\n",
    "        if winner(temp_board) == 1:\n",
    "            player1_total += 1\n",
    "        elif winner(temp_board) == -1:\n",
    "            player2_total += 1\n",
    "\n",
    "    if player1_total > player2_total:\n",
    "        print(f\"Player 1 Wins!\")\n",
    "    elif player2_total > player1_total:\n",
    "        print(f\"Player 2 Wins!\")\n",
    "    else:\n",
    "        print(f\"Player 1 and Player 2 Tide!\")\n",
    "    print(f\"Player 1: {player1_total} Player 2: {player2_total}\")\n",
    "\n",
    "\n",
    "random_environment(random_board)\n"
   ]
  },
  {
   "cell_type": "markdown",
   "metadata": {},
   "source": [
    "## Task 3: Minimax Search with Alpha-Beta Pruning [30 points]\n",
    "\n",
    "\n",
    "Implement the search starting from a given board and specifying the player and put it into an agent function.\n",
    "You can use code from the [tic-tac-toe example](https://nbviewer.org/github/mhahsler/CS7320-AI/blob/master/Games/tictactoe_alpha_beta_tree_search.ipynb).\n",
    "\n",
    "__Notes:__ \n",
    "* Make sure that all your agent functions have a signature consistent with the random agent above.\n",
    "* The search space for larger board may be too large. You can experiment with smaller boards.\n",
    "\n",
    "\n"
   ]
  },
  {
   "cell_type": "code",
   "execution_count": 623,
   "metadata": {},
   "outputs": [
    {
     "name": "stdout",
     "output_type": "stream",
     "text": [
      "Results:\n",
      "         -1: 0\n",
      "          1: 0\n"
     ]
    },
    {
     "data": {
      "text/plain": "<Figure size 432x288 with 1 Axes>",
      "image/png": "[encoded data removed]"
     },
     "metadata": {
      "needs_background": "light"
     },
     "output_type": "display_data"
    },
    {
     "data": {
      "text/plain": "(1, ('h', 3, 1))"
     },
     "execution_count": 623,
     "metadata": {},
     "output_type": "execute_result"
    }
   ],
   "source": [
    "count = 0\n",
    "\n",
    "minimax_board = {\n",
    "    'n': 3,  ### hoizontal dots\n",
    "    'm': 3,   ### vertical dots\n",
    "    1: 0,   ### Player 1 Starting Score\n",
    "    -1: 0   ### Player 2 Starting Score\n",
    "}\n",
    "\n",
    "draw_line(minimax_board, \"v\", 2, 1,-1)\n",
    "draw_line(minimax_board, \"v\", 2, 2,1)\n",
    "draw_line(minimax_board, \"v\", 2, 3,-1)\n",
    "draw_line(minimax_board, \"h\", 1, 2,1)\n",
    "draw_line(minimax_board, \"h\", 2, 1,-1)\n",
    "draw_line(minimax_board, \"h\", 2, 2,1)\n",
    "\n",
    "def other(player):\n",
    "    if player == 1: return -1\n",
    "    else: return 1\n",
    "\n",
    "def minimax_alpha_beta_search(state, player = 1, verbose = False):\n",
    "    global count\n",
    "    count = 0\n",
    "\n",
    "    if verbose: print_board(state)\n",
    "    value, move = max_value(state, player, -math.inf, +math.inf, verbose)\n",
    "    if verbose: print(f\"Number of nodes searched: {count}\")\n",
    "\n",
    "    return (value, move)\n",
    "\n",
    "def max_value(state, player, alpha, beta, verbose = False):\n",
    "    #player 1's best move.\n",
    "    global count\n",
    "    count += 1\n",
    "\n",
    "    # return utility of state if it is a terminal state\n",
    "    v = utility(state, player)\n",
    "    if verbose: print(f\"max: {state} [alpha,beta]=[{alpha},{beta}] v={v}\")\n",
    "    if v is not None: return v, None\n",
    "\n",
    "    v, move = -math.inf, None\n",
    "\n",
    "    # check all possible actions in the state, return move with the largest value\n",
    "    for a in actions(state):\n",
    "        if verbose: print(a)\n",
    "        new_state, another_turn = result(state, a, player)\n",
    "        if another_turn:\n",
    "            v2, a2 = max_value(new_state, player, alpha, beta, verbose)\n",
    "        else:\n",
    "            v2, a2 = min_value(new_state, player, alpha, beta, verbose)\n",
    "        if verbose: print(f\"max: {state} (backtracked) [alpha,beta]=[{alpha},{beta}] v={v2}\")\n",
    "        if v2 > v:\n",
    "            v, move = v2, a\n",
    "            alpha = max(alpha, v)\n",
    "        if v >= beta:\n",
    "            if verbose: print(f\"     v>=beta ({v}>={beta}): pruning remaining subtree (actions). backtracking.\")\n",
    "            return v, move\n",
    "\n",
    "    if verbose: print(\"max out:  + str(state)\" + str([v, move]) )\n",
    "    return v, move\n",
    "\n",
    "def min_value(state, player, alpha, beta, verbose = False):\n",
    "    \"\"\"opponent's best response.\"\"\"\n",
    "    global count\n",
    "    count += 1\n",
    "\n",
    "    # return utility of state if it is a terminal state\n",
    "    v = utility(state, player)\n",
    "    if verbose: print(f\"min: {state} [alpha,beta]=[{alpha},{beta}] v={v}\")\n",
    "    if v is not None: return v, None\n",
    "\n",
    "    v, move = +math.inf, None\n",
    "\n",
    "    # check all possible actions in the state, return move with the smallest value\n",
    "    for a in actions(state):\n",
    "        if verbose: print(a)\n",
    "        new_state, another_turn = result(state, a, other(player))\n",
    "        if another_turn:\n",
    "            v2, a2 = min_value(new_state, player, alpha, beta, verbose)\n",
    "        else:\n",
    "            v2, a2 = max_value(new_state, player, alpha, beta, verbose)\n",
    "        # v2, a2 = max_value(result(state, a, other(player)), player, alpha, beta, verbose)\n",
    "        if verbose: print(f\"min: {state} (backtracked) [alpha,beta]=[{alpha},{beta}] v={v2}\")\n",
    "        if v2 < v:\n",
    "            v, move = v2, a\n",
    "            beta = min(beta, v)\n",
    "        if v <= alpha:\n",
    "            if verbose: print(f\"     v<=alpha ({v}<={alpha}): pruning remaining subtree (actions). backtracking.\")\n",
    "            return v, move\n",
    "\n",
    "    if verbose: print(\"min out: + str(state)\" + str([v, move]) )\n",
    "    return v, move\n",
    "\n",
    "print_board(minimax_board)\n",
    "minimax_alpha_beta_search(minimax_board, 1)"
   ]
  },
  {
   "cell_type": "markdown",
   "metadata": {},
   "source": [
    "Experiment with some manually created boards (at least 5) to check if the agent spots winning opportunities."
   ]
  },
  {
   "cell_type": "code",
   "execution_count": 503,
   "metadata": {},
   "outputs": [
    {
     "name": "stdout",
     "output_type": "stream",
     "text": [
      "(1, ('h', 3, 2))\n",
      "Results:\n",
      "         -1: 0\n",
      "          1: 3\n"
     ]
    },
    {
     "data": {
      "text/plain": "<Figure size 432x288 with 1 Axes>",
      "image/png": "[encoded data removed]"
     },
     "metadata": {
      "needs_background": "light"
     },
     "output_type": "display_data"
    },
    {
     "name": "stdout",
     "output_type": "stream",
     "text": [
      "(1, ('h', 3, 1))\n",
      "Results:\n",
      "         -1: 0\n",
      "          1: 0\n"
     ]
    },
    {
     "data": {
      "text/plain": "<Figure size 432x288 with 1 Axes>",
      "image/png": "[encoded data removed]"
     },
     "metadata": {
      "needs_background": "light"
     },
     "output_type": "display_data"
    },
    {
     "name": "stdout",
     "output_type": "stream",
     "text": [
      "(0, ('h', 3, 2))\n",
      "Results:\n",
      "         -1: 0\n",
      "          1: 0\n"
     ]
    },
    {
     "data": {
      "text/plain": "<Figure size 432x288 with 1 Axes>",
      "image/png": "[encoded data removed]"
     },
     "metadata": {
      "needs_background": "light"
     },
     "output_type": "display_data"
    },
    {
     "name": "stdout",
     "output_type": "stream",
     "text": [
      "(1, ('h', 4, 2))\n",
      "Results:\n",
      "         -1: 3\n",
      "          1: 3\n"
     ]
    },
    {
     "data": {
      "text/plain": "<Figure size 432x288 with 1 Axes>",
      "image/png": "[encoded data removed]"
     },
     "metadata": {
      "needs_background": "light"
     },
     "output_type": "display_data"
    },
    {
     "name": "stdout",
     "output_type": "stream",
     "text": [
      "(1, ('h', 1, 2))\n",
      "Results:\n",
      "         -1: 3\n",
      "          1: 3\n"
     ]
    },
    {
     "data": {
      "text/plain": "<Figure size 432x288 with 1 Axes>",
      "image/png": "[encoded data removed]"
     },
     "metadata": {
      "needs_background": "light"
     },
     "output_type": "display_data"
    }
   ],
   "source": [
    "# --------------- Board 1 ---------------\n",
    "test_board_1 = {\n",
    "    'n': 3,  ### hoizontal dots\n",
    "    'm': 3,   ### vertical dots\n",
    "    1: 0,   ### Player 1 Starting Score\n",
    "    -1: 0   ### Player 2 Starting Score\n",
    "}\n",
    "\n",
    "draw_line(test_board_1, \"v\", 1, 1,1)\n",
    "draw_line(test_board_1, \"v\", 1, 2,1)\n",
    "draw_line(test_board_1, \"v\", 1, 3,1)\n",
    "draw_line(test_board_1, \"v\", 2, 1,1)\n",
    "draw_line(test_board_1, \"v\", 2, 2,1)\n",
    "draw_line(test_board_1, \"v\", 2, 3,1)\n",
    "\n",
    "draw_line(test_board_1, \"h\", 1, 1,1)\n",
    "draw_line(test_board_1, \"h\", 1, 2,1)\n",
    "draw_line(test_board_1, \"h\", 2, 1,1)\n",
    "draw_line(test_board_1, \"h\", 2, 2,1)\n",
    "draw_line(test_board_1, \"h\", 3, 1,1)\n",
    "\n",
    "print(minimax_alpha_beta_search(test_board_1, 1))\n",
    "print_board(test_board_1)\n",
    "\n",
    "# --------------- Board 2 ---------------\n",
    "test_board_2 = {\n",
    "    'n': 3,  ### hoizontal dots\n",
    "    'm': 3,   ### vertical dots\n",
    "    1: 0,   ### Player 1 Starting Score\n",
    "    -1: 0   ### Player 2 Starting Score\n",
    "}\n",
    "draw_line(test_board_2, \"v\", 2, 1,1)\n",
    "draw_line(test_board_2, \"v\", 2, 2,1)\n",
    "draw_line(test_board_2, \"v\", 2, 3,1)\n",
    "\n",
    "draw_line(test_board_2, \"h\", 1, 2,1)\n",
    "draw_line(test_board_2, \"h\", 2, 1,1)\n",
    "draw_line(test_board_2, \"h\", 2, 2,1)\n",
    "\n",
    "print(minimax_alpha_beta_search(test_board_2, 1))\n",
    "print_board(test_board_2)\n",
    "\n",
    "# --------------- Board 3 ---------------\n",
    "test_board_3 = {\n",
    "    'n': 3,  ### hoizontal dots\n",
    "    'm': 3,   ### vertical dots\n",
    "    1: 0,   ### Player 1 Starting Score\n",
    "    -1: 0   ### Player 2 Starting Score\n",
    "}\n",
    "\n",
    "draw_line(test_board_3, \"v\", 2, 2,1)\n",
    "draw_line(test_board_3, \"v\", 2, 3,1)\n",
    "\n",
    "draw_line(test_board_3, \"h\", 1, 2,1)\n",
    "draw_line(test_board_3, \"h\", 2, 1,1)\n",
    "draw_line(test_board_3, \"h\", 2, 2,1)\n",
    "\n",
    "print(minimax_alpha_beta_search(test_board_3, 1))\n",
    "print_board(test_board_3)\n",
    "\n",
    "# --------------- Board 4 ---------------\n",
    "test_board_4 = {\n",
    "    'n': 4,  ### hoizontal dots\n",
    "    'm': 4,   ### vertical dots\n",
    "    1: 0,   ### Player 1 Starting Score\n",
    "    -1: 0   ### Player 2 Starting Score\n",
    "}\n",
    "\n",
    "draw_line(test_board_4, \"v\", 1, 1,1)\n",
    "draw_line(test_board_4, \"v\", 1, 2,1)\n",
    "draw_line(test_board_4, \"v\", 1, 3,1)\n",
    "draw_line(test_board_4, \"v\", 1, 4,1)\n",
    "draw_line(test_board_4, \"v\", 2, 1,1)\n",
    "draw_line(test_board_4, \"v\", 2, 2,1)\n",
    "draw_line(test_board_4, \"v\", 2, 3,1)\n",
    "draw_line(test_board_4, \"v\", 2, 4,1)\n",
    "draw_line(test_board_4, \"v\", 3, 2,1)\n",
    "draw_line(test_board_4, \"v\", 3, 3,1)\n",
    "\n",
    "draw_line(test_board_4, \"h\", 1, 1,1)\n",
    "draw_line(test_board_4, \"h\", 1, 2,1)\n",
    "draw_line(test_board_4, \"h\", 1, 3,1)\n",
    "draw_line(test_board_4, \"h\", 2, 1,1)\n",
    "draw_line(test_board_4, \"h\", 2, 2,1)\n",
    "draw_line(test_board_4, \"h\", 2, 3,1)\n",
    "draw_line(test_board_4, \"h\", 3, 1,-1)\n",
    "draw_line(test_board_4, \"h\", 3, 2,-1)\n",
    "draw_line(test_board_4, \"h\", 3, 3,-1)\n",
    "\n",
    "\n",
    "print(minimax_alpha_beta_search(test_board_4, 1))\n",
    "print_board(test_board_4)\n",
    "\n",
    "\n",
    "# --------------- Board 5 ---------------\n",
    "test_board_5 = {\n",
    "    'n': 4,  ### hoizontal dots\n",
    "    'm': 4,   ### vertical dots\n",
    "    1: 0,   ### Player 1 Starting Score\n",
    "    -1: 0   ### Player 2 Starting Score\n",
    "}\n",
    "\n",
    "draw_line(test_board_5, \"v\", 1, 2,1)\n",
    "draw_line(test_board_5, \"v\", 1, 3,1)\n",
    "draw_line(test_board_5, \"v\", 1, 4,1)\n",
    "draw_line(test_board_5, \"v\", 2, 1,1)\n",
    "draw_line(test_board_5, \"v\", 2, 2,1)\n",
    "draw_line(test_board_5, \"v\", 2, 3,1)\n",
    "draw_line(test_board_5, \"v\", 2, 4,1)\n",
    "draw_line(test_board_5, \"v\", 3, 1,1)\n",
    "draw_line(test_board_5, \"v\", 3, 2,1)\n",
    "draw_line(test_board_5, \"v\", 3, 3,1)\n",
    "draw_line(test_board_5, \"v\", 3, 4,1)\n",
    "\n",
    "draw_line(test_board_5, \"h\", 2, 1,1)\n",
    "draw_line(test_board_5, \"h\", 2, 2,1)\n",
    "draw_line(test_board_5, \"h\", 2, 3,1)\n",
    "draw_line(test_board_5, \"h\", 3, 1,-1)\n",
    "draw_line(test_board_5, \"h\", 3, 2,-1)\n",
    "draw_line(test_board_5, \"h\", 3, 3,-1)\n",
    "draw_line(test_board_5, \"h\", 4, 1,1)\n",
    "draw_line(test_board_5, \"h\", 4, 2,1)\n",
    "draw_line(test_board_5, \"h\", 4, 3,1)\n",
    "\n",
    "\n",
    "print(minimax_alpha_beta_search(test_board_5, 1))\n",
    "print_board(test_board_5)"
   ]
  },
  {
   "cell_type": "markdown",
   "metadata": {},
   "source": [
    "How long does it take to make a move? Start with a smaller board make the board larger. What is the largest board you can solve?"
   ]
  },
  {
   "cell_type": "code",
   "execution_count": 555,
   "metadata": {},
   "outputs": [
    {
     "name": "stdout",
     "output_type": "stream",
     "text": [
      "board with size 2x2 took: 0.040469999657943845 milliseconds\n",
      "board with size 3x3 took: 487.4694099999033 milliseconds\n"
     ]
    }
   ],
   "source": [
    "import timeit\n",
    "\n",
    "time_board_2x2 = {\n",
    "    'n': 2,  ### hoizontal dots\n",
    "    'm': 2,   ### vertical dots\n",
    "    1: 0,   ### Player 1 Starting Score\n",
    "    -1: 0   ### Player 2 Starting Score\n",
    "}\n",
    "\n",
    "time_board_3x3 = {\n",
    "    'n': 3,  ### hoizontal dots\n",
    "    'm': 3,   ### vertical dots\n",
    "    1: 0,   ### Player 1 Starting Score\n",
    "    -1: 0   ### Player 2 Starting Score\n",
    "}\n",
    "\n",
    "\n",
    "start_time = timeit.default_timer()\n",
    "minimax_alpha_beta_search(time_board_2x2, 1,)\n",
    "end_time = timeit.default_timer()\n",
    "print(f\"board with size 2x2 took: {(end_time-start_time)/10 * 1e3} milliseconds\")\n",
    "\n",
    "start_time = timeit.default_timer()\n",
    "minimax_alpha_beta_search(time_board_3x3, 1,)\n",
    "end_time = timeit.default_timer()\n",
    "print(f\"board with size 3x3 took: {(end_time-start_time)/10 * 1e3} milliseconds\")"
   ]
  },
  {
   "cell_type": "markdown",
   "source": [
    "The 4x4 grid ran for too long so I cancelled it because it basically wouldn't run"
   ],
   "metadata": {
    "collapsed": false
   }
  },
  {
   "cell_type": "markdown",
   "metadata": {},
   "source": [
    "### Move ordering\n",
    "\n",
    "Starting the search with better moves will increase the efficiency of alpha-beta pruning. Describe and implement a simple move ordering strategy. Make a table that shows how the ordering strategies influence the time it takes to make a move?"
   ]
  },
  {
   "cell_type": "code",
   "execution_count": 575,
   "metadata": {},
   "outputs": [
    {
     "name": "stdout",
     "output_type": "stream",
     "text": [
      "Results:\n",
      "         -1: 0\n",
      "          1: 0\n"
     ]
    },
    {
     "data": {
      "text/plain": "<Figure size 432x288 with 1 Axes>",
      "image/png": "[encoded data removed]"
     },
     "metadata": {
      "needs_background": "light"
     },
     "output_type": "display_data"
    },
    {
     "name": "stdout",
     "output_type": "stream",
     "text": [
      "Results:\n",
      "         -1: 0\n",
      "          1: 0\n"
     ]
    },
    {
     "data": {
      "text/plain": "<Figure size 432x288 with 1 Axes>",
      "image/png": "[encoded data removed]"
     },
     "metadata": {
      "needs_background": "light"
     },
     "output_type": "display_data"
    },
    {
     "name": "stdout",
     "output_type": "stream",
     "text": [
      "Results:\n",
      "         -1: 3\n",
      "          1: 0\n"
     ]
    },
    {
     "data": {
      "text/plain": "<Figure size 432x288 with 1 Axes>",
      "image/png": "[encoded data removed]"
     },
     "metadata": {
      "needs_background": "light"
     },
     "output_type": "display_data"
    },
    {
     "name": "stdout",
     "output_type": "stream",
     "text": [
      "test_board_1_mo WITHOUT Move ordering: 47.496709995903075 milliseconds\n",
      "test_board_2_mo WITHOUT Move ordering: 0.7416700012981892 milliseconds\n",
      "test_board_3_mo WITHOUT Move ordering: 3514.1691499971785 milliseconds\n",
      "test_board_1_mo WITH Move ordering: 6.2484399997629225 milliseconds\n",
      "test_board_2_mo WITH Move ordering: 0.36066999891772866 milliseconds\n",
      "test_board_3_mo WITH Move ordering: 51.126110000768676 milliseconds\n"
     ]
    }
   ],
   "source": [
    "import math\n",
    "count = 0\n",
    "\n",
    "minimax_board_MO = {\n",
    "    'n': 3,  ### hoizontal dots\n",
    "    'm': 3,   ### vertical dots\n",
    "    1: 0,   ### Player 1 Starting Score\n",
    "    -1: 0   ### Player 2 Starting Score\n",
    "}\n",
    "\n",
    "draw_line(minimax_board_MO, \"v\", 2, 1,-1)\n",
    "draw_line(minimax_board_MO, \"v\", 2, 2,1)\n",
    "draw_line(minimax_board_MO, \"v\", 2, 3,-1)\n",
    "draw_line(minimax_board_MO, \"h\", 1, 2,1)\n",
    "draw_line(minimax_board_MO, \"h\", 2, 1,-1)\n",
    "draw_line(minimax_board_MO, \"h\", 2, 2,1)\n",
    "\n",
    "def is_box(board, orientation, row, col, verbose = False):\n",
    "    # Check for new Boxes\n",
    "    boxes = 0\n",
    "    if orientation == 'v':\n",
    "        # Check if box to the Left\n",
    "        if ('v', row, col-1) in board and ('h', row, col-1) in board and ('h', row+1, col-1) in board:\n",
    "            boxes += 1\n",
    "        # Check if box to the Right\n",
    "        if ('h', row, col) in board and ('h', row+1, col) in board and ('v', row, col+1) in board:\n",
    "            boxes += 1\n",
    "    if orientation == 'h':\n",
    "        # Check if box Above\n",
    "        if ('v', row, col) in board and ('h', row+1, col) in board and ('v', row, col+1) in board:\n",
    "            boxes += 1\n",
    "        # Check if box Below\n",
    "        if ('v', row-1, col) in board and ('h', row-1, col) in board and ('v', row-1, col+1) in board:\n",
    "            boxes += 1\n",
    "    return boxes\n",
    "\n",
    "def move_ordering(s, verbose = False):\n",
    "    no_box = []\n",
    "    one_box = []\n",
    "    two_boxes = []\n",
    "    available_actions = actions(s)\n",
    "    for a in available_actions:\n",
    "        box_num = is_box(s, a[0], a[1], a[2])\n",
    "        if box_num == 2:\n",
    "            two_boxes.append(a)\n",
    "        if box_num == 1:\n",
    "            one_box.append(a)\n",
    "        else:\n",
    "            no_box.append(a)\n",
    "    two_boxes.extend(one_box)\n",
    "    two_boxes.extend(no_box)\n",
    "    return two_boxes\n",
    "\n",
    "def minimax_alpha_beta_search_MO(state, player = 1, verbose = False):\n",
    "    global count\n",
    "    count = 0\n",
    "\n",
    "    value, move = max_value_MO(state, player, -math.inf, +math.inf, verbose)\n",
    "    if verbose: print(f\"Number of nodes searched: {count}\")\n",
    "\n",
    "    return (value, move)\n",
    "\n",
    "def max_value_MO(state, player, alpha, beta, verbose = False):\n",
    "    #player 1's best move.\n",
    "    global count\n",
    "    count += 1\n",
    "\n",
    "    # return utility of state if it is a terminal state\n",
    "    v = utility(state, player)\n",
    "    if verbose: print(f\"max: {state} [alpha,beta]=[{alpha},{beta}] v={v}\")\n",
    "    if v is not None: return v, None\n",
    "\n",
    "    v, move = -math.inf, None\n",
    "\n",
    "    # check all possible actions in the state, return move with the largest value\n",
    "    for a in move_ordering(state):\n",
    "        if verbose: print(a)\n",
    "        new_state, another_turn = result(state, a, player)\n",
    "        if another_turn:\n",
    "            v2, a2 = max_value_MO(new_state, player, alpha, beta, verbose)\n",
    "        else:\n",
    "            v2, a2 = min_value_MO(new_state, player, alpha, beta, verbose)\n",
    "        if verbose: print(f\"max: {state} (backtracked) [alpha,beta]=[{alpha},{beta}] v={v2}\")\n",
    "        if v2 > v:\n",
    "            v, move = v2, a\n",
    "            alpha = max(alpha, v)\n",
    "        if v >= beta:\n",
    "            if verbose: print(f\"     v>=beta ({v}>={beta}): pruning remaining subtree (actions). backtracking.\")\n",
    "            return v, move\n",
    "\n",
    "    if verbose: print(\"max out:  + str(state)\" + str([v, move]) )\n",
    "    return v, move\n",
    "\n",
    "def min_value_MO(state, player, alpha, beta, verbose = False):\n",
    "    \"\"\"opponent's best response.\"\"\"\n",
    "    global count\n",
    "    count += 1\n",
    "\n",
    "    # return utility of state if it is a terminal state\n",
    "    v = utility(state, player)\n",
    "    if verbose: print(f\"min: {state} [alpha,beta]=[{alpha},{beta}] v={v}\")\n",
    "    if v is not None: return v, None\n",
    "\n",
    "    v, move = +math.inf, None\n",
    "\n",
    "    # check all possible actions in the state, return move with the smallest value\n",
    "    for a in move_ordering(state):\n",
    "        if verbose: print(a)\n",
    "        new_state, another_turn = result(state, a, other(player))\n",
    "        if another_turn:\n",
    "            v2, a2 = min_value_MO(new_state, player, alpha, beta, verbose)\n",
    "        else:\n",
    "            v2, a2 = max_value_MO(new_state, player, alpha, beta, verbose)\n",
    "        # v2, a2 = max_value(result(state, a, other(player)), player, alpha, beta, verbose)\n",
    "        if verbose: print(f\"min: {state} (backtracked) [alpha,beta]=[{alpha},{beta}] v={v2}\")\n",
    "        if v2 < v:\n",
    "            v, move = v2, a\n",
    "            beta = min(beta, v)\n",
    "        if v <= alpha:\n",
    "            if verbose: print(f\"     v<=alpha ({v}<={alpha}): pruning remaining subtree (actions). backtracking.\")\n",
    "            return v, move\n",
    "\n",
    "    if verbose: print(\"min out: + str(state)\" + str([v, move]) )\n",
    "    return v, move\n",
    "\n",
    "\n",
    "# --------------- Move ordering Board 1 ---------------\n",
    "test_board_1_mo = {\n",
    "    'n': 3,  ### hoizontal dots\n",
    "    'm': 3,   ### vertical dots\n",
    "    1: 0,   ### Player 1 Starting Score\n",
    "    -1: 0   ### Player 2 Starting Score\n",
    "}\n",
    "\n",
    "draw_line(test_board_1_mo, \"v\", 2, 1,1)\n",
    "draw_line(test_board_1_mo, \"v\", 2, 2,1)\n",
    "draw_line(test_board_1_mo, \"h\", 2, 1,1)\n",
    "\n",
    "print_board(test_board_1_mo)\n",
    "\n",
    "# --------------- Move ordering Board 2 ---------------\n",
    "test_board_2_mo = {\n",
    "    'n': 3,  ### hoizontal dots\n",
    "    'm': 3,   ### vertical dots\n",
    "    1: 0,   ### Player 1 Starting Score\n",
    "    -1: 0   ### Player 2 Starting Score\n",
    "}\n",
    "\n",
    "draw_line(test_board_2_mo, \"v\", 2, 1,1)\n",
    "draw_line(test_board_2_mo, \"v\", 2, 3,1)\n",
    "draw_line(test_board_2_mo, \"h\", 2, 1,1)\n",
    "draw_line(test_board_2_mo, \"h\", 2, 2,1)\n",
    "draw_line(test_board_2_mo, \"h\", 3, 1,1)\n",
    "draw_line(test_board_2_mo, \"h\", 3, 2,1)\n",
    "\n",
    "print_board(test_board_2_mo)\n",
    "\n",
    "# --------------- Board 3 ---------------\n",
    "test_board_3_mo = {\n",
    "    'n': 4,  ### hoizontal dots\n",
    "    'm': 4,   ### vertical dots\n",
    "    1: 0,   ### Player 1 Starting Score\n",
    "    -1: 0   ### Player 2 Starting Score\n",
    "}\n",
    "\n",
    "draw_line(test_board_3_mo, \"v\", 2, 1,1)\n",
    "draw_line(test_board_3_mo, \"v\", 2, 2,1)\n",
    "draw_line(test_board_3_mo, \"v\", 2, 3,1)\n",
    "draw_line(test_board_3_mo, \"v\", 2, 4,1)\n",
    "draw_line(test_board_3_mo, \"v\", 3, 2,1)\n",
    "draw_line(test_board_3_mo, \"v\", 3, 3,1)\n",
    "draw_line(test_board_3_mo, \"h\", 2, 1,1)\n",
    "draw_line(test_board_3_mo, \"h\", 2, 2,1)\n",
    "draw_line(test_board_3_mo, \"h\", 2, 3,1)\n",
    "draw_line(test_board_3_mo, \"h\", 3, 1,-1)\n",
    "draw_line(test_board_3_mo, \"h\", 3, 2,-1)\n",
    "draw_line(test_board_3_mo, \"h\", 3, 3,-1)\n",
    "\n",
    "print_board(test_board_3_mo)\n",
    "\n",
    "#-------------------- WITHOUT Move ordering --------------------\n",
    "start_time = timeit.default_timer()\n",
    "minimax_alpha_beta_search(test_board_1_mo, 1, False)\n",
    "end_time = timeit.default_timer()\n",
    "print(f\"test_board_1_mo WITHOUT Move ordering: {(end_time-start_time)/10 * 1e3} milliseconds\")\n",
    "\n",
    "start_time = timeit.default_timer()\n",
    "minimax_alpha_beta_search(test_board_2_mo, 1, False)\n",
    "end_time = timeit.default_timer()\n",
    "print(f\"test_board_2_mo WITHOUT Move ordering: {(end_time-start_time)/10 * 1e3} milliseconds\")\n",
    "\n",
    "start_time = timeit.default_timer()\n",
    "minimax_alpha_beta_search(test_board_3_mo, 1, False)\n",
    "end_time = timeit.default_timer()\n",
    "print(f\"test_board_3_mo WITHOUT Move ordering: {(end_time-start_time)/10 * 1e3} milliseconds\")\n",
    "\n",
    "#-------------------- WITH Move ordering --------------------\n",
    "start_time = timeit.default_timer()\n",
    "minimax_alpha_beta_search_MO(test_board_1_mo, 1, False)\n",
    "end_time = timeit.default_timer()\n",
    "print(f\"test_board_1_mo WITH Move ordering: {(end_time-start_time)/10 * 1e3} milliseconds\")\n",
    "\n",
    "start_time = timeit.default_timer()\n",
    "minimax_alpha_beta_search_MO(test_board_2_mo, 1, False)\n",
    "end_time = timeit.default_timer()\n",
    "print(f\"test_board_2_mo WITH Move ordering: {(end_time-start_time)/10 * 1e3} milliseconds\")\n",
    "\n",
    "start_time = timeit.default_timer()\n",
    "minimax_alpha_beta_search_MO(test_board_3_mo, 1, False)\n",
    "end_time = timeit.default_timer()\n",
    "print(f\"test_board_3_mo WITH Move ordering: {(end_time-start_time)/10 * 1e3} milliseconds\")\n",
    "\n"
   ]
  },
  {
   "cell_type": "markdown",
   "source": [
    "As you can see from the results, the move ordering makes an improvement, but the improvement, and is most effective when there are a lot of possible options like the results found testing on test_board_3_mo. Overall, the results make sense because, when move ordering is used, there are more branches that are able to be pruned when a better branch is already searched down first.\n"
   ],
   "metadata": {
    "collapsed": false
   }
  },
  {
   "cell_type": "markdown",
   "metadata": {},
   "source": [
    "### The first few moves\n",
    "\n",
    "Start with an empty board. This is the worst case scenario for minimax search with alpha-beta pruning since it needs solve all possible games that can be played (minus some pruning) before making the decision. What can you do? "
   ]
  },
  {
   "cell_type": "markdown",
   "metadata": {
    "pycharm": {
     "name": "#%% md\n"
    }
   },
   "source": [
    "Improvements that I would make in order to reduce the time spent in the beginning moves is I would search the board until I found a spot that did not make any U shapes (3 parts to an entire square) or a spot that was currently a U shape that could be turned into a square. There is no reason to exhaust a search of all playable moves when it is too early in the game to predict what the opponent will do next. At this point in the game, the most important objective is to make sure not to give the opponent any easy squares by creating a U for the opponent. The second most important objective at this stage of the game would be to make sure to close any U shapes into boxes in order to take easy boxes that the opponent accidentally creates. After there are no more possible spot that won't create a U, this is when the alpha_beta search should take over in order to predict the best moves with a reduced number of moves remaining."
   ]
  },
  {
   "cell_type": "markdown",
   "metadata": {},
   "source": [
    "### Playtime\n",
    "\n",
    "Let the Minimax Search agent play a random agent on a small board. Analyze wins, losses and draws."
   ]
  },
  {
   "cell_type": "code",
   "execution_count": 579,
   "metadata": {},
   "outputs": [
    {
     "name": "stdout",
     "output_type": "stream",
     "text": [
      "Player 1 Wins!\n",
      "Player 1: 10 Player 2: 0\n"
     ]
    }
   ],
   "source": [
    "# --------------- Minimax VS. Random ---------------\n",
    "minimax_vs_random = {\n",
    "    'n': 3,  ### hoizontal dots\n",
    "    'm': 3,   ### vertical dots\n",
    "    1: 0,   ### Player 1 Starting Score\n",
    "    -1: 0   ### Player 2 Starting Score\n",
    "}\n",
    "def minimax_player(board, player = None):\n",
    "    v, a = minimax_alpha_beta_search_MO(board, player, False)\n",
    "    drawn, another_turn = draw_line(board, a[0], a[1], a[2], player)\n",
    "    return another_turn\n",
    "\n",
    "def minimax_environment(board, verbose = False):\n",
    "    player1_total = 0\n",
    "    player2_total = 0\n",
    "\n",
    "    for x in range(10):\n",
    "        temp_board = board.copy()\n",
    "        player = 1\n",
    "        while terminal(temp_board) is False:\n",
    "            if player == 1:\n",
    "                if not minimax_player(temp_board, player):\n",
    "                    player = -1\n",
    "            else:\n",
    "                if not random_player(temp_board, player):\n",
    "                    player = 1\n",
    "            if verbose: print_board(temp_board)\n",
    "\n",
    "        if winner(temp_board) == 1:\n",
    "            player1_total += 1\n",
    "        elif winner(temp_board) == -1:\n",
    "            player2_total += 1\n",
    "\n",
    "    if player1_total > player2_total:\n",
    "        print(f\"Player 1 Wins!\")\n",
    "    elif player2_total > player1_total:\n",
    "        print(f\"Player 2 Wins!\")\n",
    "    else:\n",
    "        print(f\"Player 1 and Player 2 Tied!\")\n",
    "    print(f\"Player 1: {player1_total} Player 2: {player2_total}\")\n",
    "\n",
    "\n",
    "minimax_environment(minimax_vs_random, False)"
   ]
  },
  {
   "cell_type": "markdown",
   "metadata": {},
   "source": [
    "## Task 4: Heuristic Alpha-Beta Tree Search [30 points] \n",
    "\n",
    "### Heuristic evaluation function\n",
    "\n",
    "Define and implement a heuristic evaluation function."
   ]
  },
  {
   "cell_type": "code",
   "execution_count": 610,
   "metadata": {},
   "outputs": [],
   "source": [
    "def heuristic_value(s, player, verbose = False):\n",
    "    num_of_squares = (s['n']-1) * (s['m']-1)\n",
    "    other_player = other(player)\n",
    "    difference = s[player] - s[other_player]\n",
    "    v = difference/num_of_squares\n",
    "    return v"
   ]
  },
  {
   "cell_type": "markdown",
   "metadata": {},
   "source": [
    "### Cutting off search \n",
    "\n",
    "Modify your Minimax Search with Alpha-Beta Pruning to cut off search at a specified depth and use the heuristic evaluation function. Experiment with different cutoff values."
   ]
  },
  {
   "cell_type": "code",
   "execution_count": 626,
   "metadata": {},
   "outputs": [
    {
     "name": "stdout",
     "output_type": "stream",
     "text": [
      "Results:\n",
      "         -1: 0\n",
      "          1: 0\n"
     ]
    },
    {
     "data": {
      "text/plain": "<Figure size 432x288 with 1 Axes>",
      "image/png": "[encoded data removed]"
     },
     "metadata": {
      "needs_background": "light"
     },
     "output_type": "display_data"
    },
    {
     "data": {
      "text/plain": "(1.0, ('h', 3, 1))"
     },
     "execution_count": 626,
     "metadata": {},
     "output_type": "execute_result"
    }
   ],
   "source": [
    "heuristic_board = {\n",
    "    'n': 3,  ### hoizontal dots\n",
    "    'm': 3,   ### vertical dots\n",
    "    1: 0,   ### Player 1 Starting Score\n",
    "    -1: 0   ### Player 2 Starting Score\n",
    "}\n",
    "\n",
    "draw_line(heuristic_board, \"v\", 2, 1,-1)\n",
    "draw_line(heuristic_board, \"v\", 2, 2,1)\n",
    "draw_line(heuristic_board, \"v\", 2, 3,-1)\n",
    "draw_line(heuristic_board, \"h\", 1, 2,1)\n",
    "draw_line(heuristic_board, \"h\", 2, 1,-1)\n",
    "draw_line(heuristic_board, \"h\", 2, 2,1)\n",
    "\n",
    "action_count = 0\n",
    "\n",
    "def heuristic_search(state, player = 1, cutoff = None, verbose = False):\n",
    "    global count\n",
    "    count = 0\n",
    "\n",
    "    if verbose: print_board(state)\n",
    "    value, move = heuristic_max_value(state, player, -math.inf, +math.inf, 0, cutoff, verbose)\n",
    "    if verbose: print(f\"Number of nodes searched (cutoff = {cutoff}): {count}\")\n",
    "\n",
    "    return (value, move)\n",
    "\n",
    "def heuristic_max_value(state, player, alpha, beta, depth, cutoff, verbose = True):\n",
    "    #player 1's best move.\n",
    "    global count\n",
    "    global action_count\n",
    "    count += 1\n",
    "    # return heuristic_value of state if it is a terminal state\n",
    "    v = heuristic_value(state, player)\n",
    "    is_terminal = terminal(state)\n",
    "    if (cutoff is not None and depth >= cutoff) or is_terminal:\n",
    "        if is_terminal:\n",
    "            alpha, beta = v, v\n",
    "        if verbose: print(f\"stopped at {depth}: {state} term: {is_terminal} eval: {v} [{alpha}, {beta}]\" )\n",
    "        return v, None\n",
    "\n",
    "    v, move = -math.inf, None\n",
    "\n",
    "    # check all possible actions in the state, return move with the largest value\n",
    "    for a in move_ordering(state):\n",
    "        if verbose: print(a)\n",
    "        new_state, another_turn = result(state, a, player)\n",
    "        if another_turn:\n",
    "            v2, a2 = heuristic_max_value(new_state, player, alpha, beta, depth + 1, cutoff, verbose)\n",
    "        else:\n",
    "            v2, a2 = heuristic_min_value(new_state, player, alpha, beta, depth + 1, cutoff, verbose)\n",
    "        action_count += 1\n",
    "        if verbose: print(f\"max: {state} (backtracked) [alpha,beta]=[{alpha},{beta}] v={v2}\")\n",
    "        if v2 > v:\n",
    "            v, move = v2, a\n",
    "            alpha = max(alpha, v)\n",
    "        if v >= beta:\n",
    "            if verbose: print(f\"     v>=beta ({v}>={beta}): pruning remaining subtree (actions). backtracking.\")\n",
    "            return v, move\n",
    "\n",
    "    if verbose: print(\"max out:  + str(state)\" + str([v, move]) )\n",
    "    return v, move\n",
    "\n",
    "def heuristic_min_value(state, player, alpha, beta, depth, cutoff, verbose = True):\n",
    "    \"\"\"opponent's best response.\"\"\"\n",
    "    global count\n",
    "    count += 1\n",
    "\n",
    "    # return utility of state if it is a terminal state\n",
    "    v = heuristic_value(state, player)\n",
    "    is_terminal = terminal(state)\n",
    "    if (cutoff is not None and depth >= cutoff) or is_terminal:\n",
    "        if is_terminal:\n",
    "            alpha, beta = v, v\n",
    "        if verbose: print(f\"stopped at {depth}: {state} term: {is_terminal} eval: {v} [{alpha}, {beta}]\" )\n",
    "        return v, None\n",
    "\n",
    "    v, move = +math.inf, None\n",
    "\n",
    "    # check all possible actions in the state, return move with the smallest value\n",
    "    for a in move_ordering(state):\n",
    "        if verbose: print(a)\n",
    "        new_state, another_turn = result(state, a, other(player))\n",
    "        if another_turn:\n",
    "            v2, a2 = heuristic_min_value(new_state, player, alpha, beta, depth + 1, cutoff, verbose)\n",
    "        else:\n",
    "            v2, a2 = heuristic_max_value(new_state, player, alpha, beta, depth + 1, cutoff, verbose)\n",
    "        if verbose: print(f\"min: {state} (backtracked) [alpha,beta]=[{alpha},{beta}] v={v2}\")\n",
    "        if v2 < v:\n",
    "            v, move = v2, a\n",
    "            beta = min(beta, v)\n",
    "        if v <= alpha:\n",
    "            if verbose: print(f\"     v<=alpha ({v}<={alpha}): pruning remaining subtree (actions). backtracking.\")\n",
    "            return v, move\n",
    "\n",
    "    if verbose: print(\"min out: + str(state)\" + str([v, move]) )\n",
    "    return v, move\n",
    "\n",
    "print_board(heuristic_board)\n",
    "heuristic_search(heuristic_board, 1, 10)"
   ]
  },
  {
   "cell_type": "markdown",
   "metadata": {},
   "source": [
    "Experiment with the same manually created boards as above to check if the agent spots winning opportunities."
   ]
  },
  {
   "cell_type": "code",
   "execution_count": 612,
   "metadata": {},
   "outputs": [
    {
     "name": "stdout",
     "output_type": "stream",
     "text": [
      "(1.0, ('h', 3, 2))\n",
      "Results:\n",
      "         -1: 0\n",
      "          1: 3\n"
     ]
    },
    {
     "data": {
      "text/plain": "<Figure size 432x288 with 1 Axes>",
      "image/png": "[encoded data removed]"
     },
     "metadata": {
      "needs_background": "light"
     },
     "output_type": "display_data"
    },
    {
     "name": "stdout",
     "output_type": "stream",
     "text": [
      "(1.0, ('h', 3, 1))\n",
      "Results:\n",
      "         -1: 0\n",
      "          1: 0\n"
     ]
    },
    {
     "data": {
      "text/plain": "<Figure size 432x288 with 1 Axes>",
      "image/png": "[encoded data removed]"
     },
     "metadata": {
      "needs_background": "light"
     },
     "output_type": "display_data"
    },
    {
     "name": "stdout",
     "output_type": "stream",
     "text": [
      "(0.0, ('h', 3, 2))\n",
      "Results:\n",
      "         -1: 0\n",
      "          1: 0\n"
     ]
    },
    {
     "data": {
      "text/plain": "<Figure size 432x288 with 1 Axes>",
      "image/png": "[encoded data removed]"
     },
     "metadata": {
      "needs_background": "light"
     },
     "output_type": "display_data"
    },
    {
     "name": "stdout",
     "output_type": "stream",
     "text": [
      "(0.1111111111111111, ('h', 4, 2))\n",
      "Results:\n",
      "         -1: 3\n",
      "          1: 3\n"
     ]
    },
    {
     "data": {
      "text/plain": "<Figure size 432x288 with 1 Axes>",
      "image/png": "[encoded data removed]"
     },
     "metadata": {
      "needs_background": "light"
     },
     "output_type": "display_data"
    },
    {
     "name": "stdout",
     "output_type": "stream",
     "text": [
      "(0.1111111111111111, ('h', 1, 2))\n",
      "Results:\n",
      "         -1: 3\n",
      "          1: 3\n"
     ]
    },
    {
     "data": {
      "text/plain": "<Figure size 432x288 with 1 Axes>",
      "image/png": "[encoded data removed]"
     },
     "metadata": {
      "needs_background": "light"
     },
     "output_type": "display_data"
    }
   ],
   "source": [
    "# --------------- Board 1 ---------------\n",
    "heuristic_test_board_1 = {\n",
    "    'n': 3,  ### hoizontal dots\n",
    "    'm': 3,   ### vertical dots\n",
    "    1: 0,   ### Player 1 Starting Score\n",
    "    -1: 0   ### Player 2 Starting Score\n",
    "}\n",
    "\n",
    "draw_line(heuristic_test_board_1, \"v\", 1, 1,1)\n",
    "draw_line(heuristic_test_board_1, \"v\", 1, 2,1)\n",
    "draw_line(heuristic_test_board_1, \"v\", 1, 3,1)\n",
    "draw_line(heuristic_test_board_1, \"v\", 2, 1,1)\n",
    "draw_line(heuristic_test_board_1, \"v\", 2, 2,1)\n",
    "draw_line(heuristic_test_board_1, \"v\", 2, 3,1)\n",
    "\n",
    "draw_line(heuristic_test_board_1, \"h\", 1, 1,1)\n",
    "draw_line(heuristic_test_board_1, \"h\", 1, 2,1)\n",
    "draw_line(heuristic_test_board_1, \"h\", 2, 1,1)\n",
    "draw_line(heuristic_test_board_1, \"h\", 2, 2,1)\n",
    "draw_line(heuristic_test_board_1, \"h\", 3, 1,1)\n",
    "\n",
    "print(heuristic_search(heuristic_test_board_1, 1, 10))\n",
    "print_board(heuristic_test_board_1)\n",
    "\n",
    "# --------------- Board 2 ---------------\n",
    "heuristic_test_board_2 = {\n",
    "    'n': 3,  ### hoizontal dots\n",
    "    'm': 3,   ### vertical dots\n",
    "    1: 0,   ### Player 1 Starting Score\n",
    "    -1: 0   ### Player 2 Starting Score\n",
    "}\n",
    "draw_line(heuristic_test_board_2, \"v\", 2, 1,1)\n",
    "draw_line(heuristic_test_board_2, \"v\", 2, 2,1)\n",
    "draw_line(heuristic_test_board_2, \"v\", 2, 3,1)\n",
    "\n",
    "draw_line(heuristic_test_board_2, \"h\", 1, 2,1)\n",
    "draw_line(heuristic_test_board_2, \"h\", 2, 1,1)\n",
    "draw_line(heuristic_test_board_2, \"h\", 2, 2,1)\n",
    "\n",
    "print(heuristic_search(heuristic_test_board_2, 1, 10))\n",
    "print_board(heuristic_test_board_2)\n",
    "\n",
    "# --------------- Board 3 ---------------\n",
    "heuristic_test_board_3 = {\n",
    "    'n': 3,  ### hoizontal dots\n",
    "    'm': 3,   ### vertical dots\n",
    "    1: 0,   ### Player 1 Starting Score\n",
    "    -1: 0   ### Player 2 Starting Score\n",
    "}\n",
    "\n",
    "draw_line(heuristic_test_board_3, \"v\", 2, 2,1)\n",
    "draw_line(heuristic_test_board_3, \"v\", 2, 3,1)\n",
    "\n",
    "draw_line(heuristic_test_board_3, \"h\", 1, 2,1)\n",
    "draw_line(heuristic_test_board_3, \"h\", 2, 1,1)\n",
    "draw_line(heuristic_test_board_3, \"h\", 2, 2,1)\n",
    "\n",
    "print(heuristic_search(heuristic_test_board_3, 1, 10))\n",
    "print_board(heuristic_test_board_3)\n",
    "\n",
    "# --------------- Board 4 ---------------\n",
    "heuristic_test_board_4 = {\n",
    "    'n': 4,  ### hoizontal dots\n",
    "    'm': 4,   ### vertical dots\n",
    "    1: 0,   ### Player 1 Starting Score\n",
    "    -1: 0   ### Player 2 Starting Score\n",
    "}\n",
    "\n",
    "draw_line(heuristic_test_board_4, \"v\", 1, 1,1)\n",
    "draw_line(heuristic_test_board_4, \"v\", 1, 2,1)\n",
    "draw_line(heuristic_test_board_4, \"v\", 1, 3,1)\n",
    "draw_line(heuristic_test_board_4, \"v\", 1, 4,1)\n",
    "draw_line(heuristic_test_board_4, \"v\", 2, 1,1)\n",
    "draw_line(heuristic_test_board_4, \"v\", 2, 2,1)\n",
    "draw_line(heuristic_test_board_4, \"v\", 2, 3,1)\n",
    "draw_line(heuristic_test_board_4, \"v\", 2, 4,1)\n",
    "draw_line(heuristic_test_board_4, \"v\", 3, 2,1)\n",
    "draw_line(heuristic_test_board_4, \"v\", 3, 3,1)\n",
    "\n",
    "draw_line(heuristic_test_board_4, \"h\", 1, 1,1)\n",
    "draw_line(heuristic_test_board_4, \"h\", 1, 2,1)\n",
    "draw_line(heuristic_test_board_4, \"h\", 1, 3,1)\n",
    "draw_line(heuristic_test_board_4, \"h\", 2, 1,1)\n",
    "draw_line(heuristic_test_board_4, \"h\", 2, 2,1)\n",
    "draw_line(heuristic_test_board_4, \"h\", 2, 3,1)\n",
    "draw_line(heuristic_test_board_4, \"h\", 3, 1,-1)\n",
    "draw_line(heuristic_test_board_4, \"h\", 3, 2,-1)\n",
    "draw_line(heuristic_test_board_4, \"h\", 3, 3,-1)\n",
    "\n",
    "\n",
    "print(heuristic_search(heuristic_test_board_4, 1, 10))\n",
    "print_board(heuristic_test_board_4)\n",
    "\n",
    "\n",
    "# --------------- Board 5 ---------------\n",
    "heuristic_test_board_5 = {\n",
    "    'n': 4,  ### hoizontal dots\n",
    "    'm': 4,   ### vertical dots\n",
    "    1: 0,   ### Player 1 Starting Score\n",
    "    -1: 0   ### Player 2 Starting Score\n",
    "}\n",
    "\n",
    "draw_line(heuristic_test_board_5, \"v\", 1, 2,1)\n",
    "draw_line(heuristic_test_board_5, \"v\", 1, 3,1)\n",
    "draw_line(heuristic_test_board_5, \"v\", 1, 4,1)\n",
    "draw_line(heuristic_test_board_5, \"v\", 2, 1,1)\n",
    "draw_line(heuristic_test_board_5, \"v\", 2, 2,1)\n",
    "draw_line(heuristic_test_board_5, \"v\", 2, 3,1)\n",
    "draw_line(heuristic_test_board_5, \"v\", 2, 4,1)\n",
    "draw_line(heuristic_test_board_5, \"v\", 3, 1,1)\n",
    "draw_line(heuristic_test_board_5, \"v\", 3, 2,1)\n",
    "draw_line(heuristic_test_board_5, \"v\", 3, 3,1)\n",
    "draw_line(heuristic_test_board_5, \"v\", 3, 4,1)\n",
    "\n",
    "draw_line(heuristic_test_board_5, \"h\", 2, 1,1)\n",
    "draw_line(heuristic_test_board_5, \"h\", 2, 2,1)\n",
    "draw_line(heuristic_test_board_5, \"h\", 2, 3,1)\n",
    "draw_line(heuristic_test_board_5, \"h\", 3, 1,-1)\n",
    "draw_line(heuristic_test_board_5, \"h\", 3, 2,-1)\n",
    "draw_line(heuristic_test_board_5, \"h\", 3, 3,-1)\n",
    "draw_line(heuristic_test_board_5, \"h\", 4, 1,1)\n",
    "draw_line(heuristic_test_board_5, \"h\", 4, 2,1)\n",
    "draw_line(heuristic_test_board_5, \"h\", 4, 3,1)\n",
    "\n",
    "\n",
    "print(heuristic_search(heuristic_test_board_5, 1, 10))\n",
    "print_board(heuristic_test_board_5)"
   ]
  },
  {
   "cell_type": "markdown",
   "metadata": {},
   "source": [
    "How long does it take to make a move? Start with a smaller board with 4 columns and make the board larger by adding columns."
   ]
  },
  {
   "cell_type": "code",
   "execution_count": 617,
   "metadata": {},
   "outputs": [
    {
     "name": "stdout",
     "output_type": "stream",
     "text": [
      "Empty board with size 4x4 took: 4.282189998775721 milliseconds\n",
      "Empty board with size 5x5 took: 15.90403000009246 milliseconds\n",
      "Empty board with size 6x6 took: 67.9060299997218 milliseconds\n",
      "Empty board with size 7x7 took: 159.41111000138335 milliseconds\n",
      "Empty board with size 8x8 took: 299.6157800022047 milliseconds\n"
     ]
    }
   ],
   "source": [
    "# --------------- Board 4x4 (dots) ---------------\n",
    "cuttoff_test_board_4x4 = {\n",
    "    'n': 4,  ### hoizontal dots\n",
    "    'm': 4,   ### vertical dots\n",
    "    1: 0,   ### Player 1 Starting Score\n",
    "    -1: 0   ### Player 2 Starting Score\n",
    "}\n",
    "\n",
    "# --------------- Board 5x5 (dots) ---------------\n",
    "cuttoff_test_board_5x5 = {\n",
    "    'n': 5,  ### hoizontal dots\n",
    "    'm': 5,   ### vertical dots\n",
    "    1: 0,   ### Player 1 Starting Score\n",
    "    -1: 0   ### Player 2 Starting Score\n",
    "}\n",
    "\n",
    "# --------------- Board 6x6 (dots) ---------------\n",
    "cuttoff_test_board_6x6 = {\n",
    "    'n': 6,  ### hoizontal dots\n",
    "    'm': 6,   ### vertical dots\n",
    "    1: 0,   ### Player 1 Starting Score\n",
    "    -1: 0   ### Player 2 Starting Score\n",
    "}\n",
    "\n",
    "# --------------- Board 7x7 (dots) ---------------\n",
    "cuttoff_test_board_7x7 = {\n",
    "    'n': 7,  ### hoizontal dots\n",
    "    'm': 7,   ### vertical dots\n",
    "    1: 0,   ### Player 1 Starting Score\n",
    "    -1: 0   ### Player 2 Starting Score\n",
    "}\n",
    "\n",
    "# --------------- Board 8x8 (dots) ---------------\n",
    "cuttoff_test_board_8x8 = {\n",
    "    'n': 8,  ### hoizontal dots\n",
    "    'm': 8,   ### vertical dots\n",
    "    1: 0,   ### Player 1 Starting Score\n",
    "    -1: 0   ### Player 2 Starting Score\n",
    "}\n",
    "\n",
    "start_time = timeit.default_timer()\n",
    "heuristic_search(cuttoff_test_board_4x4, 1, 4)\n",
    "end_time = timeit.default_timer()\n",
    "print(f\"Empty board with size 4x4 took: {(end_time-start_time)/10 * 1e3} milliseconds\")\n",
    "\n",
    "start_time = timeit.default_timer()\n",
    "heuristic_search(cuttoff_test_board_5x5, 1, 4)\n",
    "end_time = timeit.default_timer()\n",
    "print(f\"Empty board with size 5x5 took: {(end_time-start_time)/10 * 1e3} milliseconds\")\n",
    "\n",
    "start_time = timeit.default_timer()\n",
    "heuristic_search(cuttoff_test_board_6x6, 1, 4)\n",
    "end_time = timeit.default_timer()\n",
    "print(f\"Empty board with size 6x6 took: {(end_time-start_time)/10 * 1e3} milliseconds\")\n",
    "\n",
    "start_time = timeit.default_timer()\n",
    "heuristic_search(cuttoff_test_board_7x7, 1, 4)\n",
    "end_time = timeit.default_timer()\n",
    "print(f\"Empty board with size 7x7 took: {(end_time-start_time)/10 * 1e3} milliseconds\")\n",
    "\n",
    "start_time = timeit.default_timer()\n",
    "heuristic_search(cuttoff_test_board_8x8, 1, 4)\n",
    "end_time = timeit.default_timer()\n",
    "print(f\"Empty board with size 8x8 took: {(end_time-start_time)/10 * 1e3} milliseconds\")"
   ]
  },
  {
   "cell_type": "markdown",
   "metadata": {},
   "source": [
    "### Playtime\n",
    "\n",
    "Let two heuristic search agents (different cutoff depth, different heuristic evaluation function) compete against each other on a reasonably sized board. Since there is no randomness, you only need to let them play once."
   ]
  },
  {
   "cell_type": "code",
   "execution_count": 619,
   "metadata": {},
   "outputs": [
    {
     "name": "stdout",
     "output_type": "stream",
     "text": [
      "Player 1 Wins!\n",
      "Player 1: 10 Player 2: 0\n"
     ]
    }
   ],
   "source": [
    "# --------------- Minimax VS. Random ---------------\n",
    "depth_2_vs_depth_6 = {\n",
    "    'n': 4,  ### hoizontal dots\n",
    "    'm': 4,   ### vertical dots\n",
    "    1: 0,   ### Player 1 Starting Score\n",
    "    -1: 0   ### Player 2 Starting Score\n",
    "}\n",
    "def heuristic_player_depth_2(board, player = None):\n",
    "    v, a = heuristic_search(board, player, 2, False)\n",
    "    drawn, another_turn = draw_line(board, a[0], a[1], a[2], player)\n",
    "    return another_turn\n",
    "\n",
    "def heuristic_player_depth_6(board, player = None):\n",
    "    v, a = heuristic_search(board, player, 6, False)\n",
    "    drawn, another_turn = draw_line(board, a[0], a[1], a[2], player)\n",
    "    return another_turn\n",
    "\n",
    "def minimax_environment(board, verbose = False):\n",
    "    player1_total = 0\n",
    "    player2_total = 0\n",
    "\n",
    "    for x in range(10):\n",
    "        temp_board = board.copy()\n",
    "        player = 1\n",
    "        while terminal(temp_board) is False:\n",
    "            if player == 1:\n",
    "                if not heuristic_player_depth_6(temp_board, player):\n",
    "                    player = -1\n",
    "            else:\n",
    "                if not heuristic_player_depth_2(temp_board, player):\n",
    "                    player = 1\n",
    "            if verbose: print_board(temp_board)\n",
    "\n",
    "        if winner(temp_board) == 1:\n",
    "            player1_total += 1\n",
    "        elif winner(temp_board) == -1:\n",
    "            player2_total += 1\n",
    "\n",
    "    if player1_total > player2_total:\n",
    "        print(f\"Player 1 Wins!\")\n",
    "    elif player2_total > player1_total:\n",
    "        print(f\"Player 2 Wins!\")\n",
    "    else:\n",
    "        print(f\"Player 1 and Player 2 Tied!\")\n",
    "    print(f\"Player 1: {player1_total} Player 2: {player2_total}\")\n",
    "\n",
    "\n",
    "minimax_environment(depth_2_vs_depth_6, False)"
   ]
  },
  {
   "cell_type": "markdown",
   "metadata": {},
   "source": [
    "## Tournament task [+1 to 5% bonus on your course grade; will be assigned separately]\n",
    "\n",
    "Find another student and let your best agent play against the other student's best player. You are allowed to use any improvements you like as long as you code it yourself. We will set up a class tournament on Canvas. This tournament will continue after the submission deadline.\n"
   ]
  },
  {
   "cell_type": "markdown",
   "metadata": {},
   "source": [
    "## Graduate student advanced task: Pure Monte Carlo Search and Best First Move [10 point]\n",
    "\n",
    "__Undergraduate students:__ This is a bonus task you can attempt if you like [+5 Bonus point].\n",
    "\n",
    "### Pure Monte Carlo Search\n",
    "\n",
    "Implement Pure Monte Carlo Search (see [tic-tac-toe-example](https://nbviewer.org/github/mhahsler/CS7320-AI/blob/master/Games/tictactoe_pure_monte_carlo_search.ipynb)) and investigate how this search performs on the test boards that you have used above. "
   ]
  },
  {
   "cell_type": "code",
   "execution_count": 513,
   "metadata": {},
   "outputs": [],
   "source": [
    "# Your code/ answer goes here."
   ]
  },
  {
   "cell_type": "markdown",
   "metadata": {},
   "source": [
    "### Best First Move\n",
    "\n",
    "How would you determine what the best first move for a standard board ($5 \\times 5$) is? You can use Pure Monte Carlo Search or any algorithms that you have implemented above."
   ]
  },
  {
   "cell_type": "code",
   "execution_count": 514,
   "metadata": {},
   "outputs": [],
   "source": [
    "# Your code/ answer goes here."
   ]
  }
 ],
 "metadata": {
  "kernelspec": {
   "display_name": "Python 3 (ipykernel)",
   "language": "python",
   "name": "python3"
  },
  "language_info": {
   "codemirror_mode": {
    "name": "ipython",
    "version": 3
   },
   "file_extension": ".py",
   "mimetype": "text/x-python",
   "name": "python",
   "nbconvert_exporter": "python",
   "pygments_lexer": "ipython3",
   "version": "3.9.5"
  }
 },
 "nbformat": 4,
 "nbformat_minor": 4
}