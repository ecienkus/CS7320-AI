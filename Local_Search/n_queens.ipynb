{
 "cells": [
  {
   "cell_type": "markdown",
   "metadata": {},
   "source": [
    "# Solving the n-Queens Problem using Local Search\n",
    "\n",
    "## Instructions\n",
    "\n",
    "Total Points: Undergrads 100 / Graduate students 110\n",
    "\n",
    "Complete this notebook. Use the provided notebook cells and insert additional code and markdown cells as needed. Submit the completely rendered notebook as a PDF file. \n"
   ]
  },
  {
   "cell_type": "markdown",
   "metadata": {},
   "source": [
    "## The n-Queens Problem\n",
    "\n",
    "* __Goal:__ Find an arrangement of $n$ queens on a $n \\times n$ chess board so that no queen is on the same row, column or diagonal as any other queen.\n",
    "\n",
    "* __State space:__ An arrangement of the queens on the board. We restrict the state space to arrangements where there is only a single queen per column. We represent a state as an integer vector $\\mathbf{q} = \\{q_1, q_2, \\dots, q_n\\}$, each number representing the row positions of the queens from left to right. We will call a state a \"board.\"\n",
    "\n",
    "* __Objective function:__ The number of pairwise conflicts (i.e., two queens in the same row/column/diagonal).\n",
    "The optimization problem is to find the optimal arrangement $\\mathbf{q}^*$ of $n$ queens on the board can be written as:\n",
    "\n",
    "  > minimize: $\\mathrm{conflicts}(\\mathbf{q})$\n",
    "  >\n",
    "  > subject to: $\\mathbf{q} \\ \\text{contains only one queen per column}$\n",
    "\n",
    "  Note: the constraint (subject to) is enforced by the definition of the state space.\n",
    "\n",
    "* __Local improvement move:__ Move one queen to a different row in its column.\n",
    "\n",
    "* __Termination:__ For this problem there is always an arrangement $\\mathbf{q}^*$ with $\\mathrm{conflicts}(\\mathbf{q}^*) = 0$, however, the local improvement moves might end up in a local minimum. "
   ]
  },
  {
   "cell_type": "markdown",
   "metadata": {},
   "source": [
    "## Helper functions"
   ]
  },
  {
   "cell_type": "code",
   "execution_count": 58,
   "metadata": {},
   "outputs": [],
   "source": [
    "import numpy as np\n",
    "import matplotlib.pyplot as plt\n",
    "from matplotlib import colors\n",
    "\n",
    "np.random.seed(1234)\n",
    "\n",
    "\n",
    "def random_board(n):\n",
    "    \"\"\"Creates a random board of size n x n. Note that only a single queen is placed in each column!\"\"\"\n",
    "    \n",
    "    return(np.random.randint(0,n, size = n))\n",
    "\n",
    "def comb2(n): return n*(n-1)//2 # this is n choose 2 equivalent to math.comb(n, 2); // is int division\n",
    "\n",
    "def conflicts(board):\n",
    "    \"\"\"Caclulate the number of conflicts, i.e., the objective function.\"\"\"\n",
    "\n",
    "    n = len(board)\n",
    "    \n",
    "    horizontal_cnt = [0] * n\n",
    "    diagonal1_cnt = [0] * 2 * n\n",
    "    diagonal2_cnt = [0] * 2 * n\n",
    "    \n",
    "    for i in range(n):\n",
    "        horizontal_cnt[board[i]] += 1\n",
    "        diagonal1_cnt[i + board[i]] += 1\n",
    "        diagonal2_cnt[i - board[i] + n] += 1\n",
    "    \n",
    "    return sum(map(comb2, horizontal_cnt + diagonal1_cnt + diagonal2_cnt))\n",
    "\n",
    "\n",
    "def show_board(board, cols = ['white', 'gray'], fontsize = 48):\n",
    "    \"\"\"display the board\"\"\"\n",
    "\n",
    "    n = len(board)\n",
    "    \n",
    "    # create chess board display\n",
    "    display = np.zeros([n,n])\n",
    "    for i in range(n):\n",
    "        for j in range(n):\n",
    "            if (((i+j) % 2) != 0): \n",
    "                display[i,j] = 1\n",
    "    \n",
    "    cmap = colors.ListedColormap(cols)\n",
    "    fig, ax = plt.subplots()\n",
    "    ax.imshow(display, cmap = cmap, \n",
    "              norm = colors.BoundaryNorm(range(len(cols)+1), cmap.N))\n",
    "    ax.set_xticks([])\n",
    "    ax.set_yticks([])\n",
    "    \n",
    "    # place queens. Note: Unicode u265B is a black queen\n",
    "    for j in range(n):\n",
    "        plt.text(j, board[j], u\"\\u265B\", fontsize = fontsize, \n",
    "                 horizontalalignment = 'center',\n",
    "                 verticalalignment = 'center')\n",
    "    \n",
    "    print(f\"Board with {conflicts(board)} conflicts.\")\n",
    "    plt.show()"
   ]
  },
  {
   "cell_type": "markdown",
   "metadata": {},
   "source": [
    "## Create a board"
   ]
  },
  {
   "cell_type": "code",
   "execution_count": 59,
   "metadata": {},
   "outputs": [
    {
     "name": "stdout",
     "output_type": "stream",
     "text": [
      "Board with 4 conflicts.\n"
     ]
    },
    {
     "data": {
      "text/plain": "<Figure size 432x288 with 1 Axes>",
      "image/png": "[encoded data removed]"
     },
     "metadata": {},
     "output_type": "display_data"
    },
    {
     "name": "stdout",
     "output_type": "stream",
     "text": [
      "Queens (left to right) are at rows: [3 3 2 1]\n",
      "Number of conflicts: 4\n"
     ]
    }
   ],
   "source": [
    "board = random_board(4)\n",
    "\n",
    "show_board(board)\n",
    "print(f\"Queens (left to right) are at rows: {board}\")\n",
    "print(f\"Number of conflicts: {conflicts(board)}\")"
   ]
  },
  {
   "cell_type": "markdown",
   "metadata": {},
   "source": [
    "A board $4 \\times 4$ with no conflicts:"
   ]
  },
  {
   "cell_type": "code",
   "execution_count": 60,
   "metadata": {},
   "outputs": [
    {
     "name": "stdout",
     "output_type": "stream",
     "text": [
      "Board with 0 conflicts.\n"
     ]
    },
    {
     "data": {
      "text/plain": "<Figure size 432x288 with 1 Axes>",
      "image/png": "[encoded data removed]"
     },
     "metadata": {},
     "output_type": "display_data"
    }
   ],
   "source": [
    "board = [1,3,0,2]\n",
    "show_board(board)"
   ]
  },
  {
   "cell_type": "markdown",
   "metadata": {},
   "source": [
    "# Tasks\n",
    "\n",
    "## General [10 Points]\n",
    "\n",
    "1. Make sure that you use the latest version of this notebook. Sync your forked repository and pull the latest revision. \n",
    "2. Your implementation can use libraries like math, numpy, scipy, but not libraries that implement inteligent agents or complete search algorithms. Try to keep the code simple! In this course, we want to learn about the algorithms and we often do not need to use object-oriented design.\n",
    "3. You notebook needs to be formated professionally. \n",
    "    - Add additional markdown blocks for your description, comments in the code, add tables and use mathplotlib to produce charts where appropriate\n",
    "    - Do not show debugging output or include an excessive amount of output.\n",
    "    - Check that your PDF file is readable. For example, long lines are cut off in the PDF file. You don't have control over page breaks, so do not worry about these.\n",
    "4. Document your code. Add a short discussion of how your implementation works and your design choices."
   ]
  },
  {
   "cell_type": "markdown",
   "metadata": {},
   "source": [
    "## Task 1: Steepest-ascend Hill Climbing Search [30 Points]\n",
    "\n",
    "Calculate the objective function for all local moves (see definition of local moves above) and always choose the best among all local moves. If there are no local moves that improve the objective, then you have reached a local optimum."
   ]
  },
  {
   "cell_type": "code",
   "execution_count": 61,
   "outputs": [
    {
     "name": "stdout",
     "output_type": "stream",
     "text": [
      "Board with 4 conflicts.\n"
     ]
    },
    {
     "data": {
      "text/plain": "<Figure size 432x288 with 1 Axes>",
      "image/png": "[encoded data removed]"
     },
     "metadata": {},
     "output_type": "display_data"
    },
    {
     "name": "stdout",
     "output_type": "stream",
     "text": [
      "Start\n",
      "Changed Board\n",
      "Board with 3 conflicts.\n"
     ]
    },
    {
     "data": {
      "text/plain": "<Figure size 432x288 with 1 Axes>",
      "image/png": "[encoded data removed]"
     },
     "metadata": {},
     "output_type": "display_data"
    },
    {
     "name": "stdout",
     "output_type": "stream",
     "text": [
      "Final Board\n",
      "Board with 3 conflicts.\n"
     ]
    },
    {
     "data": {
      "text/plain": "<Figure size 432x288 with 1 Axes>",
      "image/png": "[encoded data removed]"
     },
     "metadata": {},
     "output_type": "display_data"
    }
   ],
   "source": [
    "changed = False\n",
    "def highest_possible_successor(steep_board, n, verbose):\n",
    "    global changed\n",
    "    changed = False\n",
    "    temp = steep_board.copy()\n",
    "    temp_best = steep_board.copy()\n",
    "    for x in range(n):\n",
    "    # arr1 = [0]\n",
    "    # for x in arr1:\n",
    "        if verbose: print(f\"----------{x}----------\")\n",
    "        if temp[x] != 0:\n",
    "            temp[x] -= 1\n",
    "            # print(\"Move up\")\n",
    "            # show_board(temp)\n",
    "            # print(\"here11\")\n",
    "            if verbose: print(f\"{conflicts(temp)} vs.{conflicts(temp_best)}\")\n",
    "            if conflicts(temp) < conflicts(temp_best):\n",
    "                # print(\"here1\")\n",
    "                # print(f\"In if {conflicts(temp)} vs.{conflicts(steep_board)}\")\n",
    "                changed = True\n",
    "                temp_best = temp.copy()\n",
    "            temp[x] += 1\n",
    "            # print(\"Back to normal\")\n",
    "            # show_board(temp)\n",
    "\n",
    "        if temp[x] != n-1:\n",
    "            # print(\"here22\")\n",
    "            temp[x] += 1\n",
    "            # print(\"Move down\")\n",
    "            # show_board(temp)\n",
    "            if verbose: print(f\"{conflicts(temp)} vs.{conflicts(temp_best)}\")\n",
    "            if conflicts(temp) < conflicts(temp_best):\n",
    "                # print(\"here2\")\n",
    "                # print(f\"In if{conflicts(temp)} vs.{conflicts(steep_board)}\")\n",
    "                changed = True\n",
    "                temp_best = temp.copy()\n",
    "            temp[x] -= 1\n",
    "\n",
    "    if verbose: print(f\"Changed: {changed}\")\n",
    "    if changed:\n",
    "        steep_board = temp_best.copy()\n",
    "    return steep_board\n",
    "\n",
    "def steepest_ascend(n, verbose = False):\n",
    "    global changed\n",
    "    steep_board = random_board(n)\n",
    "    if verbose: print(\"--------------------Start Board--------------------\")\n",
    "    show_board(steep_board)\n",
    "    current_board = steep_board\n",
    "    print(\"Start\")\n",
    "    better = True\n",
    "    step = 1\n",
    "\n",
    "    while better:\n",
    "        if verbose: print(f\"---------------Step: {step}---------------\")\n",
    "        if step > 10:\n",
    "            return print(\"Break\")\n",
    "        changed = False\n",
    "        steep_board = highest_possible_successor(steep_board, n, verbose)\n",
    "        if not changed or conflicts(steep_board) == 0:\n",
    "            print(\"Final Board\")\n",
    "            return show_board(steep_board)\n",
    "        print(\"Changed Board\")\n",
    "        show_board(steep_board)\n",
    "        step += 1\n",
    "\n",
    "    return print(\"Best Found\")\n",
    "\n",
    "\n",
    "\n",
    "steepest_ascend(4)"
   ],
   "metadata": {
    "collapsed": false,
    "pycharm": {
     "name": "#%%\n"
    }
   }
  },
  {
   "cell_type": "code",
   "execution_count": 64,
   "outputs": [
    {
     "ename": "SyntaxError",
     "evalue": "invalid syntax (<ipython-input-64-b439ed8cfa86>, line 3)",
     "output_type": "error",
     "traceback": [
      "\u001B[1;36m  File \u001B[1;32m\"<ipython-input-64-b439ed8cfa86>\"\u001B[1;36m, line \u001B[1;32m3\u001B[0m\n\u001B[1;33m    Chooses randomly from among all uphill moves till you have reached a local optimum.\u001B[0m\n\u001B[1;37m            ^\u001B[0m\n\u001B[1;31mSyntaxError\u001B[0m\u001B[1;31m:\u001B[0m invalid syntax\n"
     ]
    }
   ],
   "source": [
    "## Task 2: Stochastic Hill Climbing 1 [10 Points]\n",
    "\n",
    "Chooses randomly from among all uphill moves till you have reached a local optimum."
   ],
   "metadata": {
    "collapsed": false,
    "pycharm": {
     "name": "#%%\n"
    }
   }
  },
  {
   "cell_type": "code",
   "execution_count": 99,
   "metadata": {},
   "outputs": [
    {
     "name": "stdout",
     "output_type": "stream",
     "text": [
      "Board with 3 conflicts.\n"
     ]
    },
    {
     "data": {
      "text/plain": "<Figure size 432x288 with 1 Axes>",
      "image/png": "[encoded data removed]"
     },
     "metadata": {},
     "output_type": "display_data"
    },
    {
     "name": "stdout",
     "output_type": "stream",
     "text": [
      "Start\n",
      "Changed Board\n",
      "Board with 2 conflicts.\n"
     ]
    },
    {
     "data": {
      "text/plain": "<Figure size 432x288 with 1 Axes>",
      "image/png": "[encoded data removed]"
     },
     "metadata": {},
     "output_type": "display_data"
    },
    {
     "name": "stdout",
     "output_type": "stream",
     "text": [
      "Final Board\n",
      "Board with 2 conflicts.\n"
     ]
    },
    {
     "data": {
      "text/plain": "<Figure size 432x288 with 1 Axes>",
      "image/png": "[encoded data removed]"
     },
     "metadata": {},
     "output_type": "display_data"
    }
   ],
   "source": [
    "import random\n",
    "possible_successors = []\n",
    "def possible_successor(steep_board, n, verbose):\n",
    "    global changed\n",
    "    changed = False\n",
    "    possible_successors.clear()\n",
    "    temp = steep_board.copy()\n",
    "    for x in range(n):\n",
    "    # arr1 = [0]\n",
    "    # for x in arr1:\n",
    "        if verbose: print(f\"----------{x}----------\")\n",
    "        if temp[x] != 0:\n",
    "            temp[x] -= 1\n",
    "            # print(\"Move up\")\n",
    "            # show_board(temp)\n",
    "            # print(\"here11\")\n",
    "            if verbose: print(f\"{conflicts(temp)} vs.{conflicts(steep_board)}\")\n",
    "            if conflicts(temp) < conflicts(steep_board):\n",
    "                # print(\"here1\")\n",
    "                # print(f\"In if {conflicts(temp)} vs.{conflicts(steep_board)}\")\n",
    "                changed = True\n",
    "                possible_successors.append(temp.copy())\n",
    "                # print(f\"Temp after move up: {temp}\")\n",
    "                # show_board(temp)\n",
    "            temp[x] += 1\n",
    "            # print(f\"Temp after move BACK: {temp}\")\n",
    "            # show_board(temp)\n",
    "            # print(\"Back to normal\")\n",
    "            # show_board(temp)\n",
    "\n",
    "        if temp[x] != n-1:\n",
    "            # print(\"here22\")\n",
    "            temp[x] += 1\n",
    "            # print(\"Move down\")\n",
    "            # show_board(temp)\n",
    "            if verbose: print(f\"{conflicts(temp)} vs.{conflicts(steep_board)}\")\n",
    "            if conflicts(temp) < conflicts(steep_board):\n",
    "                # print(\"here2\")\n",
    "                # print(f\"In if{conflicts(temp)} vs.{conflicts(steep_board)}\")\n",
    "                changed = True\n",
    "                possible_successors.append(temp.copy())\n",
    "                # print(f\"Temp after move down: {temp}\")\n",
    "                # show_board(temp)\n",
    "            temp[x] -= 1\n",
    "            # print(f\"Temp after move BACK: {temp}\")\n",
    "            # show_board(temp)\n",
    "\n",
    "    if verbose: print(f\"Changed: {changed}\")\n",
    "    if changed:\n",
    "        if verbose: print(possible_successors)\n",
    "        steep_board = random.choice(possible_successors)\n",
    "    return steep_board\n",
    "\n",
    "def stochastic_hill_climbing_1(n, verbose = False):\n",
    "    global changed\n",
    "    steep_board = random_board(n)\n",
    "    if verbose: print(\"--------------------Start Board--------------------\")\n",
    "    show_board(steep_board)\n",
    "    current_board = steep_board\n",
    "    print(\"Start\")\n",
    "    better = True\n",
    "    step = 1\n",
    "\n",
    "    while better:\n",
    "        if verbose: print(f\"---------------Step: {step}---------------\")\n",
    "        if step > 10:\n",
    "            return print(\"Break\")\n",
    "        changed = False\n",
    "        steep_board = possible_successor(steep_board, n, verbose)\n",
    "        if not changed or conflicts(steep_board) == 0:\n",
    "            print(\"Final Board\")\n",
    "            return show_board(steep_board)\n",
    "        print(\"Changed Board\")\n",
    "        show_board(steep_board)\n",
    "        step += 1\n",
    "\n",
    "    return print(\"Best Found\")\n",
    "\n",
    "\n",
    "\n",
    "stochastic_hill_climbing_1(4)"
   ]
  },
  {
   "cell_type": "markdown",
   "metadata": {},
   "source": [
    "## Task 3: Stochastic Hill Climbing 2 [20 Points]\n",
    "\n",
    "A popular version of stochastic hill climbing generates only a single random local neighbor at a time and accept it if it has a better objective function value than the current state. This is very efficient if each state has many possible successor states. This method is called \"First-choice hill climbing\" in the textbook.\n",
    "\n",
    "__Notes:__ \n",
    "\n",
    "* Detecting local optima is tricky! You can, for example, stop if you were not able to improve the objective function during the last $x$ tries."
   ]
  },
  {
   "cell_type": "code",
   "execution_count": 102,
   "metadata": {},
   "outputs": [
    {
     "name": "stdout",
     "output_type": "stream",
     "text": [
      "Board with 4 conflicts.\n"
     ]
    },
    {
     "data": {
      "text/plain": "<Figure size 432x288 with 1 Axes>",
      "image/png": "[encoded data removed]"
     },
     "metadata": {},
     "output_type": "display_data"
    },
    {
     "name": "stdout",
     "output_type": "stream",
     "text": [
      "Start\n",
      "[(0, -1), (0, 1), (1, -1), (1, 1), (2, -1), (2, 1), (3, -1), (3, 1)]\n"
     ]
    },
    {
     "ename": "KeyboardInterrupt",
     "evalue": "",
     "output_type": "error",
     "traceback": [
      "\u001B[1;31m---------------------------------------------------------------------------\u001B[0m",
      "\u001B[1;31mKeyboardInterrupt\u001B[0m                         Traceback (most recent call last)",
      "\u001B[1;32m<ipython-input-102-cdfdbf1bdfb6>\u001B[0m in \u001B[0;36m<module>\u001B[1;34m\u001B[0m\n\u001B[0;32m     86\u001B[0m \u001B[1;33m\u001B[0m\u001B[0m\n\u001B[0;32m     87\u001B[0m \u001B[1;33m\u001B[0m\u001B[0m\n\u001B[1;32m---> 88\u001B[1;33m \u001B[0mfirst_choice_hill_climbing\u001B[0m\u001B[1;33m(\u001B[0m\u001B[1;36m4\u001B[0m\u001B[1;33m)\u001B[0m\u001B[1;33m\u001B[0m\u001B[1;33m\u001B[0m\u001B[0m\n\u001B[0m",
      "\u001B[1;32m<ipython-input-102-cdfdbf1bdfb6>\u001B[0m in \u001B[0;36mfirst_choice_hill_climbing\u001B[1;34m(n, verbose)\u001B[0m\n\u001B[0;32m     74\u001B[0m             \u001B[1;32mreturn\u001B[0m \u001B[0mprint\u001B[0m\u001B[1;33m(\u001B[0m\u001B[1;34m\"Break\"\u001B[0m\u001B[1;33m)\u001B[0m\u001B[1;33m\u001B[0m\u001B[1;33m\u001B[0m\u001B[0m\n\u001B[0;32m     75\u001B[0m         \u001B[0mchanged\u001B[0m \u001B[1;33m=\u001B[0m \u001B[1;32mFalse\u001B[0m\u001B[1;33m\u001B[0m\u001B[1;33m\u001B[0m\u001B[0m\n\u001B[1;32m---> 76\u001B[1;33m         \u001B[0msteep_board\u001B[0m \u001B[1;33m=\u001B[0m \u001B[0mrandom_move\u001B[0m\u001B[1;33m(\u001B[0m\u001B[0msteep_board\u001B[0m\u001B[1;33m,\u001B[0m \u001B[0mn\u001B[0m\u001B[1;33m,\u001B[0m \u001B[0mverbose\u001B[0m\u001B[1;33m)\u001B[0m\u001B[1;33m\u001B[0m\u001B[1;33m\u001B[0m\u001B[0m\n\u001B[0m\u001B[0;32m     77\u001B[0m         \u001B[1;32mif\u001B[0m \u001B[1;32mnot\u001B[0m \u001B[0mchanged\u001B[0m \u001B[1;32mor\u001B[0m \u001B[0mconflicts\u001B[0m\u001B[1;33m(\u001B[0m\u001B[0msteep_board\u001B[0m\u001B[1;33m)\u001B[0m \u001B[1;33m==\u001B[0m \u001B[1;36m0\u001B[0m\u001B[1;33m:\u001B[0m\u001B[1;33m\u001B[0m\u001B[1;33m\u001B[0m\u001B[0m\n\u001B[0;32m     78\u001B[0m             \u001B[0mprint\u001B[0m\u001B[1;33m(\u001B[0m\u001B[1;34m\"Final Board\"\u001B[0m\u001B[1;33m)\u001B[0m\u001B[1;33m\u001B[0m\u001B[1;33m\u001B[0m\u001B[0m\n",
      "\u001B[1;32m<ipython-input-102-cdfdbf1bdfb6>\u001B[0m in \u001B[0;36mrandom_move\u001B[1;34m(steep_board, n, verbose)\u001B[0m\n\u001B[0;32m     23\u001B[0m             \u001B[1;31m# print(\"here11\")\u001B[0m\u001B[1;33m\u001B[0m\u001B[1;33m\u001B[0m\u001B[1;33m\u001B[0m\u001B[0m\n\u001B[0;32m     24\u001B[0m             \u001B[1;32mif\u001B[0m \u001B[0mverbose\u001B[0m\u001B[1;33m:\u001B[0m \u001B[0mprint\u001B[0m\u001B[1;33m(\u001B[0m\u001B[1;34mf\"{conflicts(temp)} vs.{conflicts(steep_board)}\"\u001B[0m\u001B[1;33m)\u001B[0m\u001B[1;33m\u001B[0m\u001B[1;33m\u001B[0m\u001B[0m\n\u001B[1;32m---> 25\u001B[1;33m             \u001B[1;32mif\u001B[0m \u001B[0mconflicts\u001B[0m\u001B[1;33m(\u001B[0m\u001B[0mtemp\u001B[0m\u001B[1;33m)\u001B[0m \u001B[1;33m<\u001B[0m \u001B[0mconflicts\u001B[0m\u001B[1;33m(\u001B[0m\u001B[0msteep_board\u001B[0m\u001B[1;33m)\u001B[0m\u001B[1;33m:\u001B[0m\u001B[1;33m\u001B[0m\u001B[1;33m\u001B[0m\u001B[0m\n\u001B[0m\u001B[0;32m     26\u001B[0m                 \u001B[1;31m# print(\"here1\")\u001B[0m\u001B[1;33m\u001B[0m\u001B[1;33m\u001B[0m\u001B[1;33m\u001B[0m\u001B[0m\n\u001B[0;32m     27\u001B[0m                 \u001B[1;31m# print(f\"In if {conflicts(temp)} vs.{conflicts(steep_board)}\")\u001B[0m\u001B[1;33m\u001B[0m\u001B[1;33m\u001B[0m\u001B[1;33m\u001B[0m\u001B[0m\n",
      "\u001B[1;32m<ipython-input-58-c589bb442df0>\u001B[0m in \u001B[0;36mconflicts\u001B[1;34m(board)\u001B[0m\n\u001B[0;32m     25\u001B[0m         \u001B[0mhorizontal_cnt\u001B[0m\u001B[1;33m[\u001B[0m\u001B[0mboard\u001B[0m\u001B[1;33m[\u001B[0m\u001B[0mi\u001B[0m\u001B[1;33m]\u001B[0m\u001B[1;33m]\u001B[0m \u001B[1;33m+=\u001B[0m \u001B[1;36m1\u001B[0m\u001B[1;33m\u001B[0m\u001B[1;33m\u001B[0m\u001B[0m\n\u001B[0;32m     26\u001B[0m         \u001B[0mdiagonal1_cnt\u001B[0m\u001B[1;33m[\u001B[0m\u001B[0mi\u001B[0m \u001B[1;33m+\u001B[0m \u001B[0mboard\u001B[0m\u001B[1;33m[\u001B[0m\u001B[0mi\u001B[0m\u001B[1;33m]\u001B[0m\u001B[1;33m]\u001B[0m \u001B[1;33m+=\u001B[0m \u001B[1;36m1\u001B[0m\u001B[1;33m\u001B[0m\u001B[1;33m\u001B[0m\u001B[0m\n\u001B[1;32m---> 27\u001B[1;33m         \u001B[0mdiagonal2_cnt\u001B[0m\u001B[1;33m[\u001B[0m\u001B[0mi\u001B[0m \u001B[1;33m-\u001B[0m \u001B[0mboard\u001B[0m\u001B[1;33m[\u001B[0m\u001B[0mi\u001B[0m\u001B[1;33m]\u001B[0m \u001B[1;33m+\u001B[0m \u001B[0mn\u001B[0m\u001B[1;33m]\u001B[0m \u001B[1;33m+=\u001B[0m \u001B[1;36m1\u001B[0m\u001B[1;33m\u001B[0m\u001B[1;33m\u001B[0m\u001B[0m\n\u001B[0m\u001B[0;32m     28\u001B[0m \u001B[1;33m\u001B[0m\u001B[0m\n\u001B[0;32m     29\u001B[0m     \u001B[1;32mreturn\u001B[0m \u001B[0msum\u001B[0m\u001B[1;33m(\u001B[0m\u001B[0mmap\u001B[0m\u001B[1;33m(\u001B[0m\u001B[0mcomb2\u001B[0m\u001B[1;33m,\u001B[0m \u001B[0mhorizontal_cnt\u001B[0m \u001B[1;33m+\u001B[0m \u001B[0mdiagonal1_cnt\u001B[0m \u001B[1;33m+\u001B[0m \u001B[0mdiagonal2_cnt\u001B[0m\u001B[1;33m)\u001B[0m\u001B[1;33m)\u001B[0m\u001B[1;33m\u001B[0m\u001B[1;33m\u001B[0m\u001B[0m\n",
      "\u001B[1;31mKeyboardInterrupt\u001B[0m: "
     ]
    }
   ],
   "source": [
    "import random\n",
    "possible_moves = []\n",
    "def random_move(steep_board, n, verbose):\n",
    "    global changed\n",
    "    changed = False\n",
    "    check_num = 1\n",
    "    possible_successors.clear()\n",
    "    temp = steep_board.copy()\n",
    "    for x in range(n):\n",
    "        up = (x,0)\n",
    "        down = (x,1)\n",
    "        possible_moves.append(up)\n",
    "        possible_moves.append(down)\n",
    "\n",
    "    print(possible_moves)\n",
    "    while not changed or len(possible_moves) == 0:\n",
    "        temp_tup = random.choice(possible_moves)\n",
    "        print(temp_tup)\n",
    "        possible_moves.remove(temp_tup)\n",
    "        print(possible_moves)\n",
    "        if verbose: print(f\"----------{check_num}----------\")\n",
    "        if temp_tup[1] == 0:\n",
    "            if temp[temp_tup[0]] != 0:\n",
    "                temp[temp_tup[0]] -= 1\n",
    "                # print(\"Move up\")\n",
    "                # show_board(temp)\n",
    "                # print(\"here11\")\n",
    "                if verbose: print(f\"{conflicts(temp)} vs.{conflicts(steep_board)}\")\n",
    "                if conflicts(temp) < conflicts(steep_board):\n",
    "                    # print(\"here1\")\n",
    "                    # print(f\"In if {conflicts(temp)} vs.{conflicts(steep_board)}\")\n",
    "                    changed = True\n",
    "                    if verbose: print(f\"Changed: {changed}\")\n",
    "                    temp[temp_tup[0]] += 1\n",
    "                    return temp\n",
    "                    # print(f\"Temp after move up: {temp}\")\n",
    "                    # show_board(temp)\n",
    "                temp[temp_tup[0]] += 1\n",
    "                # print(f\"Temp after move BACK: {temp}\")\n",
    "                # show_board(temp)\n",
    "                # print(\"Back to normal\")\n",
    "                # show_board(temp)\n",
    "        if temp_tup[1] == 1:\n",
    "            if temp[temp_tup[0]] != n-1:\n",
    "                temp[temp_tup[0]] += 1\n",
    "                # print(\"Move down\")\n",
    "                # show_board(temp)\n",
    "                if verbose: print(f\"{conflicts(temp)} vs.{conflicts(steep_board)}\")\n",
    "                if conflicts(temp) < conflicts(steep_board):\n",
    "                    # print(\"here2\")\n",
    "                    # print(f\"In if{conflicts(temp)} vs.{conflicts(steep_board)}\")\n",
    "                    changed = True\n",
    "                    if verbose: print(f\"Changed: {changed}\")\n",
    "                    temp[temp_tup[0]] -= 1\n",
    "                    return temp\n",
    "                    # print(f\"Temp after move down: {temp}\")\n",
    "                    # show_board(temp)\n",
    "                temp[temp_tup[0]] -= 1\n",
    "                # print(f\"Temp after move BACK: {temp}\")\n",
    "                # show_board(temp)\n",
    "\n",
    "    return steep_board\n",
    "\n",
    "def first_choice_hill_climbing(n, verbose = False):\n",
    "    global changed\n",
    "    steep_board = random_board(n)\n",
    "    if verbose: print(\"--------------------Start Board--------------------\")\n",
    "    show_board(steep_board)\n",
    "    current_board = steep_board\n",
    "    print(\"Start\")\n",
    "    better = True\n",
    "    step = 1\n",
    "\n",
    "    while better:\n",
    "        if verbose: print(f\"---------------Step: {step}---------------\")\n",
    "        if step > 10:\n",
    "            return print(\"Break\")\n",
    "        changed = False\n",
    "        steep_board = random_move(steep_board, n, verbose)\n",
    "        if not changed or conflicts(steep_board) == 0:\n",
    "            print(\"Final Board\")\n",
    "            return show_board(steep_board)\n",
    "        print(\"Changed Board\")\n",
    "        show_board(steep_board)\n",
    "        step += 1\n",
    "\n",
    "    return print(\"Best Found\")\n",
    "\n",
    "\n",
    "\n",
    "first_choice_hill_climbing(4)"
   ]
  },
  {
   "cell_type": "markdown",
   "metadata": {},
   "source": [
    "## Task 4: Hill Climbing Search with Random Restarts [10 Points]\n",
    "\n",
    "Hill climbing will often end up in local optima. Restart the each of the three hill climbing algorithm up to 100 times with a random board to find a better (hopefully optimal) solution. Note that restart just means to run the algoithm several times starting with a new random board."
   ]
  },
  {
   "cell_type": "code",
   "execution_count": null,
   "metadata": {},
   "outputs": [],
   "source": [
    "# Code and description go here"
   ]
  },
  {
   "cell_type": "markdown",
   "metadata": {},
   "source": [
    "## Task 5: Compare Performance [20 Points]\n",
    "\n",
    "Use runtime and objective function value to compare the algorithms. \n",
    "\n",
    "* Use boards of different sizes to explore how the different algorithms perform. Make sure that you run the algorithms for each board size several times (at least 10 times) with different starting boards and report averages.\n",
    "\n",
    "* How do the algorithms scale with problem size? Use tables and charts.\n",
    "\n",
    "* What is the largest board each algorithm can solve in a reasonable amount time?\n",
    "\n",
    "See [Profiling Python Code](../Python_Code_Examples/profiling_code.ipynb) for help about how to measure runtime in Python."
   ]
  },
  {
   "cell_type": "code",
   "execution_count": null,
   "metadata": {},
   "outputs": [],
   "source": [
    "# Code, results, charts and discussion go here"
   ]
  },
  {
   "cell_type": "markdown",
   "metadata": {},
   "source": [
    "## Graduate student advanced task: Simulated Annealing [10 Points]\n",
    "\n",
    "__Undergraduate students:__ This is a bonus task you can attempt if you like [+5 Bonus Points].\n",
    "\n",
    "Simulated annealing is a form of stochastic hill climbing that avoid local optima by also allowing downhill moves with a probability proportional to a temperature. The temperature is decreased in every iteration following an annealing schedule. You have to experiment with the annealing schedule (Google to find guidance on this).\n",
    "\n",
    "\n",
    "1. Implement simulated annealing for the n-Queens problem.\n",
    "2. Compare the performance with the previous algorithms. \n",
    "2. Discuss your choice of annealing schedule."
   ]
  },
  {
   "cell_type": "code",
   "execution_count": null,
   "metadata": {
    "tags": []
   },
   "outputs": [],
   "source": [
    "# Code and description go here"
   ]
  },
  {
   "cell_type": "markdown",
   "metadata": {},
   "source": [
    "## More things to do\n",
    "\n",
    "Implement a Genetic Algorithm for the n-Queens problem."
   ]
  },
  {
   "cell_type": "code",
   "execution_count": null,
   "metadata": {
    "tags": []
   },
   "outputs": [],
   "source": [
    "# Code and description go here"
   ]
  }
 ],
 "metadata": {
  "kernelspec": {
   "display_name": "Python 3 (ipykernel)",
   "language": "python",
   "name": "python3"
  },
  "language_info": {
   "codemirror_mode": {
    "name": "ipython",
    "version": 3
   },
   "file_extension": ".py",
   "mimetype": "text/x-python",
   "name": "python",
   "nbconvert_exporter": "python",
   "pygments_lexer": "ipython3",
   "version": "3.9.5"
  },
  "toc-autonumbering": false,
  "toc-showcode": false,
  "toc-showmarkdowntxt": false,
  "toc-showtags": false
 },
 "nbformat": 4,
 "nbformat_minor": 4
}