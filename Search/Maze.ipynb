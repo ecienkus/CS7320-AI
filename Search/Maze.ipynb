{
 "cells": [
  {
   "cell_type": "markdown",
   "metadata": {},
   "source": [
    "# Search: Solving a Maze Using a Goal-based Agent\n",
    "\n",
    "## Instructions\n",
    "\n",
    "Total Points: Undergrads 100 / Graduate students 110\n",
    "\n",
    "Complete this notebook. Use the provided notebook cells and insert additional code and markdown cells as needed. Submit the completely rendered notebook as a PDF file. \n",
    "\n",
    "\n",
    "## Introduction\n",
    "\n",
    "The agent has a map of the maze it is in and the environment is assumed to be **deterministic, discrete, and known.** The agent must use the map to plan a path through the maze from the starting location $S$ to the goal location $G$.  This is a planing exercise for a goal-based agent, so you do not need to implement an environment, just use the map to search for a path. Once the plan is made, the agent in a deterministic environment (i.e., the transition function is deterministic with the outcome of each state/action pair fixed and no randomness) can just follow the path and does not need to care about the percepts.\n",
    "This is also called an **[open-loop system](https://en.wikipedia.org/wiki/Open-loop_controller).**\n",
    "The execution phase is trivial and we do not implement it in this exercise.\n",
    "\n",
    "Tree search algorithm implementations that you find online and used in general algorithms courses have often a different aim. These algorithms assume that you already have a tree in memory. We are interested in dynamically creating a search tree with the aim of finding a good/the best path from the root noteto the goal state. Follow the pseudo code presented in the text book (and replicated in the slides) closely. Ideally, we would like to search only a small part of the maze, i.e., create a search tree with as few nodes as possible. \n",
    "\n",
    "Several mazes for this exercise are stored as text files. Here is the small example maze:"
   ]
  },
  {
   "cell_type": "code",
   "execution_count": 7,
   "metadata": {},
   "outputs": [
    {
     "name": "stdout",
     "output_type": "stream",
     "text": [
      "XXXXXXXXXXXXXXXXXXXXXXXXXXXXXXXXXXXXX\n",
      "X                                  SX\n",
      "X            X                      X\n",
      "X            X                      X\n",
      "X            X                      X\n",
      "X            X                      X\n",
      "X            X                      X\n",
      "X            X      X               X\n",
      "X            X      X               X\n",
      "X            X      X               X\n",
      "X            X      X               X\n",
      "X            X      X               X\n",
      "X            X      X               X\n",
      "X            X      X               X\n",
      "XXXXXXXXXXXXXX      XXXXXXXXXXXXXXXXX\n",
      "X            X                      X\n",
      "X            X                      X\n",
      "X            X                      X\n",
      "X                                   X\n",
      "X                                   X\n",
      "X                                   X\n",
      "XG                                  X\n",
      "XXXXXXXXXXXXXXXXXXXXXXXXXXXXXXXXXXXXX\n",
      "\n"
     ]
    }
   ],
   "source": [
    "with open(\"open_maze.txt\", \"r\") as f:\n",
    "    maze_str = f.read()\n",
    "print(maze_str)"
   ]
  },
  {
   "cell_type": "markdown",
   "metadata": {},
   "source": [
    "__Note:__ The mazes above contains cycles and therefore the state space may not form proper trees unless cycles are prevented. Therfore, you will need to deal with cycle detection in your code."
   ]
  },
  {
   "cell_type": "markdown",
   "metadata": {},
   "source": [
    "## Parsing and pretty printing the maze\n",
    "\n",
    "The maze can also be displayed in color using code in the module [maze_helper.py](maze_helper.py). The code parses the string representing the maze and converts it into a `numpy` 2d array which you can use in your implementation. Position are represented as a 2-tuple of the form `(row, col)`. "
   ]
  },
  {
   "cell_type": "code",
   "execution_count": 8,
   "metadata": {
    "tags": []
   },
   "outputs": [
    {
     "name": "stdout",
     "output_type": "stream",
     "text": [
      "Position(0,0): X\n",
      "Position(8,1):  \n"
     ]
    }
   ],
   "source": [
    "import maze_helper as mh\n",
    "\n",
    "maze = mh.parse_maze(maze_str)\n",
    "\n",
    "# look at a position in the maze by subsetting the 2d array\n",
    "print(\"Position(0,0):\", maze[0, 0])\n",
    "\n",
    "# there is also a helper function called `look(maze, pos)` available\n",
    "# which uses a 2-tuple for the position.\n",
    "print(\"Position(8,1):\", mh.look(maze, (8, 1)))"
   ]
  },
  {
   "cell_type": "markdown",
   "metadata": {},
   "source": [
    "A helper function to visualize the maze is also available."
   ]
  },
  {
   "cell_type": "code",
   "execution_count": 9,
   "metadata": {},
   "outputs": [
    {
     "data": {
      "text/plain": "<Figure size 432x288 with 1 Axes>",
      "image/png": "[encoded data removed]"
     },
     "metadata": {
      "image/png": {
       "width": 368,
       "height": 239
      },
      "needs_background": "light"
     },
     "output_type": "display_data"
    }
   ],
   "source": [
    "%matplotlib inline\n",
    "%config InlineBackend.figure_format = 'retina'\n",
    "# use higher resolution images in notebook\n",
    "\n",
    "mh.show_maze(maze)"
   ]
  },
  {
   "cell_type": "markdown",
   "metadata": {},
   "source": [
    "Find the position of the start and the goal using the helper function `find_pos()`"
   ]
  },
  {
   "cell_type": "code",
   "execution_count": 10,
   "metadata": {},
   "outputs": [
    {
     "name": "stdout",
     "output_type": "stream",
     "text": [
      "Start location: (1, 35)\n",
      "Goal location: (21, 1)\n"
     ]
    }
   ],
   "source": [
    "print(\"Start location:\", mh.find_pos(maze, what = \"S\"))\n",
    "print(\"Goal location:\", mh.find_pos(maze, what = \"G\"))"
   ]
  },
  {
   "cell_type": "markdown",
   "metadata": {},
   "source": [
    "Helper function documentation."
   ]
  },
  {
   "cell_type": "code",
   "execution_count": 11,
   "metadata": {},
   "outputs": [
    {
     "name": "stdout",
     "output_type": "stream",
     "text": [
      "Help on module maze_helper:\n",
      "\n",
      "NAME\n",
      "    maze_helper\n",
      "\n",
      "DESCRIPTION\n",
      "    Code for the Maze Assignment by Michael Hahsler\n",
      "    Usage: \n",
      "        import maze_helper as mh\n",
      "        mh.show_some_mazes()\n",
      "\n",
      "FUNCTIONS\n",
      "    find_pos(maze, what='S')\n",
      "        Find start/goal in a maze and returns the first one. \n",
      "        Caution: there is no error checking!\n",
      "        \n",
      "        Parameters:\n",
      "        maze: a array with characters prodced by parse_maze()\n",
      "        what: the letter to be found ('S' for start and 'G' for goal)\n",
      "        \n",
      "        Returns:\n",
      "        a tupple (x, y) for the found position.\n",
      "    \n",
      "    look(maze, pos)\n",
      "        Look at the label of a square with the position as an array of the form (x, y).\n",
      "    \n",
      "    parse_maze(maze_str)\n",
      "        Convert a maze as a string into a 2d numpy array\n",
      "    \n",
      "    show_maze(maze, fontsize=10)\n",
      "        Display a (parsed) maze as an image.\n",
      "    \n",
      "    welcome()\n",
      "        Welcome message.\n",
      "\n",
      "FILE\n",
      "    c:\\users\\evere\\onedrive\\documents\\github\\cs7320-ai\\search\\maze_helper.py\n",
      "\n",
      "\n"
     ]
    }
   ],
   "source": [
    "help(mh)"
   ]
  },
  {
   "cell_type": "markdown",
   "metadata": {},
   "source": [
    "## Tree structure\n",
    "\n",
    "Here is an implementation of the basic node structure for the search algorithms (see Fig 3.7 on page 73). I have added a method that extracts the path from the root node to the current node. It can be used to get the path when the search is completed."
   ]
  },
  {
   "cell_type": "code",
   "execution_count": 12,
   "metadata": {},
   "outputs": [],
   "source": [
    "class Node:\n",
    "    def __init__(self, pos, parent, action, cost):\n",
    "        self.pos = tuple(pos)    # the state; positions are (row,col)\n",
    "        self.parent = parent     # reference to parent node. None means root node.\n",
    "        self.action = action     # action used in the transition function (root node has None)\n",
    "        self.cost = cost         # for uniform cost this is the depth. It is also g(n) for A* search\n",
    "\n",
    "    def __str__(self):\n",
    "        return f\"Node - pos = {self.pos}; action = {self.action}; cost = {self.cost}\"\n",
    "    \n",
    "    def get_path_from_root(self):\n",
    "        \"\"\"returns nodes on the path from the root to the current node.\"\"\"\n",
    "        node = self\n",
    "        path = [node]\n",
    "    \n",
    "        while not node.parent is None:\n",
    "            node = node.parent\n",
    "            path.append(node)\n",
    "        \n",
    "        path.reverse()\n",
    "        \n",
    "        return(path)"
   ]
  },
  {
   "cell_type": "markdown",
   "metadata": {},
   "source": [
    "If needed, then you can add more fields to the class like the heuristic value $h(n)$ or $f(n)$.\n",
    "\n",
    "Examples for how to create and use a tree and information on memory management can be found [here](../Python_Code_Examples/trees.ipynb)."
   ]
  },
  {
   "cell_type": "markdown",
   "metadata": {},
   "source": [
    "# Tasks\n",
    "\n",
    "The goal is to:\n",
    "\n",
    "1. Implement the following search algorithms for solving different mazes:\n",
    "\n",
    "    - Breadth-first search (BFS)\n",
    "    - Depth-first search (DFS)\n",
    "    - Greedy best-first search (GBFS)\n",
    "    - A* search\n",
    "\n",
    "2. Run each of the above algorithms on the \n",
    "    - [small maze](small_maze.txt), \n",
    "    - [medium maze](medium_maze.txt), \n",
    "    - [large maze](large_maze.txt), \n",
    "    - [open maze](open_maze.txt),\n",
    "    - [wall maze](wall_maze.txt),\n",
    "    - [loops maze](loops_maze.txt),\n",
    "    - [empty maze](empty_maze.txt), and\n",
    "    - [empty 2_maze](empty_2_maze.txt).\n",
    "    \n",
    "3. For each problem instance and each search algorithm, report the following in a table:\n",
    "\n",
    "    - The solution and its path cost\n",
    "    - Total number of nodes expanded\n",
    "    - Maximum tree depth\n",
    "    - Maximum size of the frontier\n",
    "\n",
    "4. Display each solution by marking every maze square (or state) visited and the squares on the final path.\n",
    "\n",
    "## General [10 Points]\n",
    "\n",
    "1. Make sure that you use the latest version of this notebook. Sync your forked repository and pull the latest revision. \n",
    "2. Your implementation can use libraries like math, numpy, scipy, but not libraries that implement inteligent agents or complete search algorithms. Try to keep the code simple! In this course, we want to learn about the algorithms and we often do not need to use object-oriented design.\n",
    "3. You notebook needs to be formated professionally. \n",
    "    - Add additional markdown blocks for your description, comments in the code, add tables and use mathplotlib to produce charts where appropriate\n",
    "    - Do not show debugging output or include an excessive amount of output.\n",
    "    - Check that your PDF file is readable. For example, long lines are cut off in the PDF file. You don't have control over page breaks, so do not worry about these.\n",
    "4. Document your code. Add a short discussion of how your implementation works and your design choices."
   ]
  },
  {
   "cell_type": "markdown",
   "metadata": {},
   "source": [
    "## Task 1: Defining the search problem and determining the problem size [10 Points]\n",
    "\n",
    "Define the components of the search problem:\n",
    "\n",
    "* Initial state\n",
    "* Actions\n",
    "* Transition model\n",
    "* Goal state\n",
    "* Path cost\n",
    "\n",
    "Use verbal descriptions, variables and equations as appropriate. \n",
    "\n",
    "*Note:* You can swich the next block from code to Markdown and use formating."
   ]
  },
  {
   "cell_type": "markdown",
   "metadata": {
    "pycharm": {
     "name": "#%% md\n"
    }
   },
   "source": [
    "#### Initial state\n",
    "* The Search is at the starting position and no tiles have been searched yet\n",
    "\n",
    "#### Actions\n",
    "* Move (North, South, East, West)\n",
    "* Check if the tile is the goal tile\n",
    "\n",
    "#### Transition model\n",
    "* Actions (North, South, East, West) checks the adjacent tile in the direction of the coordinate\n",
    "\n",
    "#### Goal state\n",
    "* The Search algorithm has found the goal tile.\n",
    "\n",
    "#### Path cost\n",
    "* For every new tile found the tree size increases my one node\n",
    "* For every action there is one more time unit added to the total time cost\n",
    "\n",
    "\n"
   ]
  },
  {
   "cell_type": "markdown",
   "metadata": {},
   "source": [
    "Give some estimates for the problem size:\n",
    "\n",
    "* $n$: state space size\n",
    "* $d$: depth of the optimal solution\n",
    "* $m$: maximum depth of tree\n",
    "* $b$: maximum branching factor\n",
    "\n",
    "Describe how you would determin these values for a given maze."
   ]
  },
  {
   "cell_type": "markdown",
   "metadata": {
    "pycharm": {
     "name": "#%% md\n"
    }
   },
   "source": [
    "### (Assume that the height of the maze is h, the width of the maze is w, and the number of barriers = b)\n",
    "#### $n$: state space size\n",
    "*\n",
    "* Max state space: (2^(h*w)) * (h*w)\n",
    "    * This is the max state space because if there are any barriers in the maze\n",
    "        it would be (2^(h*w-b)) * (h*w-b)\n",
    "* Explanation:\n",
    "    * (2^(h*w)): Each tile can be searched or unsearched\n",
    "    * (h*w) The location of the current search algorithm\n",
    "\n",
    "#### $d$: depth of the optimal solution\n",
    "* The depth of the optimal solution would be the depth of the search algorithm that chooses the correct node to branch to follow each time there was time to make a decision. This means that it would be that length of the path that takes the shortest route to get to the goal state and if it was put into a situation where it would have to renavigate (due to a barrier) it would take the shortest route from where it got stuck to the next free path to the node.\n",
    "\n",
    "#### $m$: maximum depth of tree\n",
    "* For BFS\n",
    "    * The Maximum depth of the tree would be the shortest path from the start tile to the goal tile\n",
    "* For DFS\n",
    "    * It could possibly be the entire maze (h*w-b). This would happen if the entire maze was a basin that the search algorithm \"snaked\" through until it finally got to the goal state. For example: There coule be a maze that is the width of 2 and really tall. The start of the maze is to the right of the goal tile, but the DFS algorithm goes down first and then back up. This would have a depth of the entire maze.\n",
    "* For A*/Greedy Best First Search\n",
    "    * It would be inbetween the shortest and the longest path. Each maze would produce a different outcome because a maze that have a walls like open_maze.txt, would heavily trick the search algorithm into getting suck in a \"basin\". Based on what actions come first as they feed into the search algorithm also has a lot to do with how the algorithm will handle the maze. If there is an open maze besides basin to the north-west, but the actions are south and then west, then the algorithm would never go towards the basin and get stuck. I guess the maximum depth of the tree would be the sortest route from start to finish plus the additional routes needed to get out of a misleading path. I can not come up with an exact equation for this though because all the different mazes and the directions the maze favors based on the actions that are fed in first. These algorithms are different from DFS because they can start at new nodes based off of the logic that they have in their function to chose the next node to branch from.\n",
    "#### $b$: maximum branching factor\n",
    "* The maximum branching factor is 4 because the search algorithm can take 1 of 4 paths. It can move North, South, East or West)"
   ]
  },
  {
   "cell_type": "markdown",
   "metadata": {},
   "source": [
    "## Task 2: Uninformed search: Breadth-first and depth-first [40 Points]\n",
    "\n",
    "Implement these search strategies. Follow the pseudocode in the textbook/slides. You can use the tree structure shown above to extract the final path from your solution.\n",
    "\n",
    "__Notes:__\n",
    "* You can find maze solving implementations online that use the map to store information. While this is an effective idea for this two-dimensional navigation problem, it typically cannot be used for other search problems. Therefore, follow the textbook and only store information in the tree created during search, and use the `reached` and `frontier` data structures.\n",
    "* DSF can be implemented using the BFS tree search algorithm and simply changing the order in which the frontier is expanded (this is equivalent to best-first search with path length as the criterion to expand the next node). However, to take advantage of the significantly smaller memory footprint of DFS, you need to implement DFS in a different way without a `reached` data structure and by releasing the memory for nodes that are not needed anymore. \n",
    "* If DFS does not use a `reached` data structure, then its cycle checking abilities are limited. Remember, that DSF is incomplete if cycles cannot be prevented. You will see in your experiments that open spaces are a problem."
   ]
  },
  {
   "cell_type": "code",
   "execution_count": 75,
   "metadata": {},
   "outputs": [
    {
     "name": "stdout",
     "output_type": "stream",
     "text": [
      "Path Cost : 72\n",
      "# of nodes expanded: 87\n",
      "Max Tree Depth : 73\n",
      "max# of nodes in memory: 175\n",
      "Max Frontier size: 91\n",
      "Goal Found: Node - pos = (2, 9); action = east; cost = 72\n"
     ]
    }
   ],
   "source": [
    "actions = [\"north\", \"east\", \"west\", \"south\"]\n",
    "reached = []\n",
    "\n",
    "def expand(maze, node, verbose):\n",
    "    global reached\n",
    "    s = node.pos\n",
    "    new_position = None\n",
    "    for action in actions:\n",
    "        if action == \"north\":\n",
    "            y = int(s[0] - 1)\n",
    "            x = int(s[1])\n",
    "            if maze[y, x] == \"X\" or (y, x) in reached:\n",
    "                new_position = None\n",
    "            else:\n",
    "                new_position = (y,x)\n",
    "                if verbose is True:\n",
    "                    maze[y, x] = node.cost + 1\n",
    "                    mh.show_maze(maze)\n",
    "        elif action == \"east\":\n",
    "            y = int(s[0])\n",
    "            x = int(s[1] + 1)\n",
    "            if maze[y, x] == \"X\" or (y, x) in reached:\n",
    "                new_position = None\n",
    "            else:\n",
    "                new_position = (y,x)\n",
    "                if verbose is True:\n",
    "                    maze[y, x] = node.cost + 1\n",
    "                    mh.show_maze(maze)\n",
    "        elif action == \"west\":\n",
    "            y = int(s[0])\n",
    "            x = int(s[1] - 1)\n",
    "            if maze[y, x] == \"X\" or (y, x) in reached:\n",
    "                new_position = None\n",
    "            else:\n",
    "                new_position = (y,x)\n",
    "                if verbose is True:\n",
    "                    maze[y, x] = node.cost + 1\n",
    "                    mh.show_maze(maze)\n",
    "        elif action == \"south\":\n",
    "            y = int(s[0] + 1)\n",
    "            x = int(s[1])\n",
    "            if maze[y, x] == \"X\" or (y, x) in reached:\n",
    "                new_position = None\n",
    "            else:\n",
    "                new_position = (y,x)\n",
    "                if verbose is True:\n",
    "                    maze[y, x] = node.cost + 1\n",
    "                    mh.show_maze(maze)\n",
    "        cost = node.cost + 1\n",
    "        if new_position is not None:\n",
    "            yield Node(new_position, node, action, cost)\n",
    "\n",
    "def breadth_first_search(problem, verbose = False):\n",
    "    global reached\n",
    "    frontier = []\n",
    "    with open(problem, \"r\") as f:\n",
    "        maze_str = f.read()\n",
    "    maze = mh.parse_maze(maze_str)\n",
    "\n",
    "    %matplotlib inline\n",
    "    %config InlineBackend.figure_format = 'retina'\n",
    "\n",
    "    mh.show_maze(maze)\n",
    "\n",
    "    cur_node = Node(mh.find_pos(maze, what = \"S\"),None,None,0)\n",
    "    if mh.find_pos(maze, what = \"G\") == cur_node.pos:\n",
    "        return print(cur_node)\n",
    "    frontier.append(cur_node)\n",
    "    reached.append(cur_node.pos)\n",
    "    max_frontier = 1\n",
    "    max_depth = 1\n",
    "\n",
    "    while frontier:\n",
    "        if max_frontier < len(frontier):\n",
    "            max_frontier = len(frontier)\n",
    "        if max_depth < len(cur_node.get_path_from_root()):\n",
    "            max_depth = len(cur_node.get_path_from_root())\n",
    "        cur_node = frontier.pop(0)\n",
    "        yld = expand(maze, cur_node, verbose)\n",
    "        for child in yld:\n",
    "            s = child.pos\n",
    "            if mh.find_pos(maze, what = \"G\") == s:\n",
    "                cost = child.cost\n",
    "                print(f\"Path Cost : {cost}\")\n",
    "                num_of_nodes_expanded = len(reached)\n",
    "                print(f\"# of nodes expanded: {num_of_nodes_expanded}\")\n",
    "                print(f\"Max Tree Depth : {max_depth}\")\n",
    "                print(f\"max# of nodes in memory: {len(reached) + len(frontier)}\")\n",
    "                print(f\"Max Frontier size: {max_frontier}\")\n",
    "                return print(f\"Goal Found: {child}\")\n",
    "            else:\n",
    "                if s not in reached:\n",
    "                    reached.append(s)\n",
    "                    frontier.append(child)\n",
    "    return print(\"Failure\")\n",
    "\n",
    "def expandDFS(maze, node, verbose):\n",
    "    global reached\n",
    "    # print(reached)\n",
    "    new_position = None\n",
    "    s = node.pos\n",
    "    for action in actions:\n",
    "        if action == \"north\":\n",
    "            y = int(s[0] - 1)\n",
    "            x = int(s[1])\n",
    "            if maze[y, x] == \"X\":\n",
    "                new_position = None\n",
    "            else:\n",
    "                new_position = (y,x)\n",
    "                if verbose is True:\n",
    "                    maze[y, x] = node.cost + 1\n",
    "                    mh.show_maze(maze)\n",
    "        elif action == \"east\":\n",
    "            y = int(s[0])\n",
    "            x = int(s[1] + 1)\n",
    "            if maze[y, x] == \"X\":\n",
    "                new_position = None\n",
    "            else:\n",
    "                new_position = (y,x)\n",
    "                if verbose is True:\n",
    "                    maze[y, x] = node.cost + 1\n",
    "                    mh.show_maze(maze)\n",
    "        elif action == \"west\":\n",
    "            y = int(s[0])\n",
    "            x = int(s[1] - 1)\n",
    "            if maze[y, x] == \"X\":\n",
    "                new_position = None\n",
    "            else:\n",
    "                new_position = (y,x)\n",
    "                if verbose is True:\n",
    "                    maze[y, x] = node.cost + 1\n",
    "                    mh.show_maze(maze)\n",
    "        elif action == \"south\":\n",
    "            y = int(s[0] + 1)\n",
    "            x = int(s[1])\n",
    "            if maze[y, x] == \"X\":\n",
    "                new_position = None\n",
    "            else:\n",
    "                new_position = (y,x)\n",
    "                if verbose is True:\n",
    "                    maze[y, x] = node.cost + 1\n",
    "                    mh.show_maze(maze)\n",
    "        cost = node.cost + 1\n",
    "        if new_position is not None:\n",
    "            yield Node(new_position, node, action, cost)\n",
    "\n",
    "def check_if_duplicates(my_list):\n",
    "    if len(my_list) == len(set(my_list)):\n",
    "        return False\n",
    "    else:\n",
    "        return True\n",
    "\n",
    "def cycle(node):\n",
    "    pos_path = []\n",
    "    path = node.get_path_from_root()\n",
    "    for x in path:\n",
    "        pos_path.append(x.pos)\n",
    "    return check_if_duplicates(pos_path)\n",
    "\n",
    "def depth_first_search(problem, l, verbose = False):\n",
    "    frontier = []\n",
    "    result = \"Failure\"\n",
    "    with open(problem, \"r\") as f:\n",
    "        maze_str = f.read()\n",
    "    maze = mh.parse_maze(maze_str)\n",
    "\n",
    "    %matplotlib inline\n",
    "    %config InlineBackend.figure_format = 'retina'\n",
    "\n",
    "    cur_node = Node(mh.find_pos(maze, what = \"S\"),None,None,0)\n",
    "\n",
    "    frontier.append(cur_node)\n",
    "\n",
    "    max_frontier = 1\n",
    "    max_depth = 1\n",
    "    num_of_nodes_expanded_DFS = [] #For Analytics only not for algorithm logic\n",
    "\n",
    "    while frontier:\n",
    "        if max_frontier < len(frontier):\n",
    "            max_frontier = len(frontier)\n",
    "        if max_depth < len(cur_node.get_path_from_root()):\n",
    "            max_depth = len(cur_node.get_path_from_root())\n",
    "        cur_node = frontier.pop()\n",
    "        if mh.find_pos(maze, what = \"G\") == cur_node.pos:\n",
    "            cost = cur_node.cost\n",
    "            print(f\"Path Cost : {cost}\")\n",
    "            print(f\"# of nodes expanded: {len(num_of_nodes_expanded_DFS)}\")\n",
    "            print(f\"Max Tree Depth : {max_depth}\")\n",
    "            print(f\"max# of nodes in memory: {len(num_of_nodes_expanded_DFS) + len(frontier)}\")\n",
    "            print(f\"Max Frontier size: {max_frontier}\")\n",
    "            return print(f\"Goal Found: {cur_node}\")\n",
    "        if cur_node.cost > l:\n",
    "            result = \"cutoff\"\n",
    "            return result\n",
    "        else:\n",
    "            if not cycle(cur_node):\n",
    "                yld = expandDFS(maze, cur_node, verbose)\n",
    "\n",
    "                for child in yld:\n",
    "                    frontier.append(child)\n",
    "                    if child.pos not in num_of_nodes_expanded_DFS:\n",
    "                        num_of_nodes_expanded_DFS.append(child.pos)\n",
    "\n",
    "    return result\n",
    "\n",
    "# Tests Ran\n",
    "\n",
    "# breadth_first_search(\"small_maze.txt\")\n",
    "# breadth_first_search(\"medium_maze.txt\")\n",
    "# breadth_first_search(\"large_maze.txt\")\n",
    "# breadth_first_search(\"empty_maze.txt\")\n",
    "# breadth_first_search(\"empty_2_maze.txt\")\n",
    "# breadth_first_search(\"L_maze.txt\")\n",
    "# breadth_first_search(\"loops_maze.txt\")\n",
    "# breadth_first_search(\"open_maze.txt\")\n",
    "# breadth_first_search(\"wall_maze.txt\")\n",
    "\n",
    "\n",
    "\n",
    "# depth_first_search(\"small_maze.txt\", 1000)\n",
    "# depth_first_search(\"medium_maze.txt\", 1000)\n",
    "# depth_first_search(\"large_maze.txt\", 1000)\n",
    "# depth_first_search(\"empty_maze.txt\", 1000)\n",
    "# depth_first_search(\"empty_2_maze.txt\", 1000)\n",
    "# depth_first_search(\"L_maze.txt\", 1000)\n",
    "# depth_first_search(\"loops_maze.txt\", 1000)\n",
    "# depth_first_search(\"open_maze.txt\", 1000)\n",
    "# depth_first_search(\"wall_maze.txt\", 1000)\n",
    "\n",
    "\n"
   ]
  },
  {
   "cell_type": "markdown",
   "metadata": {},
   "source": [
    "How does BFS and DFS deal with loops (cycles)?"
   ]
  },
  {
   "cell_type": "markdown",
   "metadata": {
    "pycharm": {
     "name": "#%% md\n"
    }
   },
   "source": [
    "#### BFS\n",
    "* BFS deals with cycles by keeping a list of tiles that it has already reached and it does not search back to a tile that it has already reached\n",
    "#### DFS\n",
    "* DFS deals with cycles by checking its current path to see if it has the next tile in its path. If it does, then it choses another route."
   ]
  },
  {
   "cell_type": "markdown",
   "metadata": {},
   "source": [
    "Are your implementations complete and optimal? Explain why. What is the time and space complexity of each of **your** implementations?"
   ]
  },
  {
   "cell_type": "markdown",
   "metadata": {
    "pycharm": {
     "name": "#%% md\n"
    }
   },
   "source": [
    "(Assume d = the depth of the tree and maximum depth is m)\n",
    "\n",
    "#### BFS\n",
    "* Complete?\n",
    "    * Yes this algorithm is complete because it will eventually find the goal no matter how long it will take\n",
    "* Optimal?\n",
    "    * Yes this algorithm is optimal because it finds the shortest possible path from the start to the goal state and the final path makes all the right turns to make the distance the shortest possible distance. This is because the step coasts are all the same and it takes one step closer to the goal state with each \"ripple\".\n",
    "* Time complexity\n",
    "    * 1 + 4 + 4^2^ + ... 4^d^ = O(4^d^)\n",
    "* Space complexity\n",
    "    * O(4^d^) same as time complexity\n",
    "#### DFS\n",
    "* Complete?\n",
    "    * Yes this algorithm is complete because it will eventually find the goal no matter how long it will take\n",
    "* Optimal?\n",
    "    * No this algorithm is not optimal because it can take paths that are not the shortest possible path from the start location to the goal location. This is because the algorithm freely searches down any path and each expansion of each node does not guaranty that it is getting closer to the goal state like BFS.\n",
    "* Time complexity\n",
    "    * This depends on the maze and how the actions are fed into the algorithm. It is O(b^m^). This could be good or worse than BFS depending on the maze.\n",
    "* Space complexity\n",
    "    * O(4m) this is the path taken plus all of it's frontier nodes"
   ]
  },
  {
   "cell_type": "markdown",
   "metadata": {},
   "source": [
    "## Task 3: Informed search: Implement greedy best-first search and A* search  [20 Points]\n",
    "\n",
    "You can use the map to estimate the distance from your current position to the goal using the Manhattan distance (see https://en.wikipedia.org/wiki/Taxicab_geometry) as a heuristic function. Both algorithms are based on Best-First search which requires only a small change from the BFS algorithm you have already implemented (see textbook/slides). "
   ]
  },
  {
   "cell_type": "code",
   "execution_count": 108,
   "metadata": {},
   "outputs": [
    {
     "data": {
      "text/plain": "<Figure size 432x288 with 1 Axes>",
      "image/png": "[encoded data removed]"
     },
     "metadata": {
      "image/png": {
       "width": 251,
       "height": 248
      },
      "needs_background": "light"
     },
     "output_type": "display_data"
    },
    {
     "name": "stdout",
     "output_type": "stream",
     "text": [
      "Path Cost : 14\n",
      "# of nodes expanded: 41\n",
      "Max Tree Depth : 13\n",
      "max# of nodes in memory: 68\n",
      "Max Frontier size: 27\n",
      "Goal Found: Node - pos = (2, 9); action = east; cost = 14\n"
     ]
    }
   ],
   "source": [
    "reachedGBFS = {}\n",
    "reached_A_Star = {}\n",
    "\n",
    "def expands(maze, node, verbose):\n",
    "    global reachedGBFS\n",
    "    new_position = None\n",
    "    s = node.pos\n",
    "    for action in actions:\n",
    "        if action == \"north\":\n",
    "            y = int(s[0] - 1)\n",
    "            x = int(s[1])\n",
    "            if maze[y, x] == \"X\" or (y, x) in reachedGBFS:\n",
    "                new_position = None\n",
    "            else:\n",
    "                new_position = (y,x)\n",
    "                if verbose is True:\n",
    "                    maze[y, x] = node.cost + 1\n",
    "                    mh.show_maze(maze)\n",
    "        elif action == \"east\":\n",
    "            y = int(s[0])\n",
    "            x = int(s[1] + 1)\n",
    "            if maze[y, x] == \"X\" or (y, x) in reachedGBFS:\n",
    "                new_position = None\n",
    "            else:\n",
    "                new_position = (y,x)\n",
    "                if verbose is True:\n",
    "                    maze[y, x] = node.cost + 1\n",
    "                    mh.show_maze(maze)\n",
    "        elif action == \"west\":\n",
    "            y = int(s[0])\n",
    "            x = int(s[1] - 1)\n",
    "            if maze[y, x] == \"X\" or (y, x) in reachedGBFS:\n",
    "                new_position = None\n",
    "            else:\n",
    "                new_position = (y,x)\n",
    "                if verbose is True:\n",
    "                    maze[y, x] = node.cost + 1\n",
    "                    mh.show_maze(maze)\n",
    "        elif action == \"south\":\n",
    "            y = int(s[0] + 1)\n",
    "            x = int(s[1])\n",
    "            if maze[y, x] == \"X\" or (y, x) in reachedGBFS:\n",
    "                new_position = None\n",
    "            else:\n",
    "                new_position = (y,x)\n",
    "                if verbose is True:\n",
    "                    maze[y, x] = node.cost + 1\n",
    "                    mh.show_maze(maze)\n",
    "        cost = node.cost + 1\n",
    "        if new_position is not None:\n",
    "            yield Node(new_position, node, action, cost)\n",
    "\n",
    "def greedy_best_first_search(problem, verbose = False):\n",
    "    global reachedGBFS\n",
    "    frontier = []\n",
    "    with open(problem, \"r\") as f:\n",
    "        maze_str = f.read()\n",
    "    maze = mh.parse_maze(maze_str)\n",
    "\n",
    "    %matplotlib inline\n",
    "    %config InlineBackend.figure_format = 'retina'\n",
    "\n",
    "    goal = mh.find_pos(maze, what = \"G\")\n",
    "    mh.show_maze(maze)\n",
    "\n",
    "    cur_node = Node(mh.find_pos(maze, what = \"S\"),None,None,0)\n",
    "    if mh.find_pos(maze, what = \"G\") == cur_node.pos:\n",
    "        return print(cur_node)\n",
    "\n",
    "    frontier.append(cur_node)\n",
    "    reachedGBFS[cur_node.pos]= cur_node\n",
    "    print(\"Start WHILE\")\n",
    "\n",
    "    max_frontier = 1\n",
    "    max_depth = 1\n",
    "\n",
    "    while frontier:\n",
    "        if max_frontier < len(frontier):\n",
    "            max_frontier = len(frontier)\n",
    "        if max_depth < len(cur_node.get_path_from_root()):\n",
    "            max_depth = len(cur_node.get_path_from_root())\n",
    "        cur_node = frontier[0]\n",
    "        x_distance = abs(goal[1] - cur_node.pos[1])\n",
    "        y_distance = abs(goal[0] - cur_node.pos[0])\n",
    "        cur_distance = x_distance + y_distance\n",
    "        index = 0\n",
    "        new_index = 0\n",
    "        for i in frontier:\n",
    "            temp_x_distance = abs(goal[1] - i.pos[1])\n",
    "            temp_y_distance = abs(goal[0] - i.pos[0])\n",
    "            temp_distance = temp_x_distance + temp_y_distance\n",
    "            if temp_distance < cur_distance:\n",
    "                cur_node = i\n",
    "                x_distance = abs(goal[1] - cur_node.pos[1])\n",
    "                y_distance = abs(goal[0] - cur_node.pos[0])\n",
    "                cur_distance = x_distance + y_distance\n",
    "                new_index = index\n",
    "            index += 1\n",
    "        cur_node = frontier.pop(new_index)\n",
    "\n",
    "\n",
    "        yld = expands(maze, cur_node, verbose)\n",
    "        for child in yld:\n",
    "            s = child.pos\n",
    "            if mh.find_pos(maze, what = \"G\") == s:\n",
    "                cost = child.cost\n",
    "                print(f\"Path Cost : {cost}\")\n",
    "                num_of_nodes_expanded = len(reachedGBFS)\n",
    "                print(f\"# of nodes expanded: {num_of_nodes_expanded}\")\n",
    "                print(f\"Max Tree Depth : {max_depth}\")\n",
    "                print(f\"max# of nodes in memory: {len(reachedGBFS) + len(frontier)}\")\n",
    "                print(f\"Max Frontier size: {max_frontier}\")\n",
    "                return print(f\"Goal Found: {child}\")\n",
    "            else:\n",
    "                if s not in reachedGBFS:\n",
    "                    reachedGBFS[s]= child\n",
    "                    frontier.append(child)\n",
    "    return print(\"Failure\")\n",
    "\n",
    "\n",
    "def expanda(maze, node, verbose):\n",
    "    global reachedGBFS\n",
    "    new_position = None\n",
    "    s = node.pos\n",
    "    for action in actions:\n",
    "        if action == \"north\":\n",
    "            y = int(s[0] - 1)\n",
    "            x = int(s[1])\n",
    "            if maze[y, x] == \"X\" or (y, x) in reached_A_Star:\n",
    "                new_position = None\n",
    "            else:\n",
    "                new_position = (y,x)\n",
    "                if verbose is True:\n",
    "                    maze[y, x] = node.cost + 1\n",
    "                    mh.show_maze(maze)\n",
    "        elif action == \"east\":\n",
    "            y = int(s[0])\n",
    "            x = int(s[1] + 1)\n",
    "            if maze[y, x] == \"X\" or (y, x) in reached_A_Star:\n",
    "                new_position = None\n",
    "            else:\n",
    "                new_position = (y,x)\n",
    "                if verbose is True:\n",
    "                    maze[y, x] = node.cost + 1\n",
    "                    mh.show_maze(maze)\n",
    "        elif action == \"west\":\n",
    "            y = int(s[0])\n",
    "            x = int(s[1] - 1)\n",
    "            if maze[y, x] == \"X\" or (y, x) in reached_A_Star:\n",
    "                new_position = None\n",
    "            else:\n",
    "                new_position = (y,x)\n",
    "                if verbose is True:\n",
    "                    maze[y, x] = node.cost + 1\n",
    "                    mh.show_maze(maze)\n",
    "        elif action == \"south\":\n",
    "            y = int(s[0] + 1)\n",
    "            x = int(s[1])\n",
    "            if maze[y, x] == \"X\" or (y, x) in reached_A_Star:\n",
    "                new_position = None\n",
    "            else:\n",
    "                new_position = (y,x)\n",
    "                if verbose is True:\n",
    "                    maze[y, x] = node.cost + 1\n",
    "                    mh.show_maze(maze)\n",
    "        cost = node.cost + 1\n",
    "        if new_position is not None:\n",
    "            yield Node(new_position, node, action, cost)\n",
    "\n",
    "def a_star_search(problem, verbose = False):\n",
    "    global reached_A_Star\n",
    "    frontier = []\n",
    "    with open(problem, \"r\") as f:\n",
    "        maze_str = f.read()\n",
    "    maze = mh.parse_maze(maze_str)\n",
    "\n",
    "    %matplotlib inline\n",
    "    %config InlineBackend.figure_format = 'retina'\n",
    "\n",
    "    goal = mh.find_pos(maze, what = \"G\")\n",
    "    mh.show_maze(maze)\n",
    "\n",
    "    cur_node = Node(mh.find_pos(maze, what = \"S\"),None,None,0)\n",
    "    if mh.find_pos(maze, what = \"G\") == cur_node.pos:\n",
    "        return print(cur_node)\n",
    "\n",
    "    frontier.append(cur_node)\n",
    "    reached_A_Star[cur_node.pos]= cur_node\n",
    "\n",
    "    max_frontier = 1\n",
    "    max_depth = 1\n",
    "\n",
    "    while frontier:\n",
    "        if max_frontier < len(frontier):\n",
    "            max_frontier = len(frontier)\n",
    "        if max_depth < len(cur_node.get_path_from_root()):\n",
    "            max_depth = len(cur_node.get_path_from_root())\n",
    "        cur_node = frontier[0]\n",
    "        x_distance = abs(goal[1] - cur_node.pos[1])\n",
    "        y_distance = abs(goal[0] - cur_node.pos[0])\n",
    "        cur_distance = x_distance + y_distance\n",
    "        cur_total_path = x_distance + y_distance + cur_node.cost\n",
    "        index = 0\n",
    "        new_index = 0\n",
    "        for i in frontier:\n",
    "            temp_x_distance = abs(goal[1] - i.pos[1])\n",
    "            temp_y_distance = abs(goal[0] - i.pos[0])\n",
    "            temp_distance = temp_x_distance + temp_y_distance\n",
    "            temp_total_path = temp_x_distance + temp_y_distance + i.cost\n",
    "            if temp_distance < cur_distance and temp_total_path <= cur_total_path:\n",
    "                cur_node = i\n",
    "                x_distance = abs(goal[1] - cur_node.pos[1])\n",
    "                y_distance = abs(goal[0] - cur_node.pos[0])\n",
    "                cur_distance = x_distance + y_distance\n",
    "                cur_total_path = x_distance + y_distance + cur_node.cost\n",
    "                new_index = index\n",
    "            index += 1\n",
    "        cur_node = frontier.pop(new_index)\n",
    "\n",
    "        yld = expands(maze, cur_node, verbose)\n",
    "        for child in yld:\n",
    "            s = child.pos\n",
    "            if mh.find_pos(maze, what = \"G\") == s:\n",
    "                cost = child.cost\n",
    "                print(f\"Path Cost : {cost}\")\n",
    "                num_of_nodes_expanded = len(reached_A_Star)\n",
    "                print(f\"# of nodes expanded: {num_of_nodes_expanded}\")\n",
    "                print(f\"Max Tree Depth : {max_depth}\")\n",
    "                print(f\"max# of nodes in memory: {len(reached_A_Star) + len(frontier)}\")\n",
    "                print(f\"Max Frontier size: {max_frontier}\")\n",
    "                return print(f\"Goal Found: {child}\")\n",
    "            else:\n",
    "                if s not in reached_A_Star:\n",
    "                    reached_A_Star[s]= child\n",
    "                    frontier.append(child)\n",
    "    return print(\"Failure\")\n",
    "\n",
    "# Tests Ran\n",
    "\n",
    "# greedy_best_first_search(\"small_maze.txt\")\n",
    "# greedy_best_first_search(\"medium_maze.txt\")\n",
    "# greedy_best_first_search(\"large_maze.txt\")\n",
    "# greedy_best_first_search(\"empty_maze.txt\")\n",
    "# greedy_best_first_search(\"empty_2_maze.txt\")\n",
    "# greedy_best_first_search(\"L_maze.txt\")\n",
    "# greedy_best_first_search(\"loops_maze.txt\")\n",
    "# greedy_best_first_search(\"open_maze.txt\")\n",
    "# greedy_best_first_search(\"wall_maze.txt\")\n",
    "\n",
    "# a_star_search(\"small_maze.txt\")\n",
    "# a_star_search(\"medium_maze.txt\")\n",
    "# a_star_search(\"large_maze.txt\")\n",
    "# a_star_search(\"empty_maze.txt\")\n",
    "# a_star_search(\"empty_2_maze.txt\")\n",
    "# a_star_search(\"L_maze.txt\")\n",
    "# a_star_search(\"loops_maze.txt\")\n",
    "# a_star_search(\"open_maze.txt\")\n",
    "# a_star_search(\"wall_maze.txt\")\n"
   ]
  },
  {
   "cell_type": "markdown",
   "metadata": {},
   "source": [
    "Are your implementations complete and optimal? What is the time and space complexity?"
   ]
  },
  {
   "cell_type": "markdown",
   "metadata": {
    "pycharm": {
     "name": "#%% md\n"
    }
   },
   "source": [
    "## (Assume d = the depth of the tree and maximum depth is m)\n",
    "\n",
    "#### Greedy Best First Search\n",
    "* Complete?\n",
    "    * Yes this algorithm is complete because it will eventually find the goal no matter how long it will take\n",
    "* Optimal?\n",
    "    * No this algorithm is not optimal because it can take paths that are not the shortest possible path from the start location to the goal location. As seen in the open maze the search algorithm can get stuck and then spead (similar to BFS) out of a basin in the direction away from the goal state. This means that it exahsts too many possible solutions instead of making the correct choice when a decision is to be made.\n",
    "* Time complexity\n",
    "    * Worst case: O(b^m^): This is similar reasoning to DFS\n",
    "    * Best case: O(bm): This is when the maze is set up to make the search the most optimal\n",
    "* Space complexity\n",
    "    * Worst case: O(b^m^): This is similar reasoning to DFS\n",
    "    * Best case: O(bm): This is when the maze is set up to make the search the most optimal\n",
    "#### A*\n",
    "* Complete?\n",
    "    * Yes this algorithm is complete because it will eventually find the goal no matter how long it will take\n",
    "* Optimal?\n",
    "    * Yes this algorithm is optimal because no other search algorithm can expand fewer nodes to find the goal space.\n",
    "* Time complexity\n",
    "    * This depends on the maze and it is the number of node that produce a lower f(n) than the goal path deos.\n",
    "* Space complexity\n",
    "    * This depends on the maze and it is the number of node that produce a lower f(n) than the goal path deos."
   ]
  },
  {
   "cell_type": "markdown",
   "metadata": {},
   "source": [
    "## Task 4: Comparison and discussion [20 Points] \n",
    "\n",
    "Run experiments to compare the implemented algorithms.\n",
    "\n",
    "How to deal with issues:\n",
    "\n",
    "* Your implementation returns unexpected results: Try to debug and fix the code. Visualizing the maze, the current path and the frontier after every step is very helpful. If the code still does not work, then mark the result with an asterisk (*) and describe the issue below the table.\n",
    "\n",
    "* Your implementation cannot consistently solve a specific maze and ends up in an infinite loop:\n",
    "    Debug. If it is a shortcoming of the algorithm/implementation, then put \"N/A*\" in the results table and describe why this is happening."
   ]
  },
  {
   "cell_type": "code",
   "execution_count": null,
   "metadata": {},
   "outputs": [],
   "source": [
    "# Add code"
   ]
  },
  {
   "cell_type": "markdown",
   "metadata": {},
   "source": [
    "Complete the following table for each maze.\n",
    "\n",
    "__Small maze__\n",
    "\n",
    "| algorithm | path cost | # of nodes expanded | max tree depth | max # of nodes in memory | max frontier size |\n",
    "|-----------|-----------|---------------------|----------------|--------------------------|-------------------|\n",
    "| BFS       | 19        | 92                  | 19             | 94                       | 9                 |\n",
    "| DFS       | 29        | 44                  | 29             | 70                       | 27                |\n",
    "| GBS       | 29        | 43                  | 29             | 47                       | 5                 |\n",
    "| A*        | 19        | 59                  | 19             | 64                        | 6                 |\n",
    "\n",
    "__Medium Maze__\n",
    "\n",
    "| algorithm | path cost | # of nodes expanded | max tree depth | max # of nodes in memory | max frontier size |\n",
    "|-----------|-----------|---------------------|----------------|--------------------------|-------------------|\n",
    "| BFS       | 68        | 270                 | 68             | 272                      | 8                 |\n",
    "| DFS       | 76        | 82                  | 76             | 151                      | 70                |\n",
    "| GBS       | 152       | 164                 | 152            | 171                      | 8                 |\n",
    "| A*        | 68        | 229                 | 76             | 233                      | 9                 |\n",
    "\n",
    "__Large Maze__\n",
    "\n",
    "| algorithm | path cost | # of nodes expanded | max tree depth | max # of nodes in memory | max frontier size |\n",
    "|-----------|-----------|---------------------|----------------|--------------------------|-------------------|\n",
    "| BFS       | 210       | 622                 | 210            | 625                      | 9                 |\n",
    "| DFS       | 210       | 397                 | 210            | 547                      | 151               |\n",
    "| GBS       | 210       | 478                 | 210            | 502                      | 25                |\n",
    "| A*        | 210       | 546                 | 209            | 555                      | 14                |\n",
    "\n",
    "__Empty Maze__\n",
    "\n",
    "| algorithm | path cost | # of nodes expanded | max tree depth | max # of nodes in memory | max frontier size |\n",
    "|-----------|-----------|---------------------|----------------|--------------------------|-------------------|\n",
    "| BFS       | 14        | 95                  | 14             | 98                       | 12                |\n",
    "| DFS       | 88        | 92                  | 89             | 212                      | 117               |\n",
    "| GBS       | 14        | 41                  | 14             | 68                       | 27                |\n",
    "| A*        | 14        | 41                  | 13             | 68                       | 27                |\n",
    "\n",
    "__Empty 2 Maze__\n",
    "\n",
    "| algorithm | path cost | # of nodes expanded | max tree depth | max # of nodes in memory | max frontier size |\n",
    "|-----------|-----------|---------------------|----------------|--------------------------|-------------------|\n",
    "| BFS       | 14        | 95                  | 20             | 98                       | 11                |\n",
    "| DFS       | 18        | 43                  | 23             | 84                       | 43                |\n",
    "| GBS       | 14        | 42                  | 14             | 70                       | 27                |\n",
    "| A*        | 14        | 42                  | 13             | 70                       | 27                 |\n",
    "\n",
    "__L Maze__\n",
    "\n",
    "| algorithm | path cost | # of nodes expanded | max tree depth | max # of nodes in memory | max frontier size |\n",
    "|-----------|-----------|---------------------|----------------|--------------------------|-------------------|\n",
    "| BFS       | 14        | 142                 | 14             | 149                      | 18                |\n",
    "| DFS       | 136       | 149                 | 137            | 321                      | 174               |\n",
    "| GBS       | 20        | 46                  | 20             | 69                       | 23                |\n",
    "| A*        | 16        | 49                  | 15             | 70                        | 21                |\n",
    "\n",
    "__Loops Maze__\n",
    "\n",
    "| algorithm | path cost | # of nodes expanded | max tree depth | max # of nodes in memory | max frontier size |\n",
    "|-----------|-----------|---------------------|----------------|--------------------------|-------------------|\n",
    "| BFS       | 23        | 71                  | 22             | 72                       | 8                 |\n",
    "| DFS       | 27        | 41                  | 28             | 59                       | 20                |\n",
    "| GBS       | 23        | 59                  | 23             | 67                       | 9                 |\n",
    "| A*        | 23        | 59                  | 22             | 67                       | 9                 |\n",
    "\n",
    "__Open Maze__\n",
    "\n",
    "| algorithm | path cost | # of nodes expanded | max tree depth | max # of nodes in memory | max frontier size |\n",
    "|-----------|-----------|---------------------|----------------|--------------------------|-------------------|\n",
    "| BFS       | 54        | 683                 | 54             | 658                      | 23                |\n",
    "| DFS       | 149       | 206                 | 146            | 450                      | 245               |\n",
    "| GBS       | 54        | 274                 | 58             | 337                      | 63                |\n",
    "| A*        | 54         | 274                 | 53             | 403                      | 129               |\n",
    "\n",
    "__Wall Maze__\n",
    "\n",
    "| algorithm | path cost | # of nodes expanded | max tree depth | max # of nodes in memory | max frontier size |\n",
    "|-----------|-----------|---------------------|----------------|--------------------------|-------------------|\n",
    "| BFS       | 14        | 88                  | 14             | 91                       | 11                |\n",
    "| DFS       | 72        | 87                  | 73             | 175                      | 91                |\n",
    "| GBS       | 14        | 41                  | 14             | 68                       | 27                |\n",
    "| A*        | 14        | 41                   | 13             | 68                        | 27                |"
   ]
  },
  {
   "cell_type": "markdown",
   "metadata": {},
   "source": [
    "Present the results as using charts (see [Python Code Examples/charts and tables](../Python_Code_Examples/charts_and_tables.ipynb)). "
   ]
  },
  {
   "cell_type": "markdown",
   "metadata": {
    "pycharm": {
     "name": "#%% md\n"
    }
   },
   "source": [
    "# Add charts\n",
    "See Added charts at the bottom"
   ]
  },
  {
   "cell_type": "markdown",
   "metadata": {},
   "source": [
    "Discuss the most important lessons you have learned from implementing the different search strategies. "
   ]
  },
  {
   "cell_type": "markdown",
   "metadata": {
    "pycharm": {
     "name": "#%% md\n"
    }
   },
   "source": [
    "## Discussion\n",
    "\n",
    "I have learned a lot about the different things about search algorithms, and I never thought about the different types before, especially the way that they interact with different mazes. I think I got to learn the most about the algorithms and the way they moved when I was able to see them move step by step with the mazes and see each move the made. This was really cool to me because I was able to understand my code and the way I was programming the algorithm to decide what to do when they had to make a decision on which nodes to expand and which direction is the best to take. The most important lesson I think that I learned was there are many ways to solve a problem, but it might not always be the right solution. There are so many factors that go into a problem and there are many factors to think about to determine which solution is the best or the best for a certain situation. I learned this by analyzing each move that the search algorithms were making and was able to understand that sometimes BFS is the best because it can find the quickest path to the solution, but if there is less space available and the time is important that another one of the algorithms might be better because they will find the goal quicker."
   ]
  },
  {
   "cell_type": "markdown",
   "metadata": {},
   "source": [
    "## Graduate student advanced task: IDS and Multiple goals [10 Points]\n",
    "\n",
    "__Undergraduate students:__ This is a bonus task you can attempt if you like [+5 Bonus Points].\n",
    "\n",
    "Create a few mazes with multiple goals by adding one or two more goals to the medium size maze.\n",
    "Solve the maze with your implementations for DFS, BFS, and implement in addition IDS (iterative deepening search using DFS). \n",
    "\n",
    "Run experiments to show which implementations find the optimal solution and which do not. Discuss why that is the case."
   ]
  },
  {
   "cell_type": "code",
   "execution_count": null,
   "metadata": {},
   "outputs": [],
   "source": [
    "# Your code/answer goes here"
   ]
  },
  {
   "cell_type": "markdown",
   "metadata": {},
   "source": [
    "## More advanced tasks to think about\n",
    "\n",
    "Instead of defining each square as a state, use only intersections as states. Now the storage requirement is reduced, but the path length between two intersections can be different. If we use total path length measured as the number of squares as path cost, how can we make sure that BFS and iterative deepening search is optimal? Change the code to do so."
   ]
  },
  {
   "cell_type": "code",
   "execution_count": null,
   "metadata": {},
   "outputs": [],
   "source": [
    "# Your code/answer goes here"
   ]
  },
  {
   "cell_type": "markdown",
   "metadata": {},
   "source": [
    "Modify your A* search to add weights (see text book) and explore how different weights influence the result."
   ]
  },
  {
   "cell_type": "code",
   "execution_count": null,
   "metadata": {},
   "outputs": [],
   "source": [
    "# Your code/answer goes here"
   ]
  },
  {
   "cell_type": "markdown",
   "metadata": {},
   "source": [
    "What happens if the agent does not know the layout of the maze in advance (i.e., faces an unkown, only partially observable environment)? How does the environment look then (PEAS description)? How would you implement a rational agent to solve the maze? What if the agent still has a GPS device to tell the distance to the goal?"
   ]
  },
  {
   "cell_type": "code",
   "execution_count": null,
   "metadata": {},
   "outputs": [],
   "source": [
    "# Your code/answer goes here"
   ]
  }
 ],
 "metadata": {
  "kernelspec": {
   "display_name": "Python 3 (ipykernel)",
   "language": "python",
   "name": "python3"
  },
  "language_info": {
   "codemirror_mode": {
    "name": "ipython",
    "version": 3
   },
   "file_extension": ".py",
   "mimetype": "text/x-python",
   "name": "python",
   "nbconvert_exporter": "python",
   "pygments_lexer": "ipython3",
   "version": "3.10.2"
  }
 },
 "nbformat": 4,
 "nbformat_minor": 4
}